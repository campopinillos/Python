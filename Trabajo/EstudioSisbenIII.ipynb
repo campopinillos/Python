{
 "metadata": {
  "language_info": {
   "codemirror_mode": {
    "name": "ipython",
    "version": 3
   },
   "file_extension": ".py",
   "mimetype": "text/x-python",
   "name": "python",
   "nbconvert_exporter": "python",
   "pygments_lexer": "ipython3",
   "version": "3.8.5-final"
  },
  "orig_nbformat": 2,
  "kernelspec": {
   "name": "python3",
   "display_name": "Python 3",
   "language": "python"
  }
 },
 "nbformat": 4,
 "nbformat_minor": 2,
 "cells": [
  {
   "cell_type": "code",
   "execution_count": 1,
   "metadata": {},
   "outputs": [],
   "source": [
    "import pandas as pd\n",
    "import numpy as np\n",
    "from datetime import datetime\n",
    "pd.set_option('display.max_columns', None)"
   ]
  },
  {
   "cell_type": "code",
   "execution_count": 4,
   "metadata": {},
   "outputs": [],
   "source": [
    "df = pd.read_csv('C:/Users/jose.nino/Documents/SisbénIIICeroACinco/SisbénIIICeroACinco.csv', sep=\"|\", engine='python',encoding='latin1', nrows=10000)"
   ]
  },
  {
   "cell_type": "code",
   "execution_count": 7,
   "metadata": {},
   "outputs": [
    {
     "output_type": "execute_result",
     "data": {
      "text/plain": [
       "0    9219\n",
       "2     367\n",
       "4     247\n",
       "1     133\n",
       "3      21\n",
       "5      12\n",
       "7       1\n",
       "Name: tipoesta, dtype: int64"
      ]
     },
     "metadata": {},
     "execution_count": 7
    }
   ],
   "source": [
    "df.tipoesta.value_counts()"
   ]
  },
  {
   "cell_type": "code",
   "execution_count": 21,
   "metadata": {},
   "outputs": [
    {
     "output_type": "execute_result",
     "data": {
      "text/plain": [
       "     ficha  depmuni  depto  munic  zona  sector  seccion  manzana  comuna  \\\n",
       "0  5249664    11001     11      1     1    4535       35       41       8   \n",
       "1  5278363    11001     11      1     1    4609        9       85       8   \n",
       "\n",
       "   barrio      nombarrio  vereda           nomvereda  \\\n",
       "0    4535          CLASS       0  BARRIO ZONA URBANA   \n",
       "1    4609  LOS ALMENDROS       0  BARRIO ZONA URBANA   \n",
       "\n",
       "                     direcc  teles  vivienda  pared  piso  energia  alcanta  \\\n",
       "0  KR 80 I 57 H 23 SUR CU 1      0         2      1     3        1        1   \n",
       "1    KR 97 C 42 38 SUR PI 1      0         1      1     2        1        1   \n",
       "\n",
       "   gas  telefono  basura  acueduc  estrato  elimbasura  tcuartosvi  thogar  \\\n",
       "0    1         2       1        1        2           1           1       1   \n",
       "1    1         2       1        1        2           1           1       1   \n",
       "\n",
       "   hogar  teneviv  tcuartos  tdormir  sanitar  usanitar  usosani  tsanitar  \\\n",
       "0      1        1         1        1        1         1        2         1   \n",
       "1      1        1         1        1        1         1        1         1   \n",
       "\n",
       "   ducha  agua  llega  cuandi  suminis  cuanhoras  preparan  cocina  cocinan  \\\n",
       "0      1     1      1       0        1          0         1       2        2   \n",
       "1      1     1      1       0        1          0         1       1        2   \n",
       "\n",
       "   alumbra  usotele  nevera  lavadora  tvcolor  tvcable  calenta  horno  aire  \\\n",
       "0        1        0       1         2        1        1        2      2     2   \n",
       "1        1        0       1         2        1        1        2      2     2   \n",
       "\n",
       "   computador  equipo  moto  tractor  auto1  bieraices  tpersona  recolec  \\\n",
       "0           2       2     2        2      2          2         4        2   \n",
       "1           2       2     2        2      2          2         4        2   \n",
       "\n",
       "      fecha  orden    ape1     ape2   nom1       nom2  sexo  extranjero  \\\n",
       "0  20180906      4  PINEDA  ZULUAGA   SARA  VALENTINA     2           2   \n",
       "1  20181102      4    DIAZ   GARCIA  ERICK   SANTIAGO     1           2   \n",
       "\n",
       "   tipodoc       documen  fechanto  parentes  estcivil  conyuviv  hijosde  \\\n",
       "0        4  1.146140e+09  20170219         3         5         0        0   \n",
       "1        4  1.012451e+09  20160301        11         5         0        3   \n",
       "\n",
       "   serdomes  pagapor  discapa  carnet  embaraza  asiste  tipoesta  grado  \\\n",
       "0         2        2        0       3         2       2         0      0   \n",
       "1         2        2        0       4         2       2         0      0   \n",
       "\n",
       "   nivel  activi  buscando  percibe  ingresos  area  edad  edadc    fecham  \\\n",
       "0      0       0         0        1  103000.0     1     1      3  20180910   \n",
       "1      0       0         0        2       0.0     1     2      4  20181108   \n",
       "\n",
       "   fechamodp  id_reg  marca  nparentes puntaje nomdepto     nommunic  \\\n",
       "0   20180910      31      0          3   25,87   BOGOTA  BOGOTA D.C.   \n",
       "1   20181108      37      0          3   41,39   BOGOTA  BOGOTA D.C.   \n",
       "\n",
       "   NPB_PPSAM  PB_IcbfPI  PB_MinEduca  estado Munic_PreS4 Puntaje_PreS4  count  \n",
       "0          1          1            1       0         NaN           NaN      1  \n",
       "1          0          1            1       0         NaN           NaN      1  "
      ],
      "text/html": "<div>\n<style scoped>\n    .dataframe tbody tr th:only-of-type {\n        vertical-align: middle;\n    }\n\n    .dataframe tbody tr th {\n        vertical-align: top;\n    }\n\n    .dataframe thead th {\n        text-align: right;\n    }\n</style>\n<table border=\"1\" class=\"dataframe\">\n  <thead>\n    <tr style=\"text-align: right;\">\n      <th></th>\n      <th>ficha</th>\n      <th>depmuni</th>\n      <th>depto</th>\n      <th>munic</th>\n      <th>zona</th>\n      <th>sector</th>\n      <th>seccion</th>\n      <th>manzana</th>\n      <th>comuna</th>\n      <th>barrio</th>\n      <th>nombarrio</th>\n      <th>vereda</th>\n      <th>nomvereda</th>\n      <th>direcc</th>\n      <th>teles</th>\n      <th>vivienda</th>\n      <th>pared</th>\n      <th>piso</th>\n      <th>energia</th>\n      <th>alcanta</th>\n      <th>gas</th>\n      <th>telefono</th>\n      <th>basura</th>\n      <th>acueduc</th>\n      <th>estrato</th>\n      <th>elimbasura</th>\n      <th>tcuartosvi</th>\n      <th>thogar</th>\n      <th>hogar</th>\n      <th>teneviv</th>\n      <th>tcuartos</th>\n      <th>tdormir</th>\n      <th>sanitar</th>\n      <th>usanitar</th>\n      <th>usosani</th>\n      <th>tsanitar</th>\n      <th>ducha</th>\n      <th>agua</th>\n      <th>llega</th>\n      <th>cuandi</th>\n      <th>suminis</th>\n      <th>cuanhoras</th>\n      <th>preparan</th>\n      <th>cocina</th>\n      <th>cocinan</th>\n      <th>alumbra</th>\n      <th>usotele</th>\n      <th>nevera</th>\n      <th>lavadora</th>\n      <th>tvcolor</th>\n      <th>tvcable</th>\n      <th>calenta</th>\n      <th>horno</th>\n      <th>aire</th>\n      <th>computador</th>\n      <th>equipo</th>\n      <th>moto</th>\n      <th>tractor</th>\n      <th>auto1</th>\n      <th>bieraices</th>\n      <th>tpersona</th>\n      <th>recolec</th>\n      <th>fecha</th>\n      <th>orden</th>\n      <th>ape1</th>\n      <th>ape2</th>\n      <th>nom1</th>\n      <th>nom2</th>\n      <th>sexo</th>\n      <th>extranjero</th>\n      <th>tipodoc</th>\n      <th>documen</th>\n      <th>fechanto</th>\n      <th>parentes</th>\n      <th>estcivil</th>\n      <th>conyuviv</th>\n      <th>hijosde</th>\n      <th>serdomes</th>\n      <th>pagapor</th>\n      <th>discapa</th>\n      <th>carnet</th>\n      <th>embaraza</th>\n      <th>asiste</th>\n      <th>tipoesta</th>\n      <th>grado</th>\n      <th>nivel</th>\n      <th>activi</th>\n      <th>buscando</th>\n      <th>percibe</th>\n      <th>ingresos</th>\n      <th>area</th>\n      <th>edad</th>\n      <th>edadc</th>\n      <th>fecham</th>\n      <th>fechamodp</th>\n      <th>id_reg</th>\n      <th>marca</th>\n      <th>nparentes</th>\n      <th>puntaje</th>\n      <th>nomdepto</th>\n      <th>nommunic</th>\n      <th>NPB_PPSAM</th>\n      <th>PB_IcbfPI</th>\n      <th>PB_MinEduca</th>\n      <th>estado</th>\n      <th>Munic_PreS4</th>\n      <th>Puntaje_PreS4</th>\n      <th>count</th>\n    </tr>\n  </thead>\n  <tbody>\n    <tr>\n      <th>0</th>\n      <td>5249664</td>\n      <td>11001</td>\n      <td>11</td>\n      <td>1</td>\n      <td>1</td>\n      <td>4535</td>\n      <td>35</td>\n      <td>41</td>\n      <td>8</td>\n      <td>4535</td>\n      <td>CLASS</td>\n      <td>0</td>\n      <td>BARRIO ZONA URBANA</td>\n      <td>KR 80 I 57 H 23 SUR CU 1</td>\n      <td>0</td>\n      <td>2</td>\n      <td>1</td>\n      <td>3</td>\n      <td>1</td>\n      <td>1</td>\n      <td>1</td>\n      <td>2</td>\n      <td>1</td>\n      <td>1</td>\n      <td>2</td>\n      <td>1</td>\n      <td>1</td>\n      <td>1</td>\n      <td>1</td>\n      <td>1</td>\n      <td>1</td>\n      <td>1</td>\n      <td>1</td>\n      <td>1</td>\n      <td>2</td>\n      <td>1</td>\n      <td>1</td>\n      <td>1</td>\n      <td>1</td>\n      <td>0</td>\n      <td>1</td>\n      <td>0</td>\n      <td>1</td>\n      <td>2</td>\n      <td>2</td>\n      <td>1</td>\n      <td>0</td>\n      <td>1</td>\n      <td>2</td>\n      <td>1</td>\n      <td>1</td>\n      <td>2</td>\n      <td>2</td>\n      <td>2</td>\n      <td>2</td>\n      <td>2</td>\n      <td>2</td>\n      <td>2</td>\n      <td>2</td>\n      <td>2</td>\n      <td>4</td>\n      <td>2</td>\n      <td>20180906</td>\n      <td>4</td>\n      <td>PINEDA</td>\n      <td>ZULUAGA</td>\n      <td>SARA</td>\n      <td>VALENTINA</td>\n      <td>2</td>\n      <td>2</td>\n      <td>4</td>\n      <td>1.146140e+09</td>\n      <td>20170219</td>\n      <td>3</td>\n      <td>5</td>\n      <td>0</td>\n      <td>0</td>\n      <td>2</td>\n      <td>2</td>\n      <td>0</td>\n      <td>3</td>\n      <td>2</td>\n      <td>2</td>\n      <td>0</td>\n      <td>0</td>\n      <td>0</td>\n      <td>0</td>\n      <td>0</td>\n      <td>1</td>\n      <td>103000.0</td>\n      <td>1</td>\n      <td>1</td>\n      <td>3</td>\n      <td>20180910</td>\n      <td>20180910</td>\n      <td>31</td>\n      <td>0</td>\n      <td>3</td>\n      <td>25,87</td>\n      <td>BOGOTA</td>\n      <td>BOGOTA D.C.</td>\n      <td>1</td>\n      <td>1</td>\n      <td>1</td>\n      <td>0</td>\n      <td>NaN</td>\n      <td>NaN</td>\n      <td>1</td>\n    </tr>\n    <tr>\n      <th>1</th>\n      <td>5278363</td>\n      <td>11001</td>\n      <td>11</td>\n      <td>1</td>\n      <td>1</td>\n      <td>4609</td>\n      <td>9</td>\n      <td>85</td>\n      <td>8</td>\n      <td>4609</td>\n      <td>LOS ALMENDROS</td>\n      <td>0</td>\n      <td>BARRIO ZONA URBANA</td>\n      <td>KR 97 C 42 38 SUR PI 1</td>\n      <td>0</td>\n      <td>1</td>\n      <td>1</td>\n      <td>2</td>\n      <td>1</td>\n      <td>1</td>\n      <td>1</td>\n      <td>2</td>\n      <td>1</td>\n      <td>1</td>\n      <td>2</td>\n      <td>1</td>\n      <td>1</td>\n      <td>1</td>\n      <td>1</td>\n      <td>1</td>\n      <td>1</td>\n      <td>1</td>\n      <td>1</td>\n      <td>1</td>\n      <td>1</td>\n      <td>1</td>\n      <td>1</td>\n      <td>1</td>\n      <td>1</td>\n      <td>0</td>\n      <td>1</td>\n      <td>0</td>\n      <td>1</td>\n      <td>1</td>\n      <td>2</td>\n      <td>1</td>\n      <td>0</td>\n      <td>1</td>\n      <td>2</td>\n      <td>1</td>\n      <td>1</td>\n      <td>2</td>\n      <td>2</td>\n      <td>2</td>\n      <td>2</td>\n      <td>2</td>\n      <td>2</td>\n      <td>2</td>\n      <td>2</td>\n      <td>2</td>\n      <td>4</td>\n      <td>2</td>\n      <td>20181102</td>\n      <td>4</td>\n      <td>DIAZ</td>\n      <td>GARCIA</td>\n      <td>ERICK</td>\n      <td>SANTIAGO</td>\n      <td>1</td>\n      <td>2</td>\n      <td>4</td>\n      <td>1.012451e+09</td>\n      <td>20160301</td>\n      <td>11</td>\n      <td>5</td>\n      <td>0</td>\n      <td>3</td>\n      <td>2</td>\n      <td>2</td>\n      <td>0</td>\n      <td>4</td>\n      <td>2</td>\n      <td>2</td>\n      <td>0</td>\n      <td>0</td>\n      <td>0</td>\n      <td>0</td>\n      <td>0</td>\n      <td>2</td>\n      <td>0.0</td>\n      <td>1</td>\n      <td>2</td>\n      <td>4</td>\n      <td>20181108</td>\n      <td>20181108</td>\n      <td>37</td>\n      <td>0</td>\n      <td>3</td>\n      <td>41,39</td>\n      <td>BOGOTA</td>\n      <td>BOGOTA D.C.</td>\n      <td>0</td>\n      <td>1</td>\n      <td>1</td>\n      <td>0</td>\n      <td>NaN</td>\n      <td>NaN</td>\n      <td>1</td>\n    </tr>\n  </tbody>\n</table>\n</div>"
     },
     "metadata": {},
     "execution_count": 21
    }
   ],
   "source": [
    "df.head(2)"
   ]
  },
  {
   "cell_type": "code",
   "execution_count": 5,
   "metadata": {},
   "outputs": [],
   "source": [
    "df[\"count\"] = 1"
   ]
  },
  {
   "cell_type": "code",
   "execution_count": 6,
   "metadata": {},
   "outputs": [
    {
     "output_type": "execute_result",
     "data": {
      "text/plain": [
       "tipoesta        0      1      2     3       4     5    7\n",
       "edad                                                    \n",
       "0         33023.0   10.0   11.0   4.0    27.0   2.0  NaN\n",
       "1         14931.0   86.0   96.0   3.0    26.0   2.0  NaN\n",
       "2         13614.0  238.0  277.0  27.0    35.0   NaN  NaN\n",
       "3         12209.0  321.0  509.0  66.0    45.0   1.0  NaN\n",
       "4         10621.0  318.0  589.0  94.0   349.0  43.0  NaN\n",
       "5         10082.0  147.0  708.0  77.0  1325.0  83.0  1.0"
      ],
      "text/html": "<div>\n<style scoped>\n    .dataframe tbody tr th:only-of-type {\n        vertical-align: middle;\n    }\n\n    .dataframe tbody tr th {\n        vertical-align: top;\n    }\n\n    .dataframe thead th {\n        text-align: right;\n    }\n</style>\n<table border=\"1\" class=\"dataframe\">\n  <thead>\n    <tr style=\"text-align: right;\">\n      <th>tipoesta</th>\n      <th>0</th>\n      <th>1</th>\n      <th>2</th>\n      <th>3</th>\n      <th>4</th>\n      <th>5</th>\n      <th>7</th>\n    </tr>\n    <tr>\n      <th>edad</th>\n      <th></th>\n      <th></th>\n      <th></th>\n      <th></th>\n      <th></th>\n      <th></th>\n      <th></th>\n    </tr>\n  </thead>\n  <tbody>\n    <tr>\n      <th>0</th>\n      <td>33023.0</td>\n      <td>10.0</td>\n      <td>11.0</td>\n      <td>4.0</td>\n      <td>27.0</td>\n      <td>2.0</td>\n      <td>NaN</td>\n    </tr>\n    <tr>\n      <th>1</th>\n      <td>14931.0</td>\n      <td>86.0</td>\n      <td>96.0</td>\n      <td>3.0</td>\n      <td>26.0</td>\n      <td>2.0</td>\n      <td>NaN</td>\n    </tr>\n    <tr>\n      <th>2</th>\n      <td>13614.0</td>\n      <td>238.0</td>\n      <td>277.0</td>\n      <td>27.0</td>\n      <td>35.0</td>\n      <td>NaN</td>\n      <td>NaN</td>\n    </tr>\n    <tr>\n      <th>3</th>\n      <td>12209.0</td>\n      <td>321.0</td>\n      <td>509.0</td>\n      <td>66.0</td>\n      <td>45.0</td>\n      <td>1.0</td>\n      <td>NaN</td>\n    </tr>\n    <tr>\n      <th>4</th>\n      <td>10621.0</td>\n      <td>318.0</td>\n      <td>589.0</td>\n      <td>94.0</td>\n      <td>349.0</td>\n      <td>43.0</td>\n      <td>NaN</td>\n    </tr>\n    <tr>\n      <th>5</th>\n      <td>10082.0</td>\n      <td>147.0</td>\n      <td>708.0</td>\n      <td>77.0</td>\n      <td>1325.0</td>\n      <td>83.0</td>\n      <td>1.0</td>\n    </tr>\n  </tbody>\n</table>\n</div>"
     },
     "metadata": {},
     "execution_count": 6
    }
   ],
   "source": [
    "pd.pivot_table(df,index=\"edad\",columns=\"tipoesta\", values=\"count\", aggfunc=np.sum)"
   ]
  },
  {
   "cell_type": "code",
   "execution_count": 7,
   "metadata": {},
   "outputs": [],
   "source": [
    "df[\"fecha\"] = pd.to_datetime(df[\"fecha\"].astype(str), format=\"%Y%m%d\")\n",
    "df[\"fecham\"] = pd.to_datetime(df[\"fecham\"].astype(str), format=\"%Y%m%d\")\n",
    "df[\"fechamodp\"] = pd.to_datetime(df[\"fechamodp\"].astype(str), format=\"%Y%m%d\")\n",
    "df[\"fechanto\"] = pd.to_datetime(df[\"fechanto\"].astype(str), format=\"%Y%m%d\")"
   ]
  },
  {
   "cell_type": "code",
   "execution_count": 8,
   "metadata": {},
   "outputs": [],
   "source": [
    "df[\"agno_encuesta\"] = df[\"fecha\"].dt.year"
   ]
  },
  {
   "cell_type": "code",
   "execution_count": 47,
   "metadata": {},
   "outputs": [
    {
     "output_type": "execute_result",
     "data": {
      "text/plain": [
       "     ficha  depmuni  depto  munic  zona  sector  seccion  manzana  comuna  \\\n",
       "0  5249664    11001     11      1     1    4535       35       41       8   \n",
       "1  5278363    11001     11      1     1    4609        9       85       8   \n",
       "2  5283164    11001     11      1     1    2444       44       52      19   \n",
       "3  5249610    11001     11      1     1    1423       23       60      18   \n",
       "4  5283171    11001     11      1     1    2433       33       18      19   \n",
       "\n",
       "   barrio             nombarrio  vereda           nomvereda  \\\n",
       "0    4535                 CLASS       0  BARRIO ZONA URBANA   \n",
       "1    4609         LOS ALMENDROS       0  BARRIO ZONA URBANA   \n",
       "2    2444      SIERRA MORENA II       0  BARRIO ZONA URBANA   \n",
       "3    1423          ARBOLEDA SUR       0  BARRIO ZONA URBANA   \n",
       "4    2433  EL PENON DEL CORTIJO       0  BARRIO ZONA URBANA   \n",
       "\n",
       "                         direcc    teles  vivienda  pared  piso  energia  \\\n",
       "0      KR 80 I 57 H 23 SUR CU 1        0         2      1     3        1   \n",
       "1        KR 97 C 42 38 SUR PI 1        0         1      1     2        1   \n",
       "2               TV 58 74 63 SUR        0         1      1     2        1   \n",
       "3  KR 13 BIS A 49 F 48 SUR PI 1        0         1      1     2        1   \n",
       "4    CL 68 BIS SUR 71 G 65 PI 2  7129820         1      1     2        1   \n",
       "\n",
       "   alcanta  gas  telefono  basura  acueduc  estrato  elimbasura  tcuartosvi  \\\n",
       "0        1    1         2       1        1        2           1           1   \n",
       "1        1    1         2       1        1        2           1           1   \n",
       "2        1    1         2       1        1        1           1           4   \n",
       "3        1    1         2       1        1        1           1           2   \n",
       "4        1    1         1       1        1        2           1           4   \n",
       "\n",
       "   thogar  hogar  teneviv  tcuartos  tdormir  sanitar  usanitar  usosani  \\\n",
       "0       1      1        1         1        1        1         1        2   \n",
       "1       1      1        1         1        1        1         1        1   \n",
       "2       1      1        1         4        2        1         1        1   \n",
       "3       2      1        1         1        1        1         1        2   \n",
       "4       1      1        1         4        3        1         1        1   \n",
       "\n",
       "   tsanitar  ducha  agua  llega  cuandi  suminis  cuanhoras  preparan  cocina  \\\n",
       "0         1      1     1      1       0        1          0         1       2   \n",
       "1         1      1     1      1       0        1          0         1       1   \n",
       "2         1      1     1      1       0        1          0         1       1   \n",
       "3         1      1     1      1       0        1          0         1       2   \n",
       "4         2      1     1      1       0        1          0         1       1   \n",
       "\n",
       "   cocinan  alumbra  usotele  nevera  lavadora  tvcolor  tvcable  calenta  \\\n",
       "0        2        1        0       1         2        1        1        2   \n",
       "1        2        1        0       1         2        1        1        2   \n",
       "2        2        1        0       1         1        1        1        1   \n",
       "3        2        1        0       1         2        2        2        2   \n",
       "4        2        1        1       1         1        1        1        2   \n",
       "\n",
       "   horno  aire  computador  equipo  moto  tractor  auto1  bieraices  tpersona  \\\n",
       "0      2     2           2       2     2        2      2          2         4   \n",
       "1      2     2           2       2     2        2      2          2         4   \n",
       "2      2     2           2       2     2        2      2          2         5   \n",
       "3      2     2           2       2     2        2      2          2         5   \n",
       "4      1     2           1       1     2        2      2          2         7   \n",
       "\n",
       "   recolec      fecha  orden      ape1     ape2    nom1       nom2  sexo  \\\n",
       "0        2 2018-09-06      4    PINEDA  ZULUAGA    SARA  VALENTINA     2   \n",
       "1        2 2018-11-02      4      DIAZ   GARCIA   ERICK   SANTIAGO     1   \n",
       "2        2 2018-11-14      4    VARGAS   PULIDO    JUAN    ESTEBAN     1   \n",
       "3        2 2018-09-07      5     ORTIZ  BANDERA  SALOME        NaN     2   \n",
       "4        2 2018-11-15      4  BUITRAGO   PINZON    ALAN    SNEIDER     1   \n",
       "\n",
       "   extranjero  tipodoc       documen   fechanto  parentes  estcivil  conyuviv  \\\n",
       "0           2        4  1.146140e+09 2017-02-19         3         5         0   \n",
       "1           2        4  1.012451e+09 2016-03-01        11         5         0   \n",
       "2           2        4  1.220225e+09 2017-09-17         3         5         0   \n",
       "3           2        4  1.033790e+09 2014-04-10         3         5         0   \n",
       "4           2        4  1.029291e+09 2013-05-31         4         5         0   \n",
       "\n",
       "   hijosde  serdomes  pagapor  discapa  carnet  embaraza  asiste  tipoesta  \\\n",
       "0        0         2        2        0       3         2       2         0   \n",
       "1        3         2        2        0       4         2       2         0   \n",
       "2        0         2        2        0       3         2       2         0   \n",
       "3        0         2        2        0       4         2       1         2   \n",
       "4        3         2        2        0       3         2       1         4   \n",
       "\n",
       "   grado  nivel  activi  buscando  percibe  ingresos  area  edad  edadc  \\\n",
       "0      0      0       0         0        1  103000.0     1     1      3   \n",
       "1      0      0       0         0        2       0.0     1     2      4   \n",
       "2      0      0       0         0        2       0.0     1     1      3   \n",
       "3      0      0       3         0        2       0.0     1     4      6   \n",
       "4      0      0       3         0        2       0.0     1     5      7   \n",
       "\n",
       "      fecham  fechamodp  id_reg  marca  nparentes puntaje nomdepto  \\\n",
       "0 2018-09-10 2018-09-10      31      0          3   25,87   BOGOTA   \n",
       "1 2018-11-08 2018-11-08      37      0          3   41,39   BOGOTA   \n",
       "2 2018-11-16 2018-11-16      38      0          3   68,34   BOGOTA   \n",
       "3 2018-09-10 2018-09-10      43      0          3   33,67   BOGOTA   \n",
       "4 2018-11-17 2018-11-17     115      0          3   66,82   BOGOTA   \n",
       "\n",
       "      nommunic  NPB_PPSAM  PB_IcbfPI  PB_MinEduca  estado Munic_PreS4  \\\n",
       "0  BOGOTA D.C.          1          1            1       0         NaN   \n",
       "1  BOGOTA D.C.          0          1            1       0         NaN   \n",
       "2  BOGOTA D.C.          0          0            0       0         NaN   \n",
       "3  BOGOTA D.C.          1          1            1       0         NaN   \n",
       "4  BOGOTA D.C.          0          0            0       0         NaN   \n",
       "\n",
       "  Puntaje_PreS4  count  agno_encuesta  \n",
       "0           NaN      1           2018  \n",
       "1           NaN      1           2018  \n",
       "2           NaN      1           2018  \n",
       "3           NaN      1           2018  \n",
       "4           NaN      1           2018  "
      ],
      "text/html": "<div>\n<style scoped>\n    .dataframe tbody tr th:only-of-type {\n        vertical-align: middle;\n    }\n\n    .dataframe tbody tr th {\n        vertical-align: top;\n    }\n\n    .dataframe thead th {\n        text-align: right;\n    }\n</style>\n<table border=\"1\" class=\"dataframe\">\n  <thead>\n    <tr style=\"text-align: right;\">\n      <th></th>\n      <th>ficha</th>\n      <th>depmuni</th>\n      <th>depto</th>\n      <th>munic</th>\n      <th>zona</th>\n      <th>sector</th>\n      <th>seccion</th>\n      <th>manzana</th>\n      <th>comuna</th>\n      <th>barrio</th>\n      <th>nombarrio</th>\n      <th>vereda</th>\n      <th>nomvereda</th>\n      <th>direcc</th>\n      <th>teles</th>\n      <th>vivienda</th>\n      <th>pared</th>\n      <th>piso</th>\n      <th>energia</th>\n      <th>alcanta</th>\n      <th>gas</th>\n      <th>telefono</th>\n      <th>basura</th>\n      <th>acueduc</th>\n      <th>estrato</th>\n      <th>elimbasura</th>\n      <th>tcuartosvi</th>\n      <th>thogar</th>\n      <th>hogar</th>\n      <th>teneviv</th>\n      <th>tcuartos</th>\n      <th>tdormir</th>\n      <th>sanitar</th>\n      <th>usanitar</th>\n      <th>usosani</th>\n      <th>tsanitar</th>\n      <th>ducha</th>\n      <th>agua</th>\n      <th>llega</th>\n      <th>cuandi</th>\n      <th>suminis</th>\n      <th>cuanhoras</th>\n      <th>preparan</th>\n      <th>cocina</th>\n      <th>cocinan</th>\n      <th>alumbra</th>\n      <th>usotele</th>\n      <th>nevera</th>\n      <th>lavadora</th>\n      <th>tvcolor</th>\n      <th>tvcable</th>\n      <th>calenta</th>\n      <th>horno</th>\n      <th>aire</th>\n      <th>computador</th>\n      <th>equipo</th>\n      <th>moto</th>\n      <th>tractor</th>\n      <th>auto1</th>\n      <th>bieraices</th>\n      <th>tpersona</th>\n      <th>recolec</th>\n      <th>fecha</th>\n      <th>orden</th>\n      <th>ape1</th>\n      <th>ape2</th>\n      <th>nom1</th>\n      <th>nom2</th>\n      <th>sexo</th>\n      <th>extranjero</th>\n      <th>tipodoc</th>\n      <th>documen</th>\n      <th>fechanto</th>\n      <th>parentes</th>\n      <th>estcivil</th>\n      <th>conyuviv</th>\n      <th>hijosde</th>\n      <th>serdomes</th>\n      <th>pagapor</th>\n      <th>discapa</th>\n      <th>carnet</th>\n      <th>embaraza</th>\n      <th>asiste</th>\n      <th>tipoesta</th>\n      <th>grado</th>\n      <th>nivel</th>\n      <th>activi</th>\n      <th>buscando</th>\n      <th>percibe</th>\n      <th>ingresos</th>\n      <th>area</th>\n      <th>edad</th>\n      <th>edadc</th>\n      <th>fecham</th>\n      <th>fechamodp</th>\n      <th>id_reg</th>\n      <th>marca</th>\n      <th>nparentes</th>\n      <th>puntaje</th>\n      <th>nomdepto</th>\n      <th>nommunic</th>\n      <th>NPB_PPSAM</th>\n      <th>PB_IcbfPI</th>\n      <th>PB_MinEduca</th>\n      <th>estado</th>\n      <th>Munic_PreS4</th>\n      <th>Puntaje_PreS4</th>\n      <th>count</th>\n      <th>agno_encuesta</th>\n    </tr>\n  </thead>\n  <tbody>\n    <tr>\n      <th>0</th>\n      <td>5249664</td>\n      <td>11001</td>\n      <td>11</td>\n      <td>1</td>\n      <td>1</td>\n      <td>4535</td>\n      <td>35</td>\n      <td>41</td>\n      <td>8</td>\n      <td>4535</td>\n      <td>CLASS</td>\n      <td>0</td>\n      <td>BARRIO ZONA URBANA</td>\n      <td>KR 80 I 57 H 23 SUR CU 1</td>\n      <td>0</td>\n      <td>2</td>\n      <td>1</td>\n      <td>3</td>\n      <td>1</td>\n      <td>1</td>\n      <td>1</td>\n      <td>2</td>\n      <td>1</td>\n      <td>1</td>\n      <td>2</td>\n      <td>1</td>\n      <td>1</td>\n      <td>1</td>\n      <td>1</td>\n      <td>1</td>\n      <td>1</td>\n      <td>1</td>\n      <td>1</td>\n      <td>1</td>\n      <td>2</td>\n      <td>1</td>\n      <td>1</td>\n      <td>1</td>\n      <td>1</td>\n      <td>0</td>\n      <td>1</td>\n      <td>0</td>\n      <td>1</td>\n      <td>2</td>\n      <td>2</td>\n      <td>1</td>\n      <td>0</td>\n      <td>1</td>\n      <td>2</td>\n      <td>1</td>\n      <td>1</td>\n      <td>2</td>\n      <td>2</td>\n      <td>2</td>\n      <td>2</td>\n      <td>2</td>\n      <td>2</td>\n      <td>2</td>\n      <td>2</td>\n      <td>2</td>\n      <td>4</td>\n      <td>2</td>\n      <td>2018-09-06</td>\n      <td>4</td>\n      <td>PINEDA</td>\n      <td>ZULUAGA</td>\n      <td>SARA</td>\n      <td>VALENTINA</td>\n      <td>2</td>\n      <td>2</td>\n      <td>4</td>\n      <td>1.146140e+09</td>\n      <td>2017-02-19</td>\n      <td>3</td>\n      <td>5</td>\n      <td>0</td>\n      <td>0</td>\n      <td>2</td>\n      <td>2</td>\n      <td>0</td>\n      <td>3</td>\n      <td>2</td>\n      <td>2</td>\n      <td>0</td>\n      <td>0</td>\n      <td>0</td>\n      <td>0</td>\n      <td>0</td>\n      <td>1</td>\n      <td>103000.0</td>\n      <td>1</td>\n      <td>1</td>\n      <td>3</td>\n      <td>2018-09-10</td>\n      <td>2018-09-10</td>\n      <td>31</td>\n      <td>0</td>\n      <td>3</td>\n      <td>25,87</td>\n      <td>BOGOTA</td>\n      <td>BOGOTA D.C.</td>\n      <td>1</td>\n      <td>1</td>\n      <td>1</td>\n      <td>0</td>\n      <td>NaN</td>\n      <td>NaN</td>\n      <td>1</td>\n      <td>2018</td>\n    </tr>\n    <tr>\n      <th>1</th>\n      <td>5278363</td>\n      <td>11001</td>\n      <td>11</td>\n      <td>1</td>\n      <td>1</td>\n      <td>4609</td>\n      <td>9</td>\n      <td>85</td>\n      <td>8</td>\n      <td>4609</td>\n      <td>LOS ALMENDROS</td>\n      <td>0</td>\n      <td>BARRIO ZONA URBANA</td>\n      <td>KR 97 C 42 38 SUR PI 1</td>\n      <td>0</td>\n      <td>1</td>\n      <td>1</td>\n      <td>2</td>\n      <td>1</td>\n      <td>1</td>\n      <td>1</td>\n      <td>2</td>\n      <td>1</td>\n      <td>1</td>\n      <td>2</td>\n      <td>1</td>\n      <td>1</td>\n      <td>1</td>\n      <td>1</td>\n      <td>1</td>\n      <td>1</td>\n      <td>1</td>\n      <td>1</td>\n      <td>1</td>\n      <td>1</td>\n      <td>1</td>\n      <td>1</td>\n      <td>1</td>\n      <td>1</td>\n      <td>0</td>\n      <td>1</td>\n      <td>0</td>\n      <td>1</td>\n      <td>1</td>\n      <td>2</td>\n      <td>1</td>\n      <td>0</td>\n      <td>1</td>\n      <td>2</td>\n      <td>1</td>\n      <td>1</td>\n      <td>2</td>\n      <td>2</td>\n      <td>2</td>\n      <td>2</td>\n      <td>2</td>\n      <td>2</td>\n      <td>2</td>\n      <td>2</td>\n      <td>2</td>\n      <td>4</td>\n      <td>2</td>\n      <td>2018-11-02</td>\n      <td>4</td>\n      <td>DIAZ</td>\n      <td>GARCIA</td>\n      <td>ERICK</td>\n      <td>SANTIAGO</td>\n      <td>1</td>\n      <td>2</td>\n      <td>4</td>\n      <td>1.012451e+09</td>\n      <td>2016-03-01</td>\n      <td>11</td>\n      <td>5</td>\n      <td>0</td>\n      <td>3</td>\n      <td>2</td>\n      <td>2</td>\n      <td>0</td>\n      <td>4</td>\n      <td>2</td>\n      <td>2</td>\n      <td>0</td>\n      <td>0</td>\n      <td>0</td>\n      <td>0</td>\n      <td>0</td>\n      <td>2</td>\n      <td>0.0</td>\n      <td>1</td>\n      <td>2</td>\n      <td>4</td>\n      <td>2018-11-08</td>\n      <td>2018-11-08</td>\n      <td>37</td>\n      <td>0</td>\n      <td>3</td>\n      <td>41,39</td>\n      <td>BOGOTA</td>\n      <td>BOGOTA D.C.</td>\n      <td>0</td>\n      <td>1</td>\n      <td>1</td>\n      <td>0</td>\n      <td>NaN</td>\n      <td>NaN</td>\n      <td>1</td>\n      <td>2018</td>\n    </tr>\n    <tr>\n      <th>2</th>\n      <td>5283164</td>\n      <td>11001</td>\n      <td>11</td>\n      <td>1</td>\n      <td>1</td>\n      <td>2444</td>\n      <td>44</td>\n      <td>52</td>\n      <td>19</td>\n      <td>2444</td>\n      <td>SIERRA MORENA II</td>\n      <td>0</td>\n      <td>BARRIO ZONA URBANA</td>\n      <td>TV 58 74 63 SUR</td>\n      <td>0</td>\n      <td>1</td>\n      <td>1</td>\n      <td>2</td>\n      <td>1</td>\n      <td>1</td>\n      <td>1</td>\n      <td>2</td>\n      <td>1</td>\n      <td>1</td>\n      <td>1</td>\n      <td>1</td>\n      <td>4</td>\n      <td>1</td>\n      <td>1</td>\n      <td>1</td>\n      <td>4</td>\n      <td>2</td>\n      <td>1</td>\n      <td>1</td>\n      <td>1</td>\n      <td>1</td>\n      <td>1</td>\n      <td>1</td>\n      <td>1</td>\n      <td>0</td>\n      <td>1</td>\n      <td>0</td>\n      <td>1</td>\n      <td>1</td>\n      <td>2</td>\n      <td>1</td>\n      <td>0</td>\n      <td>1</td>\n      <td>1</td>\n      <td>1</td>\n      <td>1</td>\n      <td>1</td>\n      <td>2</td>\n      <td>2</td>\n      <td>2</td>\n      <td>2</td>\n      <td>2</td>\n      <td>2</td>\n      <td>2</td>\n      <td>2</td>\n      <td>5</td>\n      <td>2</td>\n      <td>2018-11-14</td>\n      <td>4</td>\n      <td>VARGAS</td>\n      <td>PULIDO</td>\n      <td>JUAN</td>\n      <td>ESTEBAN</td>\n      <td>1</td>\n      <td>2</td>\n      <td>4</td>\n      <td>1.220225e+09</td>\n      <td>2017-09-17</td>\n      <td>3</td>\n      <td>5</td>\n      <td>0</td>\n      <td>0</td>\n      <td>2</td>\n      <td>2</td>\n      <td>0</td>\n      <td>3</td>\n      <td>2</td>\n      <td>2</td>\n      <td>0</td>\n      <td>0</td>\n      <td>0</td>\n      <td>0</td>\n      <td>0</td>\n      <td>2</td>\n      <td>0.0</td>\n      <td>1</td>\n      <td>1</td>\n      <td>3</td>\n      <td>2018-11-16</td>\n      <td>2018-11-16</td>\n      <td>38</td>\n      <td>0</td>\n      <td>3</td>\n      <td>68,34</td>\n      <td>BOGOTA</td>\n      <td>BOGOTA D.C.</td>\n      <td>0</td>\n      <td>0</td>\n      <td>0</td>\n      <td>0</td>\n      <td>NaN</td>\n      <td>NaN</td>\n      <td>1</td>\n      <td>2018</td>\n    </tr>\n    <tr>\n      <th>3</th>\n      <td>5249610</td>\n      <td>11001</td>\n      <td>11</td>\n      <td>1</td>\n      <td>1</td>\n      <td>1423</td>\n      <td>23</td>\n      <td>60</td>\n      <td>18</td>\n      <td>1423</td>\n      <td>ARBOLEDA SUR</td>\n      <td>0</td>\n      <td>BARRIO ZONA URBANA</td>\n      <td>KR 13 BIS A 49 F 48 SUR PI 1</td>\n      <td>0</td>\n      <td>1</td>\n      <td>1</td>\n      <td>2</td>\n      <td>1</td>\n      <td>1</td>\n      <td>1</td>\n      <td>2</td>\n      <td>1</td>\n      <td>1</td>\n      <td>1</td>\n      <td>1</td>\n      <td>2</td>\n      <td>2</td>\n      <td>1</td>\n      <td>1</td>\n      <td>1</td>\n      <td>1</td>\n      <td>1</td>\n      <td>1</td>\n      <td>2</td>\n      <td>1</td>\n      <td>1</td>\n      <td>1</td>\n      <td>1</td>\n      <td>0</td>\n      <td>1</td>\n      <td>0</td>\n      <td>1</td>\n      <td>2</td>\n      <td>2</td>\n      <td>1</td>\n      <td>0</td>\n      <td>1</td>\n      <td>2</td>\n      <td>2</td>\n      <td>2</td>\n      <td>2</td>\n      <td>2</td>\n      <td>2</td>\n      <td>2</td>\n      <td>2</td>\n      <td>2</td>\n      <td>2</td>\n      <td>2</td>\n      <td>2</td>\n      <td>5</td>\n      <td>2</td>\n      <td>2018-09-07</td>\n      <td>5</td>\n      <td>ORTIZ</td>\n      <td>BANDERA</td>\n      <td>SALOME</td>\n      <td>NaN</td>\n      <td>2</td>\n      <td>2</td>\n      <td>4</td>\n      <td>1.033790e+09</td>\n      <td>2014-04-10</td>\n      <td>3</td>\n      <td>5</td>\n      <td>0</td>\n      <td>0</td>\n      <td>2</td>\n      <td>2</td>\n      <td>0</td>\n      <td>4</td>\n      <td>2</td>\n      <td>1</td>\n      <td>2</td>\n      <td>0</td>\n      <td>0</td>\n      <td>3</td>\n      <td>0</td>\n      <td>2</td>\n      <td>0.0</td>\n      <td>1</td>\n      <td>4</td>\n      <td>6</td>\n      <td>2018-09-10</td>\n      <td>2018-09-10</td>\n      <td>43</td>\n      <td>0</td>\n      <td>3</td>\n      <td>33,67</td>\n      <td>BOGOTA</td>\n      <td>BOGOTA D.C.</td>\n      <td>1</td>\n      <td>1</td>\n      <td>1</td>\n      <td>0</td>\n      <td>NaN</td>\n      <td>NaN</td>\n      <td>1</td>\n      <td>2018</td>\n    </tr>\n    <tr>\n      <th>4</th>\n      <td>5283171</td>\n      <td>11001</td>\n      <td>11</td>\n      <td>1</td>\n      <td>1</td>\n      <td>2433</td>\n      <td>33</td>\n      <td>18</td>\n      <td>19</td>\n      <td>2433</td>\n      <td>EL PENON DEL CORTIJO</td>\n      <td>0</td>\n      <td>BARRIO ZONA URBANA</td>\n      <td>CL 68 BIS SUR 71 G 65 PI 2</td>\n      <td>7129820</td>\n      <td>1</td>\n      <td>1</td>\n      <td>2</td>\n      <td>1</td>\n      <td>1</td>\n      <td>1</td>\n      <td>1</td>\n      <td>1</td>\n      <td>1</td>\n      <td>2</td>\n      <td>1</td>\n      <td>4</td>\n      <td>1</td>\n      <td>1</td>\n      <td>1</td>\n      <td>4</td>\n      <td>3</td>\n      <td>1</td>\n      <td>1</td>\n      <td>1</td>\n      <td>2</td>\n      <td>1</td>\n      <td>1</td>\n      <td>1</td>\n      <td>0</td>\n      <td>1</td>\n      <td>0</td>\n      <td>1</td>\n      <td>1</td>\n      <td>2</td>\n      <td>1</td>\n      <td>1</td>\n      <td>1</td>\n      <td>1</td>\n      <td>1</td>\n      <td>1</td>\n      <td>2</td>\n      <td>1</td>\n      <td>2</td>\n      <td>1</td>\n      <td>1</td>\n      <td>2</td>\n      <td>2</td>\n      <td>2</td>\n      <td>2</td>\n      <td>7</td>\n      <td>2</td>\n      <td>2018-11-15</td>\n      <td>4</td>\n      <td>BUITRAGO</td>\n      <td>PINZON</td>\n      <td>ALAN</td>\n      <td>SNEIDER</td>\n      <td>1</td>\n      <td>2</td>\n      <td>4</td>\n      <td>1.029291e+09</td>\n      <td>2013-05-31</td>\n      <td>4</td>\n      <td>5</td>\n      <td>0</td>\n      <td>3</td>\n      <td>2</td>\n      <td>2</td>\n      <td>0</td>\n      <td>3</td>\n      <td>2</td>\n      <td>1</td>\n      <td>4</td>\n      <td>0</td>\n      <td>0</td>\n      <td>3</td>\n      <td>0</td>\n      <td>2</td>\n      <td>0.0</td>\n      <td>1</td>\n      <td>5</td>\n      <td>7</td>\n      <td>2018-11-17</td>\n      <td>2018-11-17</td>\n      <td>115</td>\n      <td>0</td>\n      <td>3</td>\n      <td>66,82</td>\n      <td>BOGOTA</td>\n      <td>BOGOTA D.C.</td>\n      <td>0</td>\n      <td>0</td>\n      <td>0</td>\n      <td>0</td>\n      <td>NaN</td>\n      <td>NaN</td>\n      <td>1</td>\n      <td>2018</td>\n    </tr>\n  </tbody>\n</table>\n</div>"
     },
     "metadata": {},
     "execution_count": 47
    }
   ],
   "source": [
    "df.head(5)"
   ]
  },
  {
   "cell_type": "code",
   "execution_count": 9,
   "metadata": {},
   "outputs": [
    {
     "output_type": "stream",
     "name": "stdout",
     "text": [
      "2019    0.42303\n2010    0.20300\n2012    0.07360\n2011    0.05468\n2013    0.04608\n2009    0.03501\n2014    0.03218\n2015    0.02971\n2018    0.02774\n2017    0.02739\n2016    0.02510\n2020    0.02229\n2008    0.00019\nName: agno_encuesta, dtype: float64\n"
     ]
    }
   ],
   "source": [
    "freq = df.agno_encuesta.value_counts()\n",
    "print (freq/len(df.agno_encuesta))"
   ]
  },
  {
   "cell_type": "code",
   "execution_count": 5,
   "metadata": {},
   "outputs": [],
   "source": [
    "def freq_sisben():\n",
    "    df = pd.read_csv('C:/Users/jose.nino/Documents/SisbénIIICeroACinco/SisbénIIICeroACinco.csv', sep=\"|\", engine='python',encoding='latin1')\n",
    "    df = df[[\"fecha\", \"edad\", \"tipoesta\", \"ficha\", \"orden\", \"documen\"]]\n",
    "    df[\"fecha\"] = pd.to_datetime(df[\"fecha\"].astype(str), format=\"%Y%m%d\")\n",
    "    df[\"agno_encuesta\"] = df[\"fecha\"].dt.year\n",
    "    return df"
   ]
  },
  {
   "cell_type": "code",
   "execution_count": 5,
   "metadata": {},
   "outputs": [
    {
     "output_type": "stream",
     "name": "stdout",
     "text": [
      "Muestreo:  0\n",
      "Muestreo:  1\n",
      "Muestreo:  2\n",
      "Muestreo:  3\n",
      "Muestreo:  4\n",
      "Muestreo:  5\n",
      "Muestreo:  6\n",
      "Muestreo:  7\n",
      "Muestreo:  8\n",
      "Muestreo:  9\n",
      "Muestreo:  10\n",
      "Muestreo:  11\n",
      "Muestreo:  12\n",
      "Muestreo:  13\n",
      "Muestreo:  14\n",
      "Muestreo:  15\n",
      "Muestreo:  16\n",
      "Muestreo:  17\n",
      "Muestreo:  18\n",
      "Muestreo:  19\n",
      "Muestreo:  20\n",
      "Muestreo:  21\n",
      "Muestreo:  22\n",
      "Muestreo:  23\n",
      "Muestreo:  24\n",
      "Muestreo:  25\n",
      "Muestreo:  26\n",
      "Muestreo:  27\n",
      "Muestreo:  28\n",
      "Muestreo:  29\n",
      "Muestreo:  30\n",
      "Muestreo:  31\n",
      "Muestreo:  32\n",
      "Muestreo:  33\n",
      "Muestreo:  34\n",
      "Muestreo:  35\n",
      "Muestreo:  36\n",
      "Muestreo:  37\n",
      "Muestreo:  38\n",
      "Muestreo:  39\n",
      "Muestreo:  40\n",
      "Muestreo:  41\n",
      "Muestreo:  42\n",
      "Muestreo:  43\n",
      "Muestreo:  44\n",
      "Muestreo:  45\n",
      "Muestreo:  46\n",
      "Muestreo:  47\n",
      "Muestreo:  48\n",
      "Muestreo:  49\n",
      "Muestreo:  50\n",
      "Muestreo:  51\n",
      "Muestreo:  52\n",
      "Muestreo:  53\n",
      "Muestreo:  54\n",
      "Muestreo:  55\n",
      "Muestreo:  56\n",
      "747\n",
      "755\n"
     ]
    }
   ],
   "source": [
    "count=0\n",
    "result_fecha = pd.Series()\n",
    "result_fecham = pd.Series()\n",
    "\n",
    "for df in pd.read_csv(\"C:/Users/jose.nino/Documents/SisbénIIICeroACinco/SisbénIIICeroACinco.csv\", sep=\"|\", engine='python',encoding='latin1',chunksize=100000):\n",
    "    df[\"fecha\"] = pd.to_datetime(df[\"fecha\"].astype(str), format=\"%Y%m%d\", errors=\"coerce\")\n",
    "    df[\"fecham\"] = pd.to_datetime(df[\"fecham\"].astype(str), format=\"%Y%m%d\", errors=\"coerce\")\n",
    "\n",
    "    df[\"agno_encuesta\"] = df[\"fecha\"].dt.year\n",
    "    df[\"agno_encuestam\"] = df[\"fecham\"].dt.year\n",
    "\n",
    "    result_fecha = result_fecha.append(df.agno_encuesta.value_counts())\n",
    "    result_fecham = result_fecham.append(df.agno_encuestam.value_counts())\n",
    "\n",
    "    print(\"Muestreo: \", count)\n",
    "    count +=1\n",
    "\n",
    "print(len(result_fecha))\n",
    "print(len(result_fecham))"
   ]
  },
  {
   "cell_type": "code",
   "execution_count": 3,
   "metadata": {},
   "outputs": [
    {
     "output_type": "execute_result",
     "data": {
      "text/plain": [
       "1969.0        114\n",
       "1970.0        276\n",
       "2007.0          1\n",
       "2008.0       6077\n",
       "2009.0    1424004\n",
       "2010.0     636984\n",
       "2011.0     304960\n",
       "2012.0     352767\n",
       "2013.0     282560\n",
       "2014.0     251080\n",
       "2015.0     221983\n",
       "2016.0     200410\n",
       "2017.0     382761\n",
       "2018.0     544744\n",
       "2019.0     932960\n",
       "2020.0     113640\n",
       "2024.0          3\n",
       "dtype: int64"
      ]
     },
     "metadata": {},
     "execution_count": 3
    }
   ],
   "source": [
    "result.groupby(result.index).sum()"
   ]
  },
  {
   "cell_type": "code",
   "execution_count": 6,
   "metadata": {},
   "outputs": [
    {
     "output_type": "stream",
     "name": "stdout",
     "text": [
      "      Freq absoluta  Freq relativa\n1969            114           0.00\n1970            276           0.00\n2007              1           0.00\n2008           6077           0.11\n2009        1424004          25.18\n2010         636984          11.26\n2011         304960           5.39\n2012         352767           6.24\n2013         282560           5.00\n2014         251080           4.44\n2015         221983           3.93\n2016         200410           3.54\n2017         382761           6.77\n2018         544744           9.63\n2019         932960          16.50\n2020         113640           2.01\n2024              3           0.00\n"
     ]
    }
   ],
   "source": [
    "freq = result_fecha.groupby(result_fecha.index).sum()\n",
    "r_freq = (freq/result_fecha.sum()*100)\n",
    "table = pd.concat([freq,r_freq], axis=1)\n",
    "table = table.rename(columns={0: \"Freq absoluta\", 1: \"Freq relativa\"})\n",
    "table.index = table.index.astype(int)\n",
    "table[\"Freq relativa\"] = table[\"Freq relativa\"].round(2)\n",
    "print(table)"
   ]
  },
  {
   "cell_type": "code",
   "execution_count": 7,
   "metadata": {},
   "outputs": [
    {
     "output_type": "stream",
     "name": "stdout",
     "text": [
      "      Freq absoluta  Freq relativa\n1969             10           0.00\n1970             73           0.00\n1980              1           0.00\n2001            103           0.00\n2002             40           0.00\n2003              1           0.00\n2004             12           0.00\n2005              4           0.00\n2006              2           0.00\n2007             21           0.00\n2008            317           0.01\n2009         104724           1.85\n2010         180778           3.20\n2011         102601           1.81\n2012         161015           2.85\n2013         200606           3.55\n2014         244146           4.32\n2015         318745           5.64\n2016         448565           7.93\n2017         749714          13.26\n2018        1035757          18.31\n2019        1621787          28.68\n2020         486297           8.60\n2022              4           0.00\n2037              1           0.00\n2118              1           0.00\n"
     ]
    }
   ],
   "source": [
    "freqm = result_fecham.groupby(result_fecham.index).sum()\n",
    "r_freqm = (freqm/result_fecham.sum()*100)\n",
    "tablem = pd.concat([freqm,r_freqm], axis=1)\n",
    "tablem = tablem.rename(columns={0: \"Freq absoluta\", 1: \"Freq relativa\"})\n",
    "tablem.index = tablem.index.astype(int)\n",
    "tablem[\"Freq relativa\"] = tablem[\"Freq relativa\"].round(2)\n",
    "print(tablem)"
   ]
  }
 ]
}