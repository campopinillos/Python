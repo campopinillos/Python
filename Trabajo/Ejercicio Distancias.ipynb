{
 "cells": [
  {
   "cell_type": "code",
   "execution_count": 2,
   "source": [
    "import pandas as pd\n",
    "import numpy as np\n",
    "import folium\n",
    "import geopandas as gpd\n",
    "import datetime as dt"
   ],
   "outputs": [],
   "metadata": {}
  },
  {
   "cell_type": "code",
   "execution_count": 3,
   "source": [
    "nna = pd.read_csv(\"./Data/Primera_Infancia_30062021_coord_sisbénIV_052021.txt\", sep=\"|\", low_memory=False)\n",
    "uds =  pd.read_excel(\"./Data/uds_agosto2021estadogeo1.xlsx\", sheet_name=\"uds_agosto2021estadogeo1\")"
   ],
   "outputs": [],
   "metadata": {}
  },
  {
   "cell_type": "code",
   "execution_count": 7,
   "source": [
    "print(uds[\"estadogeo\"].value_counts())\n",
    "print(\"-----------------------------------------\")\n",
    "uds1 = uds.loc[(uds[\"estadogeo\"]==\"georeferenciada agosto 31\") | (uds[\"estadogeo\"]==\"LIMITE MUNICIPAL\")].copy()\n",
    "print(uds1[\"estadogeo\"].value_counts())"
   ],
   "outputs": [
    {
     "output_type": "stream",
     "name": "stdout",
     "text": [
      "georeferenciada agosto 31    69910\n",
      "LIMITE MUNICIPAL               418\n",
      "FUERA DE MUNICIPIO             228\n",
      "GEOREFERENCIADO MAYO 15        145\n",
      "GEOREFERENCIADA DIC 18          79\n",
      "ORDEN PÚBLICO                   77\n",
      "FUERA DEL PAIS                  30\n",
      "No reporta coordenadas          25\n",
      "GEOREFERENCIADO ABRIL 27        17\n",
      "SIN SEÑAL GPS                   14\n",
      "GEOREFERENCIADA ABRIL30         11\n",
      "RESGUARDO                        7\n",
      "Name: estadogeo, dtype: int64\n",
      "-----------------------------------------\n",
      "georeferenciada agosto 31    69910\n",
      "LIMITE MUNICIPAL               418\n",
      "Name: estadogeo, dtype: int64\n"
     ]
    }
   ],
   "metadata": {}
  },
  {
   "cell_type": "code",
   "execution_count": 8,
   "source": [
    "# UDS Duplicadas\n",
    "print(\"UDS Duplicadas\")\n",
    "uds1[\"Duplicadas\"] = uds1.duplicated(subset=\"CodigoUnid\", keep=False)\n",
    "print(uds1[\"Duplicadas\"].value_counts())"
   ],
   "outputs": [
    {
     "output_type": "stream",
     "name": "stdout",
     "text": [
      "UDS Duplicadas\n",
      "False    66234\n",
      "True      4094\n",
      "Name: Duplicadas, dtype: int64\n"
     ]
    }
   ],
   "metadata": {}
  },
  {
   "cell_type": "code",
   "execution_count": 9,
   "source": [
    "duplicados = uds1.query(\"Duplicadas==True\").copy()\n",
    "duplicados.sort_values(by=\"CodigoUnid\", inplace=True)\n",
    "duplicados.reset_index(inplace=True)\n",
    "# \n",
    "print(duplicados[\"CodigoUn_1\"][0])\n",
    "print(duplicados[\"CodigoUn_1\"][1])\n",
    "print(duplicados[\"CodigoUn_1\"][2])\n",
    "print(duplicados[\"CodigoUn_1\"][3])\n",
    "# \n",
    "duplicados.head(6)"
   ],
   "outputs": [
    {
     "output_type": "stream",
     "name": "stdout",
     "text": [
      "50011115887.0\n",
      "50011115887.0\n",
      "50011116512.0\n",
      "50011116512.0\n"
     ]
    },
    {
     "output_type": "execute_result",
     "data": {
      "text/html": [
       "<div>\n",
       "<style scoped>\n",
       "    .dataframe tbody tr th:only-of-type {\n",
       "        vertical-align: middle;\n",
       "    }\n",
       "\n",
       "    .dataframe tbody tr th {\n",
       "        vertical-align: top;\n",
       "    }\n",
       "\n",
       "    .dataframe thead th {\n",
       "        text-align: right;\n",
       "    }\n",
       "</style>\n",
       "<table border=\"1\" class=\"dataframe\">\n",
       "  <thead>\n",
       "    <tr style=\"text-align: right;\">\n",
       "      <th></th>\n",
       "      <th>index</th>\n",
       "      <th>OBJECTID_12</th>\n",
       "      <th>CodigoDepa</th>\n",
       "      <th>Departamen</th>\n",
       "      <th>CodigoMuni</th>\n",
       "      <th>MunicipioU</th>\n",
       "      <th>CodigoUnid</th>\n",
       "      <th>UnidadServ</th>\n",
       "      <th>NombreServ</th>\n",
       "      <th>EstadoUDS</th>\n",
       "      <th>...</th>\n",
       "      <th>CODDEP</th>\n",
       "      <th>DEP_12</th>\n",
       "      <th>CODMUN</th>\n",
       "      <th>MUNICIPI_2</th>\n",
       "      <th>area_km</th>\n",
       "      <th>estadogeo</th>\n",
       "      <th>OID_</th>\n",
       "      <th>CodigoUn_1</th>\n",
       "      <th>Cnt_Codigo</th>\n",
       "      <th>Duplicadas</th>\n",
       "    </tr>\n",
       "  </thead>\n",
       "  <tbody>\n",
       "    <tr>\n",
       "      <th>0</th>\n",
       "      <td>2376</td>\n",
       "      <td>2377</td>\n",
       "      <td>5</td>\n",
       "      <td>Antioquia</td>\n",
       "      <td>5001</td>\n",
       "      <td>Medellin</td>\n",
       "      <td>50011115887</td>\n",
       "      <td>MI PEQUEÑO PONY</td>\n",
       "      <td>HCB INTEGRAL - COMUNITARIO INTEGRAL</td>\n",
       "      <td>ACTIVA</td>\n",
       "      <td>...</td>\n",
       "      <td>5.0</td>\n",
       "      <td>ANTIOQUIA</td>\n",
       "      <td>5001.0</td>\n",
       "      <td>MEDELLÍN</td>\n",
       "      <td>0</td>\n",
       "      <td>georeferenciada agosto 31</td>\n",
       "      <td>1852</td>\n",
       "      <td>5.001112e+10</td>\n",
       "      <td>1</td>\n",
       "      <td>True</td>\n",
       "    </tr>\n",
       "    <tr>\n",
       "      <th>1</th>\n",
       "      <td>3009</td>\n",
       "      <td>3010</td>\n",
       "      <td>5</td>\n",
       "      <td>Antioquia</td>\n",
       "      <td>5001</td>\n",
       "      <td>Medellin</td>\n",
       "      <td>50011115887</td>\n",
       "      <td>MI PEQUEÑO PONY</td>\n",
       "      <td>HCB - COMUNITARIO</td>\n",
       "      <td>ACTIVA</td>\n",
       "      <td>...</td>\n",
       "      <td>5.0</td>\n",
       "      <td>ANTIOQUIA</td>\n",
       "      <td>5001.0</td>\n",
       "      <td>MEDELLÍN</td>\n",
       "      <td>0</td>\n",
       "      <td>georeferenciada agosto 31</td>\n",
       "      <td>1852</td>\n",
       "      <td>5.001112e+10</td>\n",
       "      <td>1</td>\n",
       "      <td>True</td>\n",
       "    </tr>\n",
       "    <tr>\n",
       "      <th>2</th>\n",
       "      <td>2110</td>\n",
       "      <td>2111</td>\n",
       "      <td>5</td>\n",
       "      <td>Antioquia</td>\n",
       "      <td>5001</td>\n",
       "      <td>Medellin</td>\n",
       "      <td>50011116512</td>\n",
       "      <td>LA LOMITA</td>\n",
       "      <td>HCB - COMUNITARIO</td>\n",
       "      <td>ACTIVA</td>\n",
       "      <td>...</td>\n",
       "      <td>5.0</td>\n",
       "      <td>ANTIOQUIA</td>\n",
       "      <td>5001.0</td>\n",
       "      <td>MEDELLÍN</td>\n",
       "      <td>0</td>\n",
       "      <td>georeferenciada agosto 31</td>\n",
       "      <td>1858</td>\n",
       "      <td>5.001112e+10</td>\n",
       "      <td>1</td>\n",
       "      <td>True</td>\n",
       "    </tr>\n",
       "    <tr>\n",
       "      <th>3</th>\n",
       "      <td>1225</td>\n",
       "      <td>1220</td>\n",
       "      <td>5</td>\n",
       "      <td>Antioquia</td>\n",
       "      <td>5001</td>\n",
       "      <td>Medellin</td>\n",
       "      <td>50011116512</td>\n",
       "      <td>LA LOMITA</td>\n",
       "      <td>HCB INTEGRAL - COMUNITARIO INTEGRAL</td>\n",
       "      <td>ACTIVA</td>\n",
       "      <td>...</td>\n",
       "      <td>5.0</td>\n",
       "      <td>ANTIOQUIA</td>\n",
       "      <td>5001.0</td>\n",
       "      <td>MEDELLÍN</td>\n",
       "      <td>0</td>\n",
       "      <td>georeferenciada agosto 31</td>\n",
       "      <td>1858</td>\n",
       "      <td>5.001112e+10</td>\n",
       "      <td>1</td>\n",
       "      <td>True</td>\n",
       "    </tr>\n",
       "    <tr>\n",
       "      <th>4</th>\n",
       "      <td>2730</td>\n",
       "      <td>2731</td>\n",
       "      <td>5</td>\n",
       "      <td>Antioquia</td>\n",
       "      <td>5001</td>\n",
       "      <td>Medellin</td>\n",
       "      <td>50011116581</td>\n",
       "      <td>CARITAS ALEGRES</td>\n",
       "      <td>HCB INTEGRAL - COMUNITARIO INTEGRAL</td>\n",
       "      <td>ACTIVA</td>\n",
       "      <td>...</td>\n",
       "      <td>5.0</td>\n",
       "      <td>ANTIOQUIA</td>\n",
       "      <td>5001.0</td>\n",
       "      <td>MEDELLÍN</td>\n",
       "      <td>0</td>\n",
       "      <td>georeferenciada agosto 31</td>\n",
       "      <td>1862</td>\n",
       "      <td>5.001112e+10</td>\n",
       "      <td>1</td>\n",
       "      <td>True</td>\n",
       "    </tr>\n",
       "    <tr>\n",
       "      <th>5</th>\n",
       "      <td>2253</td>\n",
       "      <td>2254</td>\n",
       "      <td>5</td>\n",
       "      <td>Antioquia</td>\n",
       "      <td>5001</td>\n",
       "      <td>Medellin</td>\n",
       "      <td>50011116581</td>\n",
       "      <td>CARITAS ALEGRES</td>\n",
       "      <td>HCB - COMUNITARIO</td>\n",
       "      <td>ACTIVA</td>\n",
       "      <td>...</td>\n",
       "      <td>5.0</td>\n",
       "      <td>ANTIOQUIA</td>\n",
       "      <td>5001.0</td>\n",
       "      <td>MEDELLÍN</td>\n",
       "      <td>0</td>\n",
       "      <td>georeferenciada agosto 31</td>\n",
       "      <td>1862</td>\n",
       "      <td>5.001112e+10</td>\n",
       "      <td>1</td>\n",
       "      <td>True</td>\n",
       "    </tr>\n",
       "  </tbody>\n",
       "</table>\n",
       "<p>6 rows × 41 columns</p>\n",
       "</div>"
      ],
      "text/plain": [
       "   index  OBJECTID_12  CodigoDepa Departamen  CodigoMuni MunicipioU  \\\n",
       "0   2376         2377           5  Antioquia        5001   Medellin   \n",
       "1   3009         3010           5  Antioquia        5001   Medellin   \n",
       "2   2110         2111           5  Antioquia        5001   Medellin   \n",
       "3   1225         1220           5  Antioquia        5001   Medellin   \n",
       "4   2730         2731           5  Antioquia        5001   Medellin   \n",
       "5   2253         2254           5  Antioquia        5001   Medellin   \n",
       "\n",
       "    CodigoUnid       UnidadServ                           NombreServ  \\\n",
       "0  50011115887  MI PEQUEÑO PONY  HCB INTEGRAL - COMUNITARIO INTEGRAL   \n",
       "1  50011115887  MI PEQUEÑO PONY                    HCB - COMUNITARIO   \n",
       "2  50011116512        LA LOMITA                    HCB - COMUNITARIO   \n",
       "3  50011116512        LA LOMITA  HCB INTEGRAL - COMUNITARIO INTEGRAL   \n",
       "4  50011116581  CARITAS ALEGRES  HCB INTEGRAL - COMUNITARIO INTEGRAL   \n",
       "5  50011116581  CARITAS ALEGRES                    HCB - COMUNITARIO   \n",
       "\n",
       "  EstadoUDS  ... CODDEP     DEP_12  CODMUN  MUNICIPI_2 area_km  \\\n",
       "0    ACTIVA  ...    5.0  ANTIOQUIA  5001.0    MEDELLÍN       0   \n",
       "1    ACTIVA  ...    5.0  ANTIOQUIA  5001.0    MEDELLÍN       0   \n",
       "2    ACTIVA  ...    5.0  ANTIOQUIA  5001.0    MEDELLÍN       0   \n",
       "3    ACTIVA  ...    5.0  ANTIOQUIA  5001.0    MEDELLÍN       0   \n",
       "4    ACTIVA  ...    5.0  ANTIOQUIA  5001.0    MEDELLÍN       0   \n",
       "5    ACTIVA  ...    5.0  ANTIOQUIA  5001.0    MEDELLÍN       0   \n",
       "\n",
       "                   estadogeo  OID_    CodigoUn_1  Cnt_Codigo Duplicadas  \n",
       "0  georeferenciada agosto 31  1852  5.001112e+10           1       True  \n",
       "1  georeferenciada agosto 31  1852  5.001112e+10           1       True  \n",
       "2  georeferenciada agosto 31  1858  5.001112e+10           1       True  \n",
       "3  georeferenciada agosto 31  1858  5.001112e+10           1       True  \n",
       "4  georeferenciada agosto 31  1862  5.001112e+10           1       True  \n",
       "5  georeferenciada agosto 31  1862  5.001112e+10           1       True  \n",
       "\n",
       "[6 rows x 41 columns]"
      ]
     },
     "metadata": {},
     "execution_count": 9
    }
   ],
   "metadata": {}
  },
  {
   "cell_type": "code",
   "execution_count": 10,
   "source": [
    "uds1[\"Duplicadas\"] = uds1.duplicated(subset=\"CodigoUnid\", keep='first')\n",
    "uds1 = uds1.query(\"Duplicadas==False\").copy()\n",
    "uds1.sort_values(by=\"CodigoUnid\", inplace=True)\n",
    "uds1.reset_index(inplace=True)\n",
    "len(uds1)"
   ],
   "outputs": [
    {
     "output_type": "execute_result",
     "data": {
      "text/plain": [
       "68281"
      ]
     },
     "metadata": {},
     "execution_count": 10
    }
   ],
   "metadata": {}
  },
  {
   "cell_type": "markdown",
   "source": [
    "## Unión Bases"
   ],
   "metadata": {}
  },
  {
   "cell_type": "code",
   "execution_count": 11,
   "source": [
    "df = nna.merge(uds1, left_on='CodigoUnidadServicio', right_on='CodigoUnid', how=\"left\")"
   ],
   "outputs": [],
   "metadata": {}
  },
  {
   "cell_type": "code",
   "execution_count": 12,
   "source": [
    "\"Base inicial NNA {}, cruce con UDS {}, Diferencia {}\".format(len(nna),len(df),len(nna)-len(df))"
   ],
   "outputs": [
    {
     "output_type": "execute_result",
     "data": {
      "text/plain": [
       "'Base inicial NNA 949577, cruce con UDS 949577, Diferencia 0'"
      ]
     },
     "metadata": {},
     "execution_count": 12
    }
   ],
   "metadata": {}
  },
  {
   "cell_type": "code",
   "execution_count": 13,
   "source": [
    "print(\"NNA que no cruzan con base UDS\")\n",
    "df.CodigoUnid.isna().sum()"
   ],
   "outputs": [
    {
     "output_type": "stream",
     "name": "stdout",
     "text": [
      "NNA que no cruzan con base UDS\n"
     ]
    },
    {
     "output_type": "execute_result",
     "data": {
      "text/plain": [
       "8381"
      ]
     },
     "metadata": {},
     "execution_count": 13
    }
   ],
   "metadata": {}
  },
  {
   "cell_type": "code",
   "execution_count": 14,
   "source": [
    "# Municipios y Departamentos de NNA que no Cruzan con Base UDS\n",
    "df.loc[df.CodigoUnid.isna()].MunicipioUDS.value_counts().reset_index()"
   ],
   "outputs": [
    {
     "output_type": "execute_result",
     "data": {
      "text/html": [
       "<div>\n",
       "<style scoped>\n",
       "    .dataframe tbody tr th:only-of-type {\n",
       "        vertical-align: middle;\n",
       "    }\n",
       "\n",
       "    .dataframe tbody tr th {\n",
       "        vertical-align: top;\n",
       "    }\n",
       "\n",
       "    .dataframe thead th {\n",
       "        text-align: right;\n",
       "    }\n",
       "</style>\n",
       "<table border=\"1\" class=\"dataframe\">\n",
       "  <thead>\n",
       "    <tr style=\"text-align: right;\">\n",
       "      <th></th>\n",
       "      <th>index</th>\n",
       "      <th>MunicipioUDS</th>\n",
       "    </tr>\n",
       "  </thead>\n",
       "  <tbody>\n",
       "    <tr>\n",
       "      <th>0</th>\n",
       "      <td>Hacari</td>\n",
       "      <td>373</td>\n",
       "    </tr>\n",
       "    <tr>\n",
       "      <th>1</th>\n",
       "      <td>La Playa</td>\n",
       "      <td>366</td>\n",
       "    </tr>\n",
       "    <tr>\n",
       "      <th>2</th>\n",
       "      <td>Jamundi</td>\n",
       "      <td>343</td>\n",
       "    </tr>\n",
       "    <tr>\n",
       "      <th>3</th>\n",
       "      <td>Bogota, D.C.</td>\n",
       "      <td>274</td>\n",
       "    </tr>\n",
       "    <tr>\n",
       "      <th>4</th>\n",
       "      <td>Cucuta</td>\n",
       "      <td>226</td>\n",
       "    </tr>\n",
       "    <tr>\n",
       "      <th>...</th>\n",
       "      <td>...</td>\n",
       "      <td>...</td>\n",
       "    </tr>\n",
       "    <tr>\n",
       "      <th>223</th>\n",
       "      <td>Paez</td>\n",
       "      <td>1</td>\n",
       "    </tr>\n",
       "    <tr>\n",
       "      <th>224</th>\n",
       "      <td>Valledupar</td>\n",
       "      <td>1</td>\n",
       "    </tr>\n",
       "    <tr>\n",
       "      <th>225</th>\n",
       "      <td>Zona Bananera</td>\n",
       "      <td>1</td>\n",
       "    </tr>\n",
       "    <tr>\n",
       "      <th>226</th>\n",
       "      <td>Manizales</td>\n",
       "      <td>1</td>\n",
       "    </tr>\n",
       "    <tr>\n",
       "      <th>227</th>\n",
       "      <td>Belalcazar</td>\n",
       "      <td>1</td>\n",
       "    </tr>\n",
       "  </tbody>\n",
       "</table>\n",
       "<p>228 rows × 2 columns</p>\n",
       "</div>"
      ],
      "text/plain": [
       "             index  MunicipioUDS\n",
       "0           Hacari           373\n",
       "1         La Playa           366\n",
       "2          Jamundi           343\n",
       "3     Bogota, D.C.           274\n",
       "4           Cucuta           226\n",
       "..             ...           ...\n",
       "223           Paez             1\n",
       "224     Valledupar             1\n",
       "225  Zona Bananera             1\n",
       "226      Manizales             1\n",
       "227     Belalcazar             1\n",
       "\n",
       "[228 rows x 2 columns]"
      ]
     },
     "metadata": {},
     "execution_count": 14
    }
   ],
   "metadata": {}
  },
  {
   "cell_type": "code",
   "execution_count": 15,
   "source": [
    "df.loc[df.CodigoUnid.isna()].DepartamentoUDS.value_counts().reset_index()"
   ],
   "outputs": [
    {
     "output_type": "execute_result",
     "data": {
      "text/html": [
       "<div>\n",
       "<style scoped>\n",
       "    .dataframe tbody tr th:only-of-type {\n",
       "        vertical-align: middle;\n",
       "    }\n",
       "\n",
       "    .dataframe tbody tr th {\n",
       "        vertical-align: top;\n",
       "    }\n",
       "\n",
       "    .dataframe thead th {\n",
       "        text-align: right;\n",
       "    }\n",
       "</style>\n",
       "<table border=\"1\" class=\"dataframe\">\n",
       "  <thead>\n",
       "    <tr style=\"text-align: right;\">\n",
       "      <th></th>\n",
       "      <th>index</th>\n",
       "      <th>DepartamentoUDS</th>\n",
       "    </tr>\n",
       "  </thead>\n",
       "  <tbody>\n",
       "    <tr>\n",
       "      <th>0</th>\n",
       "      <td>Norte De Santander</td>\n",
       "      <td>1525</td>\n",
       "    </tr>\n",
       "    <tr>\n",
       "      <th>1</th>\n",
       "      <td>Valle Del Cauca</td>\n",
       "      <td>866</td>\n",
       "    </tr>\n",
       "    <tr>\n",
       "      <th>2</th>\n",
       "      <td>Córdoba</td>\n",
       "      <td>694</td>\n",
       "    </tr>\n",
       "    <tr>\n",
       "      <th>3</th>\n",
       "      <td>Chocó</td>\n",
       "      <td>611</td>\n",
       "    </tr>\n",
       "    <tr>\n",
       "      <th>4</th>\n",
       "      <td>Antioquia</td>\n",
       "      <td>549</td>\n",
       "    </tr>\n",
       "    <tr>\n",
       "      <th>5</th>\n",
       "      <td>La Guajira</td>\n",
       "      <td>454</td>\n",
       "    </tr>\n",
       "    <tr>\n",
       "      <th>6</th>\n",
       "      <td>Magdalena</td>\n",
       "      <td>400</td>\n",
       "    </tr>\n",
       "    <tr>\n",
       "      <th>7</th>\n",
       "      <td>Santander</td>\n",
       "      <td>389</td>\n",
       "    </tr>\n",
       "    <tr>\n",
       "      <th>8</th>\n",
       "      <td>Meta</td>\n",
       "      <td>383</td>\n",
       "    </tr>\n",
       "    <tr>\n",
       "      <th>9</th>\n",
       "      <td>Sucre</td>\n",
       "      <td>352</td>\n",
       "    </tr>\n",
       "    <tr>\n",
       "      <th>10</th>\n",
       "      <td>Cesar</td>\n",
       "      <td>346</td>\n",
       "    </tr>\n",
       "    <tr>\n",
       "      <th>11</th>\n",
       "      <td>Putumayo</td>\n",
       "      <td>276</td>\n",
       "    </tr>\n",
       "    <tr>\n",
       "      <th>12</th>\n",
       "      <td>Bogota D.C.</td>\n",
       "      <td>274</td>\n",
       "    </tr>\n",
       "    <tr>\n",
       "      <th>13</th>\n",
       "      <td>Huila</td>\n",
       "      <td>176</td>\n",
       "    </tr>\n",
       "    <tr>\n",
       "      <th>14</th>\n",
       "      <td>Cundinamarca</td>\n",
       "      <td>169</td>\n",
       "    </tr>\n",
       "    <tr>\n",
       "      <th>15</th>\n",
       "      <td>Boyacá</td>\n",
       "      <td>163</td>\n",
       "    </tr>\n",
       "    <tr>\n",
       "      <th>16</th>\n",
       "      <td>Nariño</td>\n",
       "      <td>133</td>\n",
       "    </tr>\n",
       "    <tr>\n",
       "      <th>17</th>\n",
       "      <td>Bolívar</td>\n",
       "      <td>120</td>\n",
       "    </tr>\n",
       "    <tr>\n",
       "      <th>18</th>\n",
       "      <td>Tolima</td>\n",
       "      <td>101</td>\n",
       "    </tr>\n",
       "    <tr>\n",
       "      <th>19</th>\n",
       "      <td>Cauca</td>\n",
       "      <td>86</td>\n",
       "    </tr>\n",
       "    <tr>\n",
       "      <th>20</th>\n",
       "      <td>Casanare</td>\n",
       "      <td>68</td>\n",
       "    </tr>\n",
       "    <tr>\n",
       "      <th>21</th>\n",
       "      <td>Arauca</td>\n",
       "      <td>62</td>\n",
       "    </tr>\n",
       "    <tr>\n",
       "      <th>22</th>\n",
       "      <td>Risaralda</td>\n",
       "      <td>47</td>\n",
       "    </tr>\n",
       "    <tr>\n",
       "      <th>23</th>\n",
       "      <td>Quindio</td>\n",
       "      <td>46</td>\n",
       "    </tr>\n",
       "    <tr>\n",
       "      <th>24</th>\n",
       "      <td>Caquetá</td>\n",
       "      <td>46</td>\n",
       "    </tr>\n",
       "    <tr>\n",
       "      <th>25</th>\n",
       "      <td>Caldas</td>\n",
       "      <td>17</td>\n",
       "    </tr>\n",
       "    <tr>\n",
       "      <th>26</th>\n",
       "      <td>Guaviare</td>\n",
       "      <td>15</td>\n",
       "    </tr>\n",
       "    <tr>\n",
       "      <th>27</th>\n",
       "      <td>Atlántico</td>\n",
       "      <td>9</td>\n",
       "    </tr>\n",
       "    <tr>\n",
       "      <th>28</th>\n",
       "      <td>Vichada</td>\n",
       "      <td>2</td>\n",
       "    </tr>\n",
       "    <tr>\n",
       "      <th>29</th>\n",
       "      <td>Vaupés</td>\n",
       "      <td>2</td>\n",
       "    </tr>\n",
       "  </tbody>\n",
       "</table>\n",
       "</div>"
      ],
      "text/plain": [
       "                 index  DepartamentoUDS\n",
       "0   Norte De Santander             1525\n",
       "1     Valle Del Cauca               866\n",
       "2              Córdoba              694\n",
       "3                Chocó              611\n",
       "4            Antioquia              549\n",
       "5           La Guajira              454\n",
       "6            Magdalena              400\n",
       "7            Santander              389\n",
       "8                 Meta              383\n",
       "9                Sucre              352\n",
       "10               Cesar              346\n",
       "11            Putumayo              276\n",
       "12         Bogota D.C.              274\n",
       "13               Huila              176\n",
       "14        Cundinamarca              169\n",
       "15              Boyacá              163\n",
       "16              Nariño              133\n",
       "17             Bolívar              120\n",
       "18              Tolima              101\n",
       "19               Cauca               86\n",
       "20            Casanare               68\n",
       "21              Arauca               62\n",
       "22           Risaralda               47\n",
       "23             Quindio               46\n",
       "24             Caquetá               46\n",
       "25              Caldas               17\n",
       "26            Guaviare               15\n",
       "27           Atlántico                9\n",
       "28             Vichada                2\n",
       "29              Vaupés                2"
      ]
     },
     "metadata": {},
     "execution_count": 15
    }
   ],
   "metadata": {}
  },
  {
   "cell_type": "code",
   "execution_count": 16,
   "source": [
    "df['LATITUD_NNA'] = df['Coord_x_auto_enc'].str.replace(',', '.').astype('float')\n",
    "df['LONGITUD_NNA'] = df['Coord_y_auto_enc'].str.replace(',', '.').astype('float')"
   ],
   "outputs": [],
   "metadata": {}
  },
  {
   "cell_type": "code",
   "execution_count": 17,
   "source": [
    "df.LONGITUD_NNA = df.LONGITUD_NNA.apply(lambda x: x*10 if x < 1.0 and x > -1.0 else x)"
   ],
   "outputs": [],
   "metadata": {}
  },
  {
   "cell_type": "markdown",
   "source": [
    "Longitud y Latitud Corregida"
   ],
   "metadata": {}
  },
  {
   "cell_type": "code",
   "execution_count": 20,
   "source": [
    "LONGITUD_NNA_2 = np.where(df['LONGITUD_NNA'].between(-81.8, -60.0), df['LONGITUD_NNA'], df['LATITUD_NNA'])\n",
    "LATITUD_NNA_2 = np.where(df['LATITUD_NNA'].between(-20.0, 15.0), df['LATITUD_NNA'], \n",
    "                         np.where(df['LONGITUD_NNA'].between(-20.0, 15.0), df['LONGITUD_NNA'],\n",
    "                                  df['LATITUD_NNA']))\n",
    "\n",
    "LONGITUD_NNA_2 = pd.DataFrame(LONGITUD_NNA_2)\n",
    "LATITUD_NNA_2 = pd.DataFrame(LATITUD_NNA_2)\n",
    "\n",
    "df['LONGITUD_NNA_2'] = LONGITUD_NNA_2[0]\n",
    "df['LATITUD_NNA_2'] = LATITUD_NNA_2[0]\n",
    "\n",
    "df['LONGITUD_NNA_2'] = df['LONGITUD_NNA_2'].apply(lambda x: x if x<0 else -x)"
   ],
   "outputs": [],
   "metadata": {}
  },
  {
   "cell_type": "markdown",
   "source": [
    "### Función de Distancias"
   ],
   "metadata": {}
  },
  {
   "cell_type": "code",
   "execution_count": 13,
   "source": [
    "def calculo_distancia(df, lat1,lon1,lat2,lon2):\n",
    "    #Cálculo de distancia harvesiana\n",
    "    lat1=df[lat1].astype(float)\n",
    "    long1=df[lon1].astype(float)\n",
    "\n",
    "    lat2=df[lat2].astype(float)\n",
    "    long2=df[lon2].astype(float)\n",
    "    long1, lat1, long2, lat2 = map(np.radians, [long1, lat1, long2, lat2])\n",
    "    # haversine formula\n",
    "    dlong = long2 - long1\n",
    "    dlat = lat2 - lat1\n",
    "    a = np.sin(dlat / 2)**2 + np.cos(lat1) * np.cos(lat2) * np.sin(dlong / 2)**2\n",
    "    c = 2 * np.arcsin(np.sqrt(a))\n",
    "    earth_radius = 6367\n",
    "    d = earth_radius * c\n",
    "    return df.assign(Distancia = lambda x : d)"
   ],
   "outputs": [],
   "metadata": {}
  },
  {
   "cell_type": "code",
   "execution_count": 23,
   "source": [
    "df = calculo_distancia(df,'LATITUD','LONGITUD','LATITUD_NNA_2','LONGITUD_NNA_2')"
   ],
   "outputs": [],
   "metadata": {}
  },
  {
   "cell_type": "code",
   "execution_count": 24,
   "source": [
    "df['pct_rank'] = df['Distancia'].rank(pct=True)\n",
    "df.sort_values(by=\"Distancia\",ascending=False)[['LATITUD', 'LONGITUD','LATITUD_NNA','LONGITUD_NNA','LATITUD_NNA_2','LONGITUD_NNA_2','Distancia','pct_rank']]"
   ],
   "outputs": [
    {
     "output_type": "execute_result",
     "data": {
      "text/html": [
       "<div>\n",
       "<style scoped>\n",
       "    .dataframe tbody tr th:only-of-type {\n",
       "        vertical-align: middle;\n",
       "    }\n",
       "\n",
       "    .dataframe tbody tr th {\n",
       "        vertical-align: top;\n",
       "    }\n",
       "\n",
       "    .dataframe thead th {\n",
       "        text-align: right;\n",
       "    }\n",
       "</style>\n",
       "<table border=\"1\" class=\"dataframe\">\n",
       "  <thead>\n",
       "    <tr style=\"text-align: right;\">\n",
       "      <th></th>\n",
       "      <th>LATITUD</th>\n",
       "      <th>LONGITUD</th>\n",
       "      <th>LATITUD_NNA</th>\n",
       "      <th>LONGITUD_NNA</th>\n",
       "      <th>LATITUD_NNA_2</th>\n",
       "      <th>LONGITUD_NNA_2</th>\n",
       "      <th>Distancia</th>\n",
       "      <th>pct_rank</th>\n",
       "    </tr>\n",
       "  </thead>\n",
       "  <tbody>\n",
       "    <tr>\n",
       "      <th>520250</th>\n",
       "      <td>4.788306</td>\n",
       "      <td>-71.343083</td>\n",
       "      <td>50.849810</td>\n",
       "      <td>4.341914</td>\n",
       "      <td>4.341914</td>\n",
       "      <td>-50.849810</td>\n",
       "      <td>2270.551000</td>\n",
       "      <td>1.000000</td>\n",
       "    </tr>\n",
       "    <tr>\n",
       "      <th>734883</th>\n",
       "      <td>4.788306</td>\n",
       "      <td>-71.343083</td>\n",
       "      <td>50.849857</td>\n",
       "      <td>4.341837</td>\n",
       "      <td>4.341837</td>\n",
       "      <td>-50.849857</td>\n",
       "      <td>2270.546103</td>\n",
       "      <td>0.999998</td>\n",
       "    </tr>\n",
       "    <tr>\n",
       "      <th>925827</th>\n",
       "      <td>4.788306</td>\n",
       "      <td>-71.343083</td>\n",
       "      <td>50.849857</td>\n",
       "      <td>4.341837</td>\n",
       "      <td>4.341837</td>\n",
       "      <td>-50.849857</td>\n",
       "      <td>2270.546103</td>\n",
       "      <td>0.999998</td>\n",
       "    </tr>\n",
       "    <tr>\n",
       "      <th>329846</th>\n",
       "      <td>4.788306</td>\n",
       "      <td>-71.343083</td>\n",
       "      <td>50.849857</td>\n",
       "      <td>4.341837</td>\n",
       "      <td>4.341837</td>\n",
       "      <td>-50.849857</td>\n",
       "      <td>2270.546103</td>\n",
       "      <td>0.999998</td>\n",
       "    </tr>\n",
       "    <tr>\n",
       "      <th>905588</th>\n",
       "      <td>4.791222</td>\n",
       "      <td>-71.332639</td>\n",
       "      <td>50.849810</td>\n",
       "      <td>4.341914</td>\n",
       "      <td>4.341914</td>\n",
       "      <td>-50.849810</td>\n",
       "      <td>2269.396812</td>\n",
       "      <td>0.999996</td>\n",
       "    </tr>\n",
       "    <tr>\n",
       "      <th>...</th>\n",
       "      <td>...</td>\n",
       "      <td>...</td>\n",
       "      <td>...</td>\n",
       "      <td>...</td>\n",
       "      <td>...</td>\n",
       "      <td>...</td>\n",
       "      <td>...</td>\n",
       "      <td>...</td>\n",
       "    </tr>\n",
       "    <tr>\n",
       "      <th>948874</th>\n",
       "      <td>NaN</td>\n",
       "      <td>NaN</td>\n",
       "      <td>7.148232</td>\n",
       "      <td>-73.133390</td>\n",
       "      <td>7.148232</td>\n",
       "      <td>-73.133390</td>\n",
       "      <td>NaN</td>\n",
       "      <td>NaN</td>\n",
       "    </tr>\n",
       "    <tr>\n",
       "      <th>949003</th>\n",
       "      <td>NaN</td>\n",
       "      <td>NaN</td>\n",
       "      <td>7.508638</td>\n",
       "      <td>-73.560795</td>\n",
       "      <td>7.508638</td>\n",
       "      <td>-73.560795</td>\n",
       "      <td>NaN</td>\n",
       "      <td>NaN</td>\n",
       "    </tr>\n",
       "    <tr>\n",
       "      <th>949170</th>\n",
       "      <td>2.896158</td>\n",
       "      <td>-75.439700</td>\n",
       "      <td>NaN</td>\n",
       "      <td>NaN</td>\n",
       "      <td>NaN</td>\n",
       "      <td>NaN</td>\n",
       "      <td>NaN</td>\n",
       "      <td>NaN</td>\n",
       "    </tr>\n",
       "    <tr>\n",
       "      <th>949189</th>\n",
       "      <td>NaN</td>\n",
       "      <td>NaN</td>\n",
       "      <td>7.077567</td>\n",
       "      <td>-73.117439</td>\n",
       "      <td>7.077567</td>\n",
       "      <td>-73.117439</td>\n",
       "      <td>NaN</td>\n",
       "      <td>NaN</td>\n",
       "    </tr>\n",
       "    <tr>\n",
       "      <th>949459</th>\n",
       "      <td>5.613949</td>\n",
       "      <td>-75.455605</td>\n",
       "      <td>NaN</td>\n",
       "      <td>NaN</td>\n",
       "      <td>NaN</td>\n",
       "      <td>NaN</td>\n",
       "      <td>NaN</td>\n",
       "      <td>NaN</td>\n",
       "    </tr>\n",
       "  </tbody>\n",
       "</table>\n",
       "<p>949577 rows × 8 columns</p>\n",
       "</div>"
      ],
      "text/plain": [
       "         LATITUD   LONGITUD  LATITUD_NNA  LONGITUD_NNA  LATITUD_NNA_2  \\\n",
       "520250  4.788306 -71.343083    50.849810      4.341914       4.341914   \n",
       "734883  4.788306 -71.343083    50.849857      4.341837       4.341837   \n",
       "925827  4.788306 -71.343083    50.849857      4.341837       4.341837   \n",
       "329846  4.788306 -71.343083    50.849857      4.341837       4.341837   \n",
       "905588  4.791222 -71.332639    50.849810      4.341914       4.341914   \n",
       "...          ...        ...          ...           ...            ...   \n",
       "948874       NaN        NaN     7.148232    -73.133390       7.148232   \n",
       "949003       NaN        NaN     7.508638    -73.560795       7.508638   \n",
       "949170  2.896158 -75.439700          NaN           NaN            NaN   \n",
       "949189       NaN        NaN     7.077567    -73.117439       7.077567   \n",
       "949459  5.613949 -75.455605          NaN           NaN            NaN   \n",
       "\n",
       "        LONGITUD_NNA_2    Distancia  pct_rank  \n",
       "520250      -50.849810  2270.551000  1.000000  \n",
       "734883      -50.849857  2270.546103  0.999998  \n",
       "925827      -50.849857  2270.546103  0.999998  \n",
       "329846      -50.849857  2270.546103  0.999998  \n",
       "905588      -50.849810  2269.396812  0.999996  \n",
       "...                ...          ...       ...  \n",
       "948874      -73.133390          NaN       NaN  \n",
       "949003      -73.560795          NaN       NaN  \n",
       "949170             NaN          NaN       NaN  \n",
       "949189      -73.117439          NaN       NaN  \n",
       "949459             NaN          NaN       NaN  \n",
       "\n",
       "[949577 rows x 8 columns]"
      ]
     },
     "metadata": {},
     "execution_count": 24
    }
   ],
   "metadata": {}
  },
  {
   "cell_type": "code",
   "execution_count": 25,
   "source": [
    "sz = df['Distancia'].size-1"
   ],
   "outputs": [],
   "metadata": {}
  },
  {
   "cell_type": "code",
   "execution_count": 26,
   "source": [
    "df['pctile'] = df['Distancia'].rank(method='average').apply(lambda x: round(100.0*(x-1)/sz, 0))"
   ],
   "outputs": [],
   "metadata": {}
  },
  {
   "cell_type": "code",
   "execution_count": 32,
   "source": [
    "\n",
    "df.pctile.hist()"
   ],
   "outputs": [
    {
     "output_type": "execute_result",
     "data": {
      "text/plain": [
       "<AxesSubplot:>"
      ]
     },
     "metadata": {},
     "execution_count": 32
    },
    {
     "output_type": "display_data",
     "data": {
      "image/png": "[encoded data removed]",
      "text/plain": [
       "<Figure size 432x288 with 1 Axes>"
      ]
     },
     "metadata": {
      "needs_background": "light"
     }
    }
   ],
   "metadata": {}
  },
  {
   "cell_type": "code",
   "execution_count": 33,
   "source": [
    "casos_2_lejanos = pd.DataFrame(df.sort_values(by=[\"Distancia\"],ascending=False).head(2))\n",
    "# \n",
    "m = folium.Map(location=[4.7110, -74.0721], zoom_start=5, tiles='CartoDB positron')\n",
    "# \n",
    "for _, r in casos_2_lejanos.iterrows():\n",
    "    folium.Marker(location=[r[\"LATITUD_NNA_2\"],r[\"LONGITUD_NNA_2\"]], popup='Beneficiario ID: {}'.format(r['idbeneficiario']), draggable=True).add_to(m)\n",
    "    folium.Marker(location=[r[\"LATITUD\"], r[\"LONGITUD\"]], popup='Código UDS: {} <br> UDS: {}'.format(r['CodigoUnidadServicio'], r['UnidadServicio']), draggable=True).add_to(m)\n",
    "    points = [[r[\"LATITUD_NNA_2\"],r[\"LONGITUD_NNA_2\"]],[r[\"LATITUD\"], r[\"LONGITUD\"]]]\n",
    "    folium.PolyLine(points, color='red').add_to(m)\n",
    "m"
   ],
   "outputs": [
    {
     "output_type": "execute_result",
     "data": {
      "text/html": [
       "<div style=\"width:100%;\"><div style=\"position:relative;width:100%;height:0;padding-bottom:60%;\"><span style=\"color:#565656\">Make this Notebook Trusted to load map: File -> Trust Notebook</span><iframe src=\"about:blank\" style=\"position:absolute;width:100%;height:100%;left:0;top:0;border:none !important;\" data-html=%3C%21DOCTYPE%20html%3E%0A%3Chead%3E%20%20%20%20%0A%20%20%20%20%3Cmeta%20http-equiv%3D%22content-type%22%20content%3D%22text/html%3B%20charset%3DUTF-8%22%20/%3E%0A%20%20%20%20%0A%20%20%20%20%20%20%20%20%3Cscript%3E%0A%20%20%20%20%20%20%20%20%20%20%20%20L_NO_TOUCH%20%3D%20false%3B%0A%20%20%20%20%20%20%20%20%20%20%20%20L_DISABLE_3D%20%3D%20false%3B%0A%20%20%20%20%20%20%20%20%3C/script%3E%0A%20%20%20%20%0A%20%20%20%20%3Cstyle%3Ehtml%2C%20body%20%7Bwidth%3A%20100%25%3Bheight%3A%20100%25%3Bmargin%3A%200%3Bpadding%3A%200%3B%7D%3C/style%3E%0A%20%20%20%20%3Cstyle%3E%23map%20%7Bposition%3Aabsolute%3Btop%3A0%3Bbottom%3A0%3Bright%3A0%3Bleft%3A0%3B%7D%3C/style%3E%0A%20%20%20%20%3Cscript%20src%3D%22https%3A//cdn.jsdelivr.net/npm/leaflet%401.6.0/dist/leaflet.js%22%3E%3C/script%3E%0A%20%20%20%20%3Cscript%20src%3D%22https%3A//code.jquery.com/jquery-1.12.4.min.js%22%3E%3C/script%3E%0A%20%20%20%20%3Cscript%20src%3D%22https%3A//maxcdn.bootstrapcdn.com/bootstrap/3.2.0/js/bootstrap.min.js%22%3E%3C/script%3E%0A%20%20%20%20%3Cscript%20src%3D%22https%3A//cdnjs.cloudflare.com/ajax/libs/Leaflet.awesome-markers/2.0.2/leaflet.awesome-markers.js%22%3E%3C/script%3E%0A%20%20%20%20%3Clink%20rel%3D%22stylesheet%22%20href%3D%22https%3A//cdn.jsdelivr.net/npm/leaflet%401.6.0/dist/leaflet.css%22/%3E%0A%20%20%20%20%3Clink%20rel%3D%22stylesheet%22%20href%3D%22https%3A//maxcdn.bootstrapcdn.com/bootstrap/3.2.0/css/bootstrap.min.css%22/%3E%0A%20%20%20%20%3Clink%20rel%3D%22stylesheet%22%20href%3D%22https%3A//maxcdn.bootstrapcdn.com/bootstrap/3.2.0/css/bootstrap-theme.min.css%22/%3E%0A%20%20%20%20%3Clink%20rel%3D%22stylesheet%22%20href%3D%22https%3A//maxcdn.bootstrapcdn.com/font-awesome/4.6.3/css/font-awesome.min.css%22/%3E%0A%20%20%20%20%3Clink%20rel%3D%22stylesheet%22%20href%3D%22https%3A//cdnjs.cloudflare.com/ajax/libs/Leaflet.awesome-markers/2.0.2/leaflet.awesome-markers.css%22/%3E%0A%20%20%20%20%3Clink%20rel%3D%22stylesheet%22%20href%3D%22https%3A//cdn.jsdelivr.net/gh/python-visualization/folium/folium/templates/leaflet.awesome.rotate.min.css%22/%3E%0A%20%20%20%20%0A%20%20%20%20%20%20%20%20%20%20%20%20%3Cmeta%20name%3D%22viewport%22%20content%3D%22width%3Ddevice-width%2C%0A%20%20%20%20%20%20%20%20%20%20%20%20%20%20%20%20initial-scale%3D1.0%2C%20maximum-scale%3D1.0%2C%20user-scalable%3Dno%22%20/%3E%0A%20%20%20%20%20%20%20%20%20%20%20%20%3Cstyle%3E%0A%20%20%20%20%20%20%20%20%20%20%20%20%20%20%20%20%23map_b422c49294954dc3867db14bae701812%20%7B%0A%20%20%20%20%20%20%20%20%20%20%20%20%20%20%20%20%20%20%20%20position%3A%20relative%3B%0A%20%20%20%20%20%20%20%20%20%20%20%20%20%20%20%20%20%20%20%20width%3A%20100.0%25%3B%0A%20%20%20%20%20%20%20%20%20%20%20%20%20%20%20%20%20%20%20%20height%3A%20100.0%25%3B%0A%20%20%20%20%20%20%20%20%20%20%20%20%20%20%20%20%20%20%20%20left%3A%200.0%25%3B%0A%20%20%20%20%20%20%20%20%20%20%20%20%20%20%20%20%20%20%20%20top%3A%200.0%25%3B%0A%20%20%20%20%20%20%20%20%20%20%20%20%20%20%20%20%7D%0A%20%20%20%20%20%20%20%20%20%20%20%20%3C/style%3E%0A%20%20%20%20%20%20%20%20%0A%3C/head%3E%0A%3Cbody%3E%20%20%20%20%0A%20%20%20%20%0A%20%20%20%20%20%20%20%20%20%20%20%20%3Cdiv%20class%3D%22folium-map%22%20id%3D%22map_b422c49294954dc3867db14bae701812%22%20%3E%3C/div%3E%0A%20%20%20%20%20%20%20%20%0A%3C/body%3E%0A%3Cscript%3E%20%20%20%20%0A%20%20%20%20%0A%20%20%20%20%20%20%20%20%20%20%20%20var%20map_b422c49294954dc3867db14bae701812%20%3D%20L.map%28%0A%20%20%20%20%20%20%20%20%20%20%20%20%20%20%20%20%22map_b422c49294954dc3867db14bae701812%22%2C%0A%20%20%20%20%20%20%20%20%20%20%20%20%20%20%20%20%7B%0A%20%20%20%20%20%20%20%20%20%20%20%20%20%20%20%20%20%20%20%20center%3A%20%5B4.711%2C%20-74.0721%5D%2C%0A%20%20%20%20%20%20%20%20%20%20%20%20%20%20%20%20%20%20%20%20crs%3A%20L.CRS.EPSG3857%2C%0A%20%20%20%20%20%20%20%20%20%20%20%20%20%20%20%20%20%20%20%20zoom%3A%205%2C%0A%20%20%20%20%20%20%20%20%20%20%20%20%20%20%20%20%20%20%20%20zoomControl%3A%20true%2C%0A%20%20%20%20%20%20%20%20%20%20%20%20%20%20%20%20%20%20%20%20preferCanvas%3A%20false%2C%0A%20%20%20%20%20%20%20%20%20%20%20%20%20%20%20%20%7D%0A%20%20%20%20%20%20%20%20%20%20%20%20%29%3B%0A%0A%20%20%20%20%20%20%20%20%20%20%20%20%0A%0A%20%20%20%20%20%20%20%20%0A%20%20%20%20%0A%20%20%20%20%20%20%20%20%20%20%20%20var%20tile_layer_1039ef215c20477aabb10c1a9cc3ffb5%20%3D%20L.tileLayer%28%0A%20%20%20%20%20%20%20%20%20%20%20%20%20%20%20%20%22https%3A//cartodb-basemaps-%7Bs%7D.global.ssl.fastly.net/light_all/%7Bz%7D/%7Bx%7D/%7By%7D.png%22%2C%0A%20%20%20%20%20%20%20%20%20%20%20%20%20%20%20%20%7B%22attribution%22%3A%20%22%5Cu0026copy%3B%20%5Cu003ca%20href%3D%5C%22http%3A//www.openstreetmap.org/copyright%5C%22%5Cu003eOpenStreetMap%5Cu003c/a%5Cu003e%20contributors%20%5Cu0026copy%3B%20%5Cu003ca%20href%3D%5C%22http%3A//cartodb.com/attributions%5C%22%5Cu003eCartoDB%5Cu003c/a%5Cu003e%2C%20CartoDB%20%5Cu003ca%20href%20%3D%5C%22http%3A//cartodb.com/attributions%5C%22%5Cu003eattributions%5Cu003c/a%5Cu003e%22%2C%20%22detectRetina%22%3A%20false%2C%20%22maxNativeZoom%22%3A%2018%2C%20%22maxZoom%22%3A%2018%2C%20%22minZoom%22%3A%200%2C%20%22noWrap%22%3A%20false%2C%20%22opacity%22%3A%201%2C%20%22subdomains%22%3A%20%22abc%22%2C%20%22tms%22%3A%20false%7D%0A%20%20%20%20%20%20%20%20%20%20%20%20%29.addTo%28map_b422c49294954dc3867db14bae701812%29%3B%0A%20%20%20%20%20%20%20%20%0A%20%20%20%20%0A%20%20%20%20%20%20%20%20%20%20%20%20var%20marker_31467c3dc2364866baf4d42718cc8aee%20%3D%20L.marker%28%0A%20%20%20%20%20%20%20%20%20%20%20%20%20%20%20%20%5B4.341914%2C%20-50.8498103%5D%2C%0A%20%20%20%20%20%20%20%20%20%20%20%20%20%20%20%20%7B%22autoPan%22%3A%20true%2C%20%22draggable%22%3A%20true%7D%0A%20%20%20%20%20%20%20%20%20%20%20%20%29.addTo%28map_b422c49294954dc3867db14bae701812%29%3B%0A%20%20%20%20%20%20%20%20%0A%20%20%20%20%0A%20%20%20%20%20%20%20%20var%20popup_04f5b646c51b4a11b8518e9fb1fc6e7f%20%3D%20L.popup%28%7B%22maxWidth%22%3A%20%22100%25%22%7D%29%3B%0A%0A%20%20%20%20%20%20%20%20%0A%20%20%20%20%20%20%20%20%20%20%20%20var%20html_5669236770ec4873bd54186f5b347c94%20%3D%20%24%28%60%3Cdiv%20id%3D%22html_5669236770ec4873bd54186f5b347c94%22%20style%3D%22width%3A%20100.0%25%3B%20height%3A%20100.0%25%3B%22%3EBeneficiario%20ID%3A%2017728497%3C/div%3E%60%29%5B0%5D%3B%0A%20%20%20%20%20%20%20%20%20%20%20%20popup_04f5b646c51b4a11b8518e9fb1fc6e7f.setContent%28html_5669236770ec4873bd54186f5b347c94%29%3B%0A%20%20%20%20%20%20%20%20%0A%0A%20%20%20%20%20%20%20%20marker_31467c3dc2364866baf4d42718cc8aee.bindPopup%28popup_04f5b646c51b4a11b8518e9fb1fc6e7f%29%0A%20%20%20%20%20%20%20%20%3B%0A%0A%20%20%20%20%20%20%20%20%0A%20%20%20%20%0A%20%20%20%20%0A%20%20%20%20%20%20%20%20%20%20%20%20var%20marker_15cd7d38b0f84ea9ab81fed6e90d4bf2%20%3D%20L.marker%28%0A%20%20%20%20%20%20%20%20%20%20%20%20%20%20%20%20%5B4.78830555556%2C%20-71.3430833333%5D%2C%0A%20%20%20%20%20%20%20%20%20%20%20%20%20%20%20%20%7B%22autoPan%22%3A%20true%2C%20%22draggable%22%3A%20true%7D%0A%20%20%20%20%20%20%20%20%20%20%20%20%29.addTo%28map_b422c49294954dc3867db14bae701812%29%3B%0A%20%20%20%20%20%20%20%20%0A%20%20%20%20%0A%20%20%20%20%20%20%20%20var%20popup_bc39e8b565574e5faf36005cb08eca74%20%3D%20L.popup%28%7B%22maxWidth%22%3A%20%22100%25%22%7D%29%3B%0A%0A%20%20%20%20%20%20%20%20%0A%20%20%20%20%20%20%20%20%20%20%20%20var%20html_d60e2ec6b74a493588fbd09d57e3689e%20%3D%20%24%28%60%3Cdiv%20id%3D%22html_d60e2ec6b74a493588fbd09d57e3689e%22%20style%3D%22width%3A%20100.0%25%3B%20height%3A%20100.0%25%3B%22%3EC%C3%B3digo%20UDS%3A%208523000134753%20%3Cbr%3E%20UDS%3A%20BUEN%20COMIENZO%20INSTITUCIONAL%3C/div%3E%60%29%5B0%5D%3B%0A%20%20%20%20%20%20%20%20%20%20%20%20popup_bc39e8b565574e5faf36005cb08eca74.setContent%28html_d60e2ec6b74a493588fbd09d57e3689e%29%3B%0A%20%20%20%20%20%20%20%20%0A%0A%20%20%20%20%20%20%20%20marker_15cd7d38b0f84ea9ab81fed6e90d4bf2.bindPopup%28popup_bc39e8b565574e5faf36005cb08eca74%29%0A%20%20%20%20%20%20%20%20%3B%0A%0A%20%20%20%20%20%20%20%20%0A%20%20%20%20%0A%20%20%20%20%0A%20%20%20%20%20%20%20%20%20%20%20%20var%20poly_line_a4f629cb05f14c19b2bc70778d65835d%20%3D%20L.polyline%28%0A%20%20%20%20%20%20%20%20%20%20%20%20%20%20%20%20%5B%5B4.341914%2C%20-50.8498103%5D%2C%20%5B4.78830555556%2C%20-71.3430833333%5D%5D%2C%0A%20%20%20%20%20%20%20%20%20%20%20%20%20%20%20%20%7B%22bubblingMouseEvents%22%3A%20true%2C%20%22color%22%3A%20%22red%22%2C%20%22dashArray%22%3A%20null%2C%20%22dashOffset%22%3A%20null%2C%20%22fill%22%3A%20false%2C%20%22fillColor%22%3A%20%22red%22%2C%20%22fillOpacity%22%3A%200.2%2C%20%22fillRule%22%3A%20%22evenodd%22%2C%20%22lineCap%22%3A%20%22round%22%2C%20%22lineJoin%22%3A%20%22round%22%2C%20%22noClip%22%3A%20false%2C%20%22opacity%22%3A%201.0%2C%20%22smoothFactor%22%3A%201.0%2C%20%22stroke%22%3A%20true%2C%20%22weight%22%3A%203%7D%0A%20%20%20%20%20%20%20%20%20%20%20%20%29.addTo%28map_b422c49294954dc3867db14bae701812%29%3B%0A%20%20%20%20%20%20%20%20%0A%20%20%20%20%0A%20%20%20%20%20%20%20%20%20%20%20%20var%20marker_c726db4a97344dd0a6d909433e856cd9%20%3D%20L.marker%28%0A%20%20%20%20%20%20%20%20%20%20%20%20%20%20%20%20%5B4.341837%2C%20-50.8498573%5D%2C%0A%20%20%20%20%20%20%20%20%20%20%20%20%20%20%20%20%7B%22autoPan%22%3A%20true%2C%20%22draggable%22%3A%20true%7D%0A%20%20%20%20%20%20%20%20%20%20%20%20%29.addTo%28map_b422c49294954dc3867db14bae701812%29%3B%0A%20%20%20%20%20%20%20%20%0A%20%20%20%20%0A%20%20%20%20%20%20%20%20var%20popup_46bd230dc62345efa4251cda58ba5514%20%3D%20L.popup%28%7B%22maxWidth%22%3A%20%22100%25%22%7D%29%3B%0A%0A%20%20%20%20%20%20%20%20%0A%20%20%20%20%20%20%20%20%20%20%20%20var%20html_e3814087ee154954a45ce232d5907165%20%3D%20%24%28%60%3Cdiv%20id%3D%22html_e3814087ee154954a45ce232d5907165%22%20style%3D%22width%3A%20100.0%25%3B%20height%3A%20100.0%25%3B%22%3EBeneficiario%20ID%3A%2018823825%3C/div%3E%60%29%5B0%5D%3B%0A%20%20%20%20%20%20%20%20%20%20%20%20popup_46bd230dc62345efa4251cda58ba5514.setContent%28html_e3814087ee154954a45ce232d5907165%29%3B%0A%20%20%20%20%20%20%20%20%0A%0A%20%20%20%20%20%20%20%20marker_c726db4a97344dd0a6d909433e856cd9.bindPopup%28popup_46bd230dc62345efa4251cda58ba5514%29%0A%20%20%20%20%20%20%20%20%3B%0A%0A%20%20%20%20%20%20%20%20%0A%20%20%20%20%0A%20%20%20%20%0A%20%20%20%20%20%20%20%20%20%20%20%20var%20marker_055fed74149e4ef5bb29cdde6d828990%20%3D%20L.marker%28%0A%20%20%20%20%20%20%20%20%20%20%20%20%20%20%20%20%5B4.78830555556%2C%20-71.3430833333%5D%2C%0A%20%20%20%20%20%20%20%20%20%20%20%20%20%20%20%20%7B%22autoPan%22%3A%20true%2C%20%22draggable%22%3A%20true%7D%0A%20%20%20%20%20%20%20%20%20%20%20%20%29.addTo%28map_b422c49294954dc3867db14bae701812%29%3B%0A%20%20%20%20%20%20%20%20%0A%20%20%20%20%0A%20%20%20%20%20%20%20%20var%20popup_c93bcaf342a74a2dbebb140e15b812e3%20%3D%20L.popup%28%7B%22maxWidth%22%3A%20%22100%25%22%7D%29%3B%0A%0A%20%20%20%20%20%20%20%20%0A%20%20%20%20%20%20%20%20%20%20%20%20var%20html_e74d9e56056a454ab270eab6e94f44a7%20%3D%20%24%28%60%3Cdiv%20id%3D%22html_e74d9e56056a454ab270eab6e94f44a7%22%20style%3D%22width%3A%20100.0%25%3B%20height%3A%20100.0%25%3B%22%3EC%C3%B3digo%20UDS%3A%208523000134753%20%3Cbr%3E%20UDS%3A%20BUEN%20COMIENZO%20INSTITUCIONAL%3C/div%3E%60%29%5B0%5D%3B%0A%20%20%20%20%20%20%20%20%20%20%20%20popup_c93bcaf342a74a2dbebb140e15b812e3.setContent%28html_e74d9e56056a454ab270eab6e94f44a7%29%3B%0A%20%20%20%20%20%20%20%20%0A%0A%20%20%20%20%20%20%20%20marker_055fed74149e4ef5bb29cdde6d828990.bindPopup%28popup_c93bcaf342a74a2dbebb140e15b812e3%29%0A%20%20%20%20%20%20%20%20%3B%0A%0A%20%20%20%20%20%20%20%20%0A%20%20%20%20%0A%20%20%20%20%0A%20%20%20%20%20%20%20%20%20%20%20%20var%20poly_line_5bc6326981c44db2abf5f402bf504d31%20%3D%20L.polyline%28%0A%20%20%20%20%20%20%20%20%20%20%20%20%20%20%20%20%5B%5B4.341837%2C%20-50.8498573%5D%2C%20%5B4.78830555556%2C%20-71.3430833333%5D%5D%2C%0A%20%20%20%20%20%20%20%20%20%20%20%20%20%20%20%20%7B%22bubblingMouseEvents%22%3A%20true%2C%20%22color%22%3A%20%22red%22%2C%20%22dashArray%22%3A%20null%2C%20%22dashOffset%22%3A%20null%2C%20%22fill%22%3A%20false%2C%20%22fillColor%22%3A%20%22red%22%2C%20%22fillOpacity%22%3A%200.2%2C%20%22fillRule%22%3A%20%22evenodd%22%2C%20%22lineCap%22%3A%20%22round%22%2C%20%22lineJoin%22%3A%20%22round%22%2C%20%22noClip%22%3A%20false%2C%20%22opacity%22%3A%201.0%2C%20%22smoothFactor%22%3A%201.0%2C%20%22stroke%22%3A%20true%2C%20%22weight%22%3A%203%7D%0A%20%20%20%20%20%20%20%20%20%20%20%20%29.addTo%28map_b422c49294954dc3867db14bae701812%29%3B%0A%20%20%20%20%20%20%20%20%0A%3C/script%3E onload=\"this.contentDocument.open();this.contentDocument.write(    decodeURIComponent(this.getAttribute('data-html')));this.contentDocument.close();\" allowfullscreen webkitallowfullscreen mozallowfullscreen></iframe></div></div>"
      ],
      "text/plain": [
       "<folium.folium.Map at 0x7fbaf0579ee0>"
      ]
     },
     "metadata": {},
     "execution_count": 33
    }
   ],
   "metadata": {}
  },
  {
   "cell_type": "code",
   "execution_count": 34,
   "source": [
    "casos_2_lejanos[['CodigoDepartamentoUDS','CodigoMunicipioUDS','MunicipioUDS', 'CodigoDepartamentoResidenciaBeneficiario','CodigoMunicipioResidenciaBeneficiario','CodigoDepa','CodigoMuni','CODDEP','CODMUN','Coord_x_auto_enc','Coord_y_auto_enc','LATITUD_NNA_2', 'LONGITUD_NNA_2','LATITUD', 'LONGITUD','Distancia','pct_rank']]"
   ],
   "outputs": [
    {
     "output_type": "execute_result",
     "data": {
      "text/html": [
       "<div>\n",
       "<style scoped>\n",
       "    .dataframe tbody tr th:only-of-type {\n",
       "        vertical-align: middle;\n",
       "    }\n",
       "\n",
       "    .dataframe tbody tr th {\n",
       "        vertical-align: top;\n",
       "    }\n",
       "\n",
       "    .dataframe thead th {\n",
       "        text-align: right;\n",
       "    }\n",
       "</style>\n",
       "<table border=\"1\" class=\"dataframe\">\n",
       "  <thead>\n",
       "    <tr style=\"text-align: right;\">\n",
       "      <th></th>\n",
       "      <th>CodigoDepartamentoUDS</th>\n",
       "      <th>CodigoMunicipioUDS</th>\n",
       "      <th>MunicipioUDS</th>\n",
       "      <th>CodigoDepartamentoResidenciaBeneficiario</th>\n",
       "      <th>CodigoMunicipioResidenciaBeneficiario</th>\n",
       "      <th>CodigoDepa</th>\n",
       "      <th>CodigoMuni</th>\n",
       "      <th>CODDEP</th>\n",
       "      <th>CODMUN</th>\n",
       "      <th>Coord_x_auto_enc</th>\n",
       "      <th>Coord_y_auto_enc</th>\n",
       "      <th>LATITUD_NNA_2</th>\n",
       "      <th>LONGITUD_NNA_2</th>\n",
       "      <th>LATITUD</th>\n",
       "      <th>LONGITUD</th>\n",
       "      <th>Distancia</th>\n",
       "      <th>pct_rank</th>\n",
       "    </tr>\n",
       "  </thead>\n",
       "  <tbody>\n",
       "    <tr>\n",
       "      <th>520250</th>\n",
       "      <td>85</td>\n",
       "      <td>85230</td>\n",
       "      <td>Orocue</td>\n",
       "      <td>85.0</td>\n",
       "      <td>85230.0</td>\n",
       "      <td>85.0</td>\n",
       "      <td>85230.0</td>\n",
       "      <td>85.0</td>\n",
       "      <td>85230.0</td>\n",
       "      <td>50,84981030</td>\n",
       "      <td>,43419140</td>\n",
       "      <td>4.341914</td>\n",
       "      <td>-50.849810</td>\n",
       "      <td>4.788306</td>\n",
       "      <td>-71.343083</td>\n",
       "      <td>2270.551000</td>\n",
       "      <td>1.000000</td>\n",
       "    </tr>\n",
       "    <tr>\n",
       "      <th>734883</th>\n",
       "      <td>85</td>\n",
       "      <td>85230</td>\n",
       "      <td>Orocue</td>\n",
       "      <td>85.0</td>\n",
       "      <td>85230.0</td>\n",
       "      <td>85.0</td>\n",
       "      <td>85230.0</td>\n",
       "      <td>85.0</td>\n",
       "      <td>85230.0</td>\n",
       "      <td>50,84985730</td>\n",
       "      <td>,43418370</td>\n",
       "      <td>4.341837</td>\n",
       "      <td>-50.849857</td>\n",
       "      <td>4.788306</td>\n",
       "      <td>-71.343083</td>\n",
       "      <td>2270.546103</td>\n",
       "      <td>0.999998</td>\n",
       "    </tr>\n",
       "  </tbody>\n",
       "</table>\n",
       "</div>"
      ],
      "text/plain": [
       "        CodigoDepartamentoUDS  CodigoMunicipioUDS MunicipioUDS  \\\n",
       "520250                     85               85230       Orocue   \n",
       "734883                     85               85230       Orocue   \n",
       "\n",
       "        CodigoDepartamentoResidenciaBeneficiario  \\\n",
       "520250                                      85.0   \n",
       "734883                                      85.0   \n",
       "\n",
       "        CodigoMunicipioResidenciaBeneficiario  CodigoDepa  CodigoMuni  CODDEP  \\\n",
       "520250                                85230.0        85.0     85230.0    85.0   \n",
       "734883                                85230.0        85.0     85230.0    85.0   \n",
       "\n",
       "         CODMUN Coord_x_auto_enc Coord_y_auto_enc  LATITUD_NNA_2  \\\n",
       "520250  85230.0      50,84981030        ,43419140       4.341914   \n",
       "734883  85230.0      50,84985730        ,43418370       4.341837   \n",
       "\n",
       "        LONGITUD_NNA_2   LATITUD   LONGITUD    Distancia  pct_rank  \n",
       "520250      -50.849810  4.788306 -71.343083  2270.551000  1.000000  \n",
       "734883      -50.849857  4.788306 -71.343083  2270.546103  0.999998  "
      ]
     },
     "metadata": {},
     "execution_count": 34
    }
   ],
   "metadata": {}
  },
  {
   "cell_type": "code",
   "execution_count": 35,
   "source": [
    "casos_2_cercanos = pd.DataFrame(df.sort_values(by=[\"Distancia\"],ascending=True).head(2))\n",
    "# \n",
    "m = folium.Map(location=[4.7110, -74.0721], zoom_start=5, tiles='CartoDB positron')\n",
    "# \n",
    "# \n",
    "for _, r in casos_2_cercanos.iterrows():\n",
    "    folium.Marker(location=[r[\"LATITUD_NNA_2\"],r[\"LONGITUD_NNA_2\"]], popup='Beneficiario ID: {}'.format(r['idbeneficiario']), draggable=True).add_to(m)\n",
    "    folium.Marker(location=[r[\"LATITUD\"], r[\"LONGITUD\"]], popup='Código UDS: {} <br> UDS: {}'.format(r['CodigoUnidadServicio'], r['UnidadServicio']), draggable=True).add_to(m)\n",
    "    points = [[r[\"LATITUD_NNA_2\"],r[\"LONGITUD_NNA_2\"]],[r[\"LATITUD\"], r[\"LONGITUD\"]]]\n",
    "    folium.PolyLine(points, color='red').add_to(m)\n",
    "# \n",
    "# \n",
    "m"
   ],
   "outputs": [
    {
     "output_type": "execute_result",
     "data": {
      "text/html": [
       "<div style=\"width:100%;\"><div style=\"position:relative;width:100%;height:0;padding-bottom:60%;\"><span style=\"color:#565656\">Make this Notebook Trusted to load map: File -> Trust Notebook</span><iframe src=\"about:blank\" style=\"position:absolute;width:100%;height:100%;left:0;top:0;border:none !important;\" data-html=%3C%21DOCTYPE%20html%3E%0A%3Chead%3E%20%20%20%20%0A%20%20%20%20%3Cmeta%20http-equiv%3D%22content-type%22%20content%3D%22text/html%3B%20charset%3DUTF-8%22%20/%3E%0A%20%20%20%20%0A%20%20%20%20%20%20%20%20%3Cscript%3E%0A%20%20%20%20%20%20%20%20%20%20%20%20L_NO_TOUCH%20%3D%20false%3B%0A%20%20%20%20%20%20%20%20%20%20%20%20L_DISABLE_3D%20%3D%20false%3B%0A%20%20%20%20%20%20%20%20%3C/script%3E%0A%20%20%20%20%0A%20%20%20%20%3Cstyle%3Ehtml%2C%20body%20%7Bwidth%3A%20100%25%3Bheight%3A%20100%25%3Bmargin%3A%200%3Bpadding%3A%200%3B%7D%3C/style%3E%0A%20%20%20%20%3Cstyle%3E%23map%20%7Bposition%3Aabsolute%3Btop%3A0%3Bbottom%3A0%3Bright%3A0%3Bleft%3A0%3B%7D%3C/style%3E%0A%20%20%20%20%3Cscript%20src%3D%22https%3A//cdn.jsdelivr.net/npm/leaflet%401.6.0/dist/leaflet.js%22%3E%3C/script%3E%0A%20%20%20%20%3Cscript%20src%3D%22https%3A//code.jquery.com/jquery-1.12.4.min.js%22%3E%3C/script%3E%0A%20%20%20%20%3Cscript%20src%3D%22https%3A//maxcdn.bootstrapcdn.com/bootstrap/3.2.0/js/bootstrap.min.js%22%3E%3C/script%3E%0A%20%20%20%20%3Cscript%20src%3D%22https%3A//cdnjs.cloudflare.com/ajax/libs/Leaflet.awesome-markers/2.0.2/leaflet.awesome-markers.js%22%3E%3C/script%3E%0A%20%20%20%20%3Clink%20rel%3D%22stylesheet%22%20href%3D%22https%3A//cdn.jsdelivr.net/npm/leaflet%401.6.0/dist/leaflet.css%22/%3E%0A%20%20%20%20%3Clink%20rel%3D%22stylesheet%22%20href%3D%22https%3A//maxcdn.bootstrapcdn.com/bootstrap/3.2.0/css/bootstrap.min.css%22/%3E%0A%20%20%20%20%3Clink%20rel%3D%22stylesheet%22%20href%3D%22https%3A//maxcdn.bootstrapcdn.com/bootstrap/3.2.0/css/bootstrap-theme.min.css%22/%3E%0A%20%20%20%20%3Clink%20rel%3D%22stylesheet%22%20href%3D%22https%3A//maxcdn.bootstrapcdn.com/font-awesome/4.6.3/css/font-awesome.min.css%22/%3E%0A%20%20%20%20%3Clink%20rel%3D%22stylesheet%22%20href%3D%22https%3A//cdnjs.cloudflare.com/ajax/libs/Leaflet.awesome-markers/2.0.2/leaflet.awesome-markers.css%22/%3E%0A%20%20%20%20%3Clink%20rel%3D%22stylesheet%22%20href%3D%22https%3A//cdn.jsdelivr.net/gh/python-visualization/folium/folium/templates/leaflet.awesome.rotate.min.css%22/%3E%0A%20%20%20%20%0A%20%20%20%20%20%20%20%20%20%20%20%20%3Cmeta%20name%3D%22viewport%22%20content%3D%22width%3Ddevice-width%2C%0A%20%20%20%20%20%20%20%20%20%20%20%20%20%20%20%20initial-scale%3D1.0%2C%20maximum-scale%3D1.0%2C%20user-scalable%3Dno%22%20/%3E%0A%20%20%20%20%20%20%20%20%20%20%20%20%3Cstyle%3E%0A%20%20%20%20%20%20%20%20%20%20%20%20%20%20%20%20%23map_cca93db0c9cc4dcbaa9bc33d40a5e6cf%20%7B%0A%20%20%20%20%20%20%20%20%20%20%20%20%20%20%20%20%20%20%20%20position%3A%20relative%3B%0A%20%20%20%20%20%20%20%20%20%20%20%20%20%20%20%20%20%20%20%20width%3A%20100.0%25%3B%0A%20%20%20%20%20%20%20%20%20%20%20%20%20%20%20%20%20%20%20%20height%3A%20100.0%25%3B%0A%20%20%20%20%20%20%20%20%20%20%20%20%20%20%20%20%20%20%20%20left%3A%200.0%25%3B%0A%20%20%20%20%20%20%20%20%20%20%20%20%20%20%20%20%20%20%20%20top%3A%200.0%25%3B%0A%20%20%20%20%20%20%20%20%20%20%20%20%20%20%20%20%7D%0A%20%20%20%20%20%20%20%20%20%20%20%20%3C/style%3E%0A%20%20%20%20%20%20%20%20%0A%3C/head%3E%0A%3Cbody%3E%20%20%20%20%0A%20%20%20%20%0A%20%20%20%20%20%20%20%20%20%20%20%20%3Cdiv%20class%3D%22folium-map%22%20id%3D%22map_cca93db0c9cc4dcbaa9bc33d40a5e6cf%22%20%3E%3C/div%3E%0A%20%20%20%20%20%20%20%20%0A%3C/body%3E%0A%3Cscript%3E%20%20%20%20%0A%20%20%20%20%0A%20%20%20%20%20%20%20%20%20%20%20%20var%20map_cca93db0c9cc4dcbaa9bc33d40a5e6cf%20%3D%20L.map%28%0A%20%20%20%20%20%20%20%20%20%20%20%20%20%20%20%20%22map_cca93db0c9cc4dcbaa9bc33d40a5e6cf%22%2C%0A%20%20%20%20%20%20%20%20%20%20%20%20%20%20%20%20%7B%0A%20%20%20%20%20%20%20%20%20%20%20%20%20%20%20%20%20%20%20%20center%3A%20%5B4.711%2C%20-74.0721%5D%2C%0A%20%20%20%20%20%20%20%20%20%20%20%20%20%20%20%20%20%20%20%20crs%3A%20L.CRS.EPSG3857%2C%0A%20%20%20%20%20%20%20%20%20%20%20%20%20%20%20%20%20%20%20%20zoom%3A%205%2C%0A%20%20%20%20%20%20%20%20%20%20%20%20%20%20%20%20%20%20%20%20zoomControl%3A%20true%2C%0A%20%20%20%20%20%20%20%20%20%20%20%20%20%20%20%20%20%20%20%20preferCanvas%3A%20false%2C%0A%20%20%20%20%20%20%20%20%20%20%20%20%20%20%20%20%7D%0A%20%20%20%20%20%20%20%20%20%20%20%20%29%3B%0A%0A%20%20%20%20%20%20%20%20%20%20%20%20%0A%0A%20%20%20%20%20%20%20%20%0A%20%20%20%20%0A%20%20%20%20%20%20%20%20%20%20%20%20var%20tile_layer_b6111b57727c4474842741ee1099aca6%20%3D%20L.tileLayer%28%0A%20%20%20%20%20%20%20%20%20%20%20%20%20%20%20%20%22https%3A//cartodb-basemaps-%7Bs%7D.global.ssl.fastly.net/light_all/%7Bz%7D/%7Bx%7D/%7By%7D.png%22%2C%0A%20%20%20%20%20%20%20%20%20%20%20%20%20%20%20%20%7B%22attribution%22%3A%20%22%5Cu0026copy%3B%20%5Cu003ca%20href%3D%5C%22http%3A//www.openstreetmap.org/copyright%5C%22%5Cu003eOpenStreetMap%5Cu003c/a%5Cu003e%20contributors%20%5Cu0026copy%3B%20%5Cu003ca%20href%3D%5C%22http%3A//cartodb.com/attributions%5C%22%5Cu003eCartoDB%5Cu003c/a%5Cu003e%2C%20CartoDB%20%5Cu003ca%20href%20%3D%5C%22http%3A//cartodb.com/attributions%5C%22%5Cu003eattributions%5Cu003c/a%5Cu003e%22%2C%20%22detectRetina%22%3A%20false%2C%20%22maxNativeZoom%22%3A%2018%2C%20%22maxZoom%22%3A%2018%2C%20%22minZoom%22%3A%200%2C%20%22noWrap%22%3A%20false%2C%20%22opacity%22%3A%201%2C%20%22subdomains%22%3A%20%22abc%22%2C%20%22tms%22%3A%20false%7D%0A%20%20%20%20%20%20%20%20%20%20%20%20%29.addTo%28map_cca93db0c9cc4dcbaa9bc33d40a5e6cf%29%3B%0A%20%20%20%20%20%20%20%20%0A%20%20%20%20%0A%20%20%20%20%20%20%20%20%20%20%20%20var%20marker_65c954901a25479483f290493ddecd8b%20%3D%20L.marker%28%0A%20%20%20%20%20%20%20%20%20%20%20%20%20%20%20%20%5B10.99841787%2C%20-74.2523122%5D%2C%0A%20%20%20%20%20%20%20%20%20%20%20%20%20%20%20%20%7B%22autoPan%22%3A%20true%2C%20%22draggable%22%3A%20true%7D%0A%20%20%20%20%20%20%20%20%20%20%20%20%29.addTo%28map_cca93db0c9cc4dcbaa9bc33d40a5e6cf%29%3B%0A%20%20%20%20%20%20%20%20%0A%20%20%20%20%0A%20%20%20%20%20%20%20%20var%20popup_661fa00405894bbf9d6a7808672aecb2%20%3D%20L.popup%28%7B%22maxWidth%22%3A%20%22100%25%22%7D%29%3B%0A%0A%20%20%20%20%20%20%20%20%0A%20%20%20%20%20%20%20%20%20%20%20%20var%20html_e629fa2fd5024846a7ac014efaa885ab%20%3D%20%24%28%60%3Cdiv%20id%3D%22html_e629fa2fd5024846a7ac014efaa885ab%22%20style%3D%22width%3A%20100.0%25%3B%20height%3A%20100.0%25%3B%22%3EBeneficiario%20ID%3A%2018341943%3C/div%3E%60%29%5B0%5D%3B%0A%20%20%20%20%20%20%20%20%20%20%20%20popup_661fa00405894bbf9d6a7808672aecb2.setContent%28html_e629fa2fd5024846a7ac014efaa885ab%29%3B%0A%20%20%20%20%20%20%20%20%0A%0A%20%20%20%20%20%20%20%20marker_65c954901a25479483f290493ddecd8b.bindPopup%28popup_661fa00405894bbf9d6a7808672aecb2%29%0A%20%20%20%20%20%20%20%20%3B%0A%0A%20%20%20%20%20%20%20%20%0A%20%20%20%20%0A%20%20%20%20%0A%20%20%20%20%20%20%20%20%20%20%20%20var%20marker_4e2603c77ff64b988b3994c8518e2ffe%20%3D%20L.marker%28%0A%20%20%20%20%20%20%20%20%20%20%20%20%20%20%20%20%5B10.9984166667%2C%20-74.2523111111%5D%2C%0A%20%20%20%20%20%20%20%20%20%20%20%20%20%20%20%20%7B%22autoPan%22%3A%20true%2C%20%22draggable%22%3A%20true%7D%0A%20%20%20%20%20%20%20%20%20%20%20%20%29.addTo%28map_cca93db0c9cc4dcbaa9bc33d40a5e6cf%29%3B%0A%20%20%20%20%20%20%20%20%0A%20%20%20%20%0A%20%20%20%20%20%20%20%20var%20popup_8c3af65cc8434f92af1115e92d128264%20%3D%20L.popup%28%7B%22maxWidth%22%3A%20%22100%25%22%7D%29%3B%0A%0A%20%20%20%20%20%20%20%20%0A%20%20%20%20%20%20%20%20%20%20%20%20var%20html_1789d0fa092e40b89a240bcec334890c%20%3D%20%24%28%60%3Cdiv%20id%3D%22html_1789d0fa092e40b89a240bcec334890c%22%20style%3D%22width%3A%20100.0%25%3B%20height%3A%20100.0%25%3B%22%3EC%C3%B3digo%20UDS%3A%204718900042330%20%3Cbr%3E%20UDS%3A%20MI%20PEQUE%C3%91O%20JARDIN%3C/div%3E%60%29%5B0%5D%3B%0A%20%20%20%20%20%20%20%20%20%20%20%20popup_8c3af65cc8434f92af1115e92d128264.setContent%28html_1789d0fa092e40b89a240bcec334890c%29%3B%0A%20%20%20%20%20%20%20%20%0A%0A%20%20%20%20%20%20%20%20marker_4e2603c77ff64b988b3994c8518e2ffe.bindPopup%28popup_8c3af65cc8434f92af1115e92d128264%29%0A%20%20%20%20%20%20%20%20%3B%0A%0A%20%20%20%20%20%20%20%20%0A%20%20%20%20%0A%20%20%20%20%0A%20%20%20%20%20%20%20%20%20%20%20%20var%20poly_line_97f40a4474874225b25dd5569727c4e5%20%3D%20L.polyline%28%0A%20%20%20%20%20%20%20%20%20%20%20%20%20%20%20%20%5B%5B10.99841787%2C%20-74.2523122%5D%2C%20%5B10.9984166667%2C%20-74.2523111111%5D%5D%2C%0A%20%20%20%20%20%20%20%20%20%20%20%20%20%20%20%20%7B%22bubblingMouseEvents%22%3A%20true%2C%20%22color%22%3A%20%22red%22%2C%20%22dashArray%22%3A%20null%2C%20%22dashOffset%22%3A%20null%2C%20%22fill%22%3A%20false%2C%20%22fillColor%22%3A%20%22red%22%2C%20%22fillOpacity%22%3A%200.2%2C%20%22fillRule%22%3A%20%22evenodd%22%2C%20%22lineCap%22%3A%20%22round%22%2C%20%22lineJoin%22%3A%20%22round%22%2C%20%22noClip%22%3A%20false%2C%20%22opacity%22%3A%201.0%2C%20%22smoothFactor%22%3A%201.0%2C%20%22stroke%22%3A%20true%2C%20%22weight%22%3A%203%7D%0A%20%20%20%20%20%20%20%20%20%20%20%20%29.addTo%28map_cca93db0c9cc4dcbaa9bc33d40a5e6cf%29%3B%0A%20%20%20%20%20%20%20%20%0A%20%20%20%20%0A%20%20%20%20%20%20%20%20%20%20%20%20var%20marker_c416fb0163504127b8ff832ff02cb48d%20%3D%20L.marker%28%0A%20%20%20%20%20%20%20%20%20%20%20%20%20%20%20%20%5B9.1852763%2C%20-75.55944351%5D%2C%0A%20%20%20%20%20%20%20%20%20%20%20%20%20%20%20%20%7B%22autoPan%22%3A%20true%2C%20%22draggable%22%3A%20true%7D%0A%20%20%20%20%20%20%20%20%20%20%20%20%29.addTo%28map_cca93db0c9cc4dcbaa9bc33d40a5e6cf%29%3B%0A%20%20%20%20%20%20%20%20%0A%20%20%20%20%0A%20%20%20%20%20%20%20%20var%20popup_7e6e4a6b9d21478fa11c4d9feafc567b%20%3D%20L.popup%28%7B%22maxWidth%22%3A%20%22100%25%22%7D%29%3B%0A%0A%20%20%20%20%20%20%20%20%0A%20%20%20%20%20%20%20%20%20%20%20%20var%20html_81402322bf2349a391b4803af9da8648%20%3D%20%24%28%60%3Cdiv%20id%3D%22html_81402322bf2349a391b4803af9da8648%22%20style%3D%22width%3A%20100.0%25%3B%20height%3A%20100.0%25%3B%22%3EBeneficiario%20ID%3A%2016100376%3C/div%3E%60%29%5B0%5D%3B%0A%20%20%20%20%20%20%20%20%20%20%20%20popup_7e6e4a6b9d21478fa11c4d9feafc567b.setContent%28html_81402322bf2349a391b4803af9da8648%29%3B%0A%20%20%20%20%20%20%20%20%0A%0A%20%20%20%20%20%20%20%20marker_c416fb0163504127b8ff832ff02cb48d.bindPopup%28popup_7e6e4a6b9d21478fa11c4d9feafc567b%29%0A%20%20%20%20%20%20%20%20%3B%0A%0A%20%20%20%20%20%20%20%20%0A%20%20%20%20%0A%20%20%20%20%0A%20%20%20%20%20%20%20%20%20%20%20%20var%20marker_c71c4e58e4334c7fa6188bba57b5c609%20%3D%20L.marker%28%0A%20%20%20%20%20%20%20%20%20%20%20%20%20%20%20%20%5B9.18527777778%2C%20-75.5594444444%5D%2C%0A%20%20%20%20%20%20%20%20%20%20%20%20%20%20%20%20%7B%22autoPan%22%3A%20true%2C%20%22draggable%22%3A%20true%7D%0A%20%20%20%20%20%20%20%20%20%20%20%20%29.addTo%28map_cca93db0c9cc4dcbaa9bc33d40a5e6cf%29%3B%0A%20%20%20%20%20%20%20%20%0A%20%20%20%20%0A%20%20%20%20%20%20%20%20var%20popup_2d152935c6354662b710d7ff1f694344%20%3D%20L.popup%28%7B%22maxWidth%22%3A%20%22100%25%22%7D%29%3B%0A%0A%20%20%20%20%20%20%20%20%0A%20%20%20%20%20%20%20%20%20%20%20%20var%20html_3d638fbabde24575ad02d463f2a634bc%20%3D%20%24%28%60%3Cdiv%20id%3D%22html_3d638fbabde24575ad02d463f2a634bc%22%20style%3D%22width%3A%20100.0%25%3B%20height%3A%20100.0%25%3B%22%3EC%C3%B3digo%20UDS%3A%202381500115129%20%3Cbr%3E%20UDS%3A%20CDI%20ZOILA%20RIONDO%3C/div%3E%60%29%5B0%5D%3B%0A%20%20%20%20%20%20%20%20%20%20%20%20popup_2d152935c6354662b710d7ff1f694344.setContent%28html_3d638fbabde24575ad02d463f2a634bc%29%3B%0A%20%20%20%20%20%20%20%20%0A%0A%20%20%20%20%20%20%20%20marker_c71c4e58e4334c7fa6188bba57b5c609.bindPopup%28popup_2d152935c6354662b710d7ff1f694344%29%0A%20%20%20%20%20%20%20%20%3B%0A%0A%20%20%20%20%20%20%20%20%0A%20%20%20%20%0A%20%20%20%20%0A%20%20%20%20%20%20%20%20%20%20%20%20var%20poly_line_9ac05a55be7340f392fe544252a27a61%20%3D%20L.polyline%28%0A%20%20%20%20%20%20%20%20%20%20%20%20%20%20%20%20%5B%5B9.1852763%2C%20-75.55944351%5D%2C%20%5B9.18527777778%2C%20-75.5594444444%5D%5D%2C%0A%20%20%20%20%20%20%20%20%20%20%20%20%20%20%20%20%7B%22bubblingMouseEvents%22%3A%20true%2C%20%22color%22%3A%20%22red%22%2C%20%22dashArray%22%3A%20null%2C%20%22dashOffset%22%3A%20null%2C%20%22fill%22%3A%20false%2C%20%22fillColor%22%3A%20%22red%22%2C%20%22fillOpacity%22%3A%200.2%2C%20%22fillRule%22%3A%20%22evenodd%22%2C%20%22lineCap%22%3A%20%22round%22%2C%20%22lineJoin%22%3A%20%22round%22%2C%20%22noClip%22%3A%20false%2C%20%22opacity%22%3A%201.0%2C%20%22smoothFactor%22%3A%201.0%2C%20%22stroke%22%3A%20true%2C%20%22weight%22%3A%203%7D%0A%20%20%20%20%20%20%20%20%20%20%20%20%29.addTo%28map_cca93db0c9cc4dcbaa9bc33d40a5e6cf%29%3B%0A%20%20%20%20%20%20%20%20%0A%3C/script%3E onload=\"this.contentDocument.open();this.contentDocument.write(    decodeURIComponent(this.getAttribute('data-html')));this.contentDocument.close();\" allowfullscreen webkitallowfullscreen mozallowfullscreen></iframe></div></div>"
      ],
      "text/plain": [
       "<folium.folium.Map at 0x7fbaedc336d0>"
      ]
     },
     "metadata": {},
     "execution_count": 35
    }
   ],
   "metadata": {}
  },
  {
   "cell_type": "code",
   "execution_count": 36,
   "source": [
    "casos_2_cercanos[['CodigoDepartamentoUDS','CodigoMunicipioUDS','MunicipioUDS', 'CodigoDepartamentoResidenciaBeneficiario','CodigoMunicipioResidenciaBeneficiario','CodigoDepa','CodigoMuni','CODDEP','CODMUN','Coord_x_auto_enc','Coord_y_auto_enc','LATITUD_NNA_2', 'LONGITUD_NNA_2','LATITUD', 'LONGITUD','Distancia','pct_rank','pctile']]"
   ],
   "outputs": [
    {
     "output_type": "execute_result",
     "data": {
      "text/html": [
       "<div>\n",
       "<style scoped>\n",
       "    .dataframe tbody tr th:only-of-type {\n",
       "        vertical-align: middle;\n",
       "    }\n",
       "\n",
       "    .dataframe tbody tr th {\n",
       "        vertical-align: top;\n",
       "    }\n",
       "\n",
       "    .dataframe thead th {\n",
       "        text-align: right;\n",
       "    }\n",
       "</style>\n",
       "<table border=\"1\" class=\"dataframe\">\n",
       "  <thead>\n",
       "    <tr style=\"text-align: right;\">\n",
       "      <th></th>\n",
       "      <th>CodigoDepartamentoUDS</th>\n",
       "      <th>CodigoMunicipioUDS</th>\n",
       "      <th>MunicipioUDS</th>\n",
       "      <th>CodigoDepartamentoResidenciaBeneficiario</th>\n",
       "      <th>CodigoMunicipioResidenciaBeneficiario</th>\n",
       "      <th>CodigoDepa</th>\n",
       "      <th>CodigoMuni</th>\n",
       "      <th>CODDEP</th>\n",
       "      <th>CODMUN</th>\n",
       "      <th>Coord_x_auto_enc</th>\n",
       "      <th>Coord_y_auto_enc</th>\n",
       "      <th>LATITUD_NNA_2</th>\n",
       "      <th>LONGITUD_NNA_2</th>\n",
       "      <th>LATITUD</th>\n",
       "      <th>LONGITUD</th>\n",
       "      <th>Distancia</th>\n",
       "      <th>pct_rank</th>\n",
       "      <th>pctile</th>\n",
       "    </tr>\n",
       "  </thead>\n",
       "  <tbody>\n",
       "    <tr>\n",
       "      <th>603122</th>\n",
       "      <td>47</td>\n",
       "      <td>47189</td>\n",
       "      <td>Cienaga</td>\n",
       "      <td>47.0</td>\n",
       "      <td>47189.0</td>\n",
       "      <td>47.0</td>\n",
       "      <td>47189.0</td>\n",
       "      <td>47.0</td>\n",
       "      <td>47189.0</td>\n",
       "      <td>10,99841787</td>\n",
       "      <td>-74,25231220</td>\n",
       "      <td>10.998418</td>\n",
       "      <td>-74.252312</td>\n",
       "      <td>10.998417</td>\n",
       "      <td>-74.252311</td>\n",
       "      <td>0.000179</td>\n",
       "      <td>0.000001</td>\n",
       "      <td>0.0</td>\n",
       "    </tr>\n",
       "    <tr>\n",
       "      <th>133711</th>\n",
       "      <td>23</td>\n",
       "      <td>23815</td>\n",
       "      <td>Tuchín</td>\n",
       "      <td>23.0</td>\n",
       "      <td>23815.0</td>\n",
       "      <td>23.0</td>\n",
       "      <td>23815.0</td>\n",
       "      <td>23.0</td>\n",
       "      <td>23815.0</td>\n",
       "      <td>9,18527630</td>\n",
       "      <td>-75,55944351</td>\n",
       "      <td>9.185276</td>\n",
       "      <td>-75.559444</td>\n",
       "      <td>9.185278</td>\n",
       "      <td>-75.559444</td>\n",
       "      <td>0.000194</td>\n",
       "      <td>0.000002</td>\n",
       "      <td>0.0</td>\n",
       "    </tr>\n",
       "  </tbody>\n",
       "</table>\n",
       "</div>"
      ],
      "text/plain": [
       "        CodigoDepartamentoUDS  CodigoMunicipioUDS MunicipioUDS  \\\n",
       "603122                     47               47189      Cienaga   \n",
       "133711                     23               23815       Tuchín   \n",
       "\n",
       "        CodigoDepartamentoResidenciaBeneficiario  \\\n",
       "603122                                      47.0   \n",
       "133711                                      23.0   \n",
       "\n",
       "        CodigoMunicipioResidenciaBeneficiario  CodigoDepa  CodigoMuni  CODDEP  \\\n",
       "603122                                47189.0        47.0     47189.0    47.0   \n",
       "133711                                23815.0        23.0     23815.0    23.0   \n",
       "\n",
       "         CODMUN Coord_x_auto_enc Coord_y_auto_enc  LATITUD_NNA_2  \\\n",
       "603122  47189.0      10,99841787     -74,25231220      10.998418   \n",
       "133711  23815.0       9,18527630     -75,55944351       9.185276   \n",
       "\n",
       "        LONGITUD_NNA_2    LATITUD   LONGITUD  Distancia  pct_rank  pctile  \n",
       "603122      -74.252312  10.998417 -74.252311   0.000179  0.000001     0.0  \n",
       "133711      -75.559444   9.185278 -75.559444   0.000194  0.000002     0.0  "
      ]
     },
     "metadata": {},
     "execution_count": 36
    }
   ],
   "metadata": {}
  },
  {
   "cell_type": "markdown",
   "source": [
    "# Revision Coordenadas en Municipio"
   ],
   "metadata": {}
  },
  {
   "cell_type": "code",
   "execution_count": 37,
   "source": [
    "df_final=gpd.GeoDataFrame(df, geometry=gpd.points_from_xy(df.LONGITUD_NNA_2, df.LATITUD_NNA_2),crs=\"EPSG:4326\").copy()\n",
    "# \n",
    "# In \\[ \\]:\n",
    "# \n",
    "#Carga geojson Municipios\n",
    "begin = dt.datetime.now()\n",
    "# \n",
    "Municipios_geo=gpd.read_file(\"./Data/Municipios_IC-1.geojson\")\n",
    "# \n",
    "Municipios_geo['MPIO_CCDGO']=Municipios_geo['MPIO_CCDGO'].apply(lambda x : str(x) if len(str(x))==5 else \"0\" + str(x))\n",
    "Municipios_geo['DPTO_CCDGO']=Municipios_geo['DPTO_CCDGO'].apply(lambda x : str(x) if len(str(x))==2 else \"0\" + str(x))\n",
    "# \n",
    "Municipios_geo = Municipios_geo[['MPIO_CCDGO','geometry']]\n",
    "# \n",
    "print(\"Tiempo Cargue y Depuración:\", dt.datetime.now() - begin)"
   ],
   "outputs": [
    {
     "output_type": "stream",
     "name": "stdout",
     "text": [
      "Tiempo Cargue y Depuración: 0:00:26.197573\n"
     ]
    }
   ],
   "metadata": {}
  },
  {
   "cell_type": "code",
   "execution_count": 38,
   "source": [
    "Municipios_geo.sort_values(by=\"MPIO_CCDGO\")"
   ],
   "outputs": [
    {
     "output_type": "execute_result",
     "data": {
      "text/html": [
       "<div>\n",
       "<style scoped>\n",
       "    .dataframe tbody tr th:only-of-type {\n",
       "        vertical-align: middle;\n",
       "    }\n",
       "\n",
       "    .dataframe tbody tr th {\n",
       "        vertical-align: top;\n",
       "    }\n",
       "\n",
       "    .dataframe thead th {\n",
       "        text-align: right;\n",
       "    }\n",
       "</style>\n",
       "<table border=\"1\" class=\"dataframe\">\n",
       "  <thead>\n",
       "    <tr style=\"text-align: right;\">\n",
       "      <th></th>\n",
       "      <th>MPIO_CCDGO</th>\n",
       "      <th>geometry</th>\n",
       "    </tr>\n",
       "  </thead>\n",
       "  <tbody>\n",
       "    <tr>\n",
       "      <th>289</th>\n",
       "      <td>05001</td>\n",
       "      <td>MULTIPOLYGON (((-75.66974 6.37360, -75.66965 6...</td>\n",
       "    </tr>\n",
       "    <tr>\n",
       "      <th>313</th>\n",
       "      <td>05002</td>\n",
       "      <td>MULTIPOLYGON (((-75.46938 5.94575, -75.46897 5...</td>\n",
       "    </tr>\n",
       "    <tr>\n",
       "      <th>312</th>\n",
       "      <td>05004</td>\n",
       "      <td>MULTIPOLYGON (((-76.08351 6.75050, -76.08325 6...</td>\n",
       "    </tr>\n",
       "    <tr>\n",
       "      <th>311</th>\n",
       "      <td>05021</td>\n",
       "      <td>MULTIPOLYGON (((-75.03320 6.41586, -75.03313 6...</td>\n",
       "    </tr>\n",
       "    <tr>\n",
       "      <th>310</th>\n",
       "      <td>05030</td>\n",
       "      <td>MULTIPOLYGON (((-75.67587 6.08561, -75.67540 6...</td>\n",
       "    </tr>\n",
       "    <tr>\n",
       "      <th>...</th>\n",
       "      <td>...</td>\n",
       "      <td>...</td>\n",
       "    </tr>\n",
       "    <tr>\n",
       "      <th>1111</th>\n",
       "      <td>97889</td>\n",
       "      <td>MULTIPOLYGON (((-69.70210 1.10907, -69.70233 1...</td>\n",
       "    </tr>\n",
       "    <tr>\n",
       "      <th>1112</th>\n",
       "      <td>99001</td>\n",
       "      <td>MULTIPOLYGON (((-67.80972 6.32432, -67.80946 6...</td>\n",
       "    </tr>\n",
       "    <tr>\n",
       "      <th>1113</th>\n",
       "      <td>99524</td>\n",
       "      <td>MULTIPOLYGON (((-69.03359 6.21870, -69.03334 6...</td>\n",
       "    </tr>\n",
       "    <tr>\n",
       "      <th>943</th>\n",
       "      <td>99624</td>\n",
       "      <td>MULTIPOLYGON (((-70.65378 5.37298, -70.65327 5...</td>\n",
       "    </tr>\n",
       "    <tr>\n",
       "      <th>1114</th>\n",
       "      <td>99773</td>\n",
       "      <td>MULTIPOLYGON (((-68.47074 5.55047, -68.47082 5...</td>\n",
       "    </tr>\n",
       "  </tbody>\n",
       "</table>\n",
       "<p>1122 rows × 2 columns</p>\n",
       "</div>"
      ],
      "text/plain": [
       "     MPIO_CCDGO                                           geometry\n",
       "289       05001  MULTIPOLYGON (((-75.66974 6.37360, -75.66965 6...\n",
       "313       05002  MULTIPOLYGON (((-75.46938 5.94575, -75.46897 5...\n",
       "312       05004  MULTIPOLYGON (((-76.08351 6.75050, -76.08325 6...\n",
       "311       05021  MULTIPOLYGON (((-75.03320 6.41586, -75.03313 6...\n",
       "310       05030  MULTIPOLYGON (((-75.67587 6.08561, -75.67540 6...\n",
       "...         ...                                                ...\n",
       "1111      97889  MULTIPOLYGON (((-69.70210 1.10907, -69.70233 1...\n",
       "1112      99001  MULTIPOLYGON (((-67.80972 6.32432, -67.80946 6...\n",
       "1113      99524  MULTIPOLYGON (((-69.03359 6.21870, -69.03334 6...\n",
       "943       99624  MULTIPOLYGON (((-70.65378 5.37298, -70.65327 5...\n",
       "1114      99773  MULTIPOLYGON (((-68.47074 5.55047, -68.47082 5...\n",
       "\n",
       "[1122 rows x 2 columns]"
      ]
     },
     "metadata": {},
     "execution_count": 38
    }
   ],
   "metadata": {}
  },
  {
   "cell_type": "code",
   "execution_count": 39,
   "source": [
    "df_final[\"CodigoMunicipioResidenciaBeneficiario\"] = df_final.CodigoMunicipioResidenciaBeneficiario.astype(str)\n",
    "df_final[\"CodigoMunicipioResidenciaBeneficiario\"] = df_final.CodigoMunicipioResidenciaBeneficiario.str.split('.', expand = True)[0]\n",
    "df_final[\"CodigoMunicipioResidenciaBeneficiario\"] = df_final.CodigoMunicipioResidenciaBeneficiario.apply(lambda x: x if len(x)==5 else \"0\"+ x)\n",
    "df_final[\"CodigoMunicipioResidenciaBeneficiario\"].sort_values()"
   ],
   "outputs": [
    {
     "output_type": "execute_result",
     "data": {
      "text/plain": [
       "949576    05001\n",
       "489746    05001\n",
       "489704    05001\n",
       "489672    05001\n",
       "489671    05001\n",
       "          ...  \n",
       "619477    99773\n",
       "721355    99773\n",
       "369537    99773\n",
       "78741     99773\n",
       "761553    99773\n",
       "Name: CodigoMunicipioResidenciaBeneficiario, Length: 949577, dtype: object"
      ]
     },
     "metadata": {},
     "execution_count": 39
    }
   ],
   "metadata": {}
  },
  {
   "cell_type": "code",
   "execution_count": 40,
   "source": [
    "Municipios_geo.rename(columns={\"geometry\":\"Poligono_Mun_NNA\"}, inplace=True)\n",
    "df_final = df_final.merge(Municipios_geo, how=\"left\", left_on=\"CodigoMunicipioResidenciaBeneficiario\", right_on=\"MPIO_CCDGO\")\n",
    "df_final[\"Coord_NNA_en_Mpio\"]=~df_final.Poligono_Mun_NNA.contains(df_final['geometry'])"
   ],
   "outputs": [],
   "metadata": {}
  },
  {
   "cell_type": "code",
   "execution_count": 41,
   "source": [
    "df_final.Coord_NNA_en_Mpio.value_counts()"
   ],
   "outputs": [
    {
     "output_type": "execute_result",
     "data": {
      "text/plain": [
       "False    868131\n",
       "True      81446\n",
       "Name: Coord_NNA_en_Mpio, dtype: int64"
      ]
     },
     "metadata": {},
     "execution_count": 41
    }
   ],
   "metadata": {}
  },
  {
   "cell_type": "code",
   "execution_count": 42,
   "source": [
    "df_final['Coord_NNA_en_Mpio'] = np.where(df_final['Coord_NNA_en_Mpio']==False, \"Si\", \"No\")\n",
    "print(len(df_final))\n",
    "df_final = df_final.loc[df_final.pctile<99]\n",
    "print(len(df_final))\n",
    "df_final.Coord_NNA_en_Mpio.value_counts()"
   ],
   "outputs": [
    {
     "output_type": "stream",
     "name": "stdout",
     "text": [
      "949577\n",
      "935333\n"
     ]
    },
    {
     "output_type": "execute_result",
     "data": {
      "text/plain": [
       "Si    861561\n",
       "No     73772\n",
       "Name: Coord_NNA_en_Mpio, dtype: int64"
      ]
     },
     "metadata": {},
     "execution_count": 42
    }
   ],
   "metadata": {}
  },
  {
   "cell_type": "code",
   "execution_count": 43,
   "source": [
    "casos_medios = df_final.loc[df_final.pctile==50].head(1)\n",
    "# \n",
    "m = folium.Map(location=[casos_medios[\"LATITUD_NNA_2\"],casos_medios[\"LONGITUD_NNA_2\"]], zoom_start=15, tiles='CartoDB positron')\n",
    "# \n",
    "# \n",
    "for _, r in casos_medios.iterrows():\n",
    "    folium.Marker(location=[r[\"LATITUD_NNA_2\"],r[\"LONGITUD_NNA_2\"]], popup='Beneficiario ID: {}'.format(r['idbeneficiario']), draggable=True).add_to(m)\n",
    "    folium.Marker(location=[r[\"LATITUD\"], r[\"LONGITUD\"]], popup='Código UDS: {} <br> UDS: {}'.format(r['CodigoUnidadServicio'], r['UnidadServicio']), draggable=True).add_to(m)\n",
    "    points = [[r[\"LATITUD_NNA_2\"],r[\"LONGITUD_NNA_2\"]],[r[\"LATITUD\"], r[\"LONGITUD\"]]]\n",
    "    folium.PolyLine(points, color='red').add_to(m)\n",
    "# \n",
    "# \n",
    "m"
   ],
   "outputs": [
    {
     "output_type": "execute_result",
     "data": {
      "text/html": [
       "<div style=\"width:100%;\"><div style=\"position:relative;width:100%;height:0;padding-bottom:60%;\"><span style=\"color:#565656\">Make this Notebook Trusted to load map: File -> Trust Notebook</span><iframe src=\"about:blank\" style=\"position:absolute;width:100%;height:100%;left:0;top:0;border:none !important;\" data-html=%3C%21DOCTYPE%20html%3E%0A%3Chead%3E%20%20%20%20%0A%20%20%20%20%3Cmeta%20http-equiv%3D%22content-type%22%20content%3D%22text/html%3B%20charset%3DUTF-8%22%20/%3E%0A%20%20%20%20%0A%20%20%20%20%20%20%20%20%3Cscript%3E%0A%20%20%20%20%20%20%20%20%20%20%20%20L_NO_TOUCH%20%3D%20false%3B%0A%20%20%20%20%20%20%20%20%20%20%20%20L_DISABLE_3D%20%3D%20false%3B%0A%20%20%20%20%20%20%20%20%3C/script%3E%0A%20%20%20%20%0A%20%20%20%20%3Cstyle%3Ehtml%2C%20body%20%7Bwidth%3A%20100%25%3Bheight%3A%20100%25%3Bmargin%3A%200%3Bpadding%3A%200%3B%7D%3C/style%3E%0A%20%20%20%20%3Cstyle%3E%23map%20%7Bposition%3Aabsolute%3Btop%3A0%3Bbottom%3A0%3Bright%3A0%3Bleft%3A0%3B%7D%3C/style%3E%0A%20%20%20%20%3Cscript%20src%3D%22https%3A//cdn.jsdelivr.net/npm/leaflet%401.6.0/dist/leaflet.js%22%3E%3C/script%3E%0A%20%20%20%20%3Cscript%20src%3D%22https%3A//code.jquery.com/jquery-1.12.4.min.js%22%3E%3C/script%3E%0A%20%20%20%20%3Cscript%20src%3D%22https%3A//maxcdn.bootstrapcdn.com/bootstrap/3.2.0/js/bootstrap.min.js%22%3E%3C/script%3E%0A%20%20%20%20%3Cscript%20src%3D%22https%3A//cdnjs.cloudflare.com/ajax/libs/Leaflet.awesome-markers/2.0.2/leaflet.awesome-markers.js%22%3E%3C/script%3E%0A%20%20%20%20%3Clink%20rel%3D%22stylesheet%22%20href%3D%22https%3A//cdn.jsdelivr.net/npm/leaflet%401.6.0/dist/leaflet.css%22/%3E%0A%20%20%20%20%3Clink%20rel%3D%22stylesheet%22%20href%3D%22https%3A//maxcdn.bootstrapcdn.com/bootstrap/3.2.0/css/bootstrap.min.css%22/%3E%0A%20%20%20%20%3Clink%20rel%3D%22stylesheet%22%20href%3D%22https%3A//maxcdn.bootstrapcdn.com/bootstrap/3.2.0/css/bootstrap-theme.min.css%22/%3E%0A%20%20%20%20%3Clink%20rel%3D%22stylesheet%22%20href%3D%22https%3A//maxcdn.bootstrapcdn.com/font-awesome/4.6.3/css/font-awesome.min.css%22/%3E%0A%20%20%20%20%3Clink%20rel%3D%22stylesheet%22%20href%3D%22https%3A//cdnjs.cloudflare.com/ajax/libs/Leaflet.awesome-markers/2.0.2/leaflet.awesome-markers.css%22/%3E%0A%20%20%20%20%3Clink%20rel%3D%22stylesheet%22%20href%3D%22https%3A//cdn.jsdelivr.net/gh/python-visualization/folium/folium/templates/leaflet.awesome.rotate.min.css%22/%3E%0A%20%20%20%20%0A%20%20%20%20%20%20%20%20%20%20%20%20%3Cmeta%20name%3D%22viewport%22%20content%3D%22width%3Ddevice-width%2C%0A%20%20%20%20%20%20%20%20%20%20%20%20%20%20%20%20initial-scale%3D1.0%2C%20maximum-scale%3D1.0%2C%20user-scalable%3Dno%22%20/%3E%0A%20%20%20%20%20%20%20%20%20%20%20%20%3Cstyle%3E%0A%20%20%20%20%20%20%20%20%20%20%20%20%20%20%20%20%23map_095be837dde24f1891fe633aee7dfea1%20%7B%0A%20%20%20%20%20%20%20%20%20%20%20%20%20%20%20%20%20%20%20%20position%3A%20relative%3B%0A%20%20%20%20%20%20%20%20%20%20%20%20%20%20%20%20%20%20%20%20width%3A%20100.0%25%3B%0A%20%20%20%20%20%20%20%20%20%20%20%20%20%20%20%20%20%20%20%20height%3A%20100.0%25%3B%0A%20%20%20%20%20%20%20%20%20%20%20%20%20%20%20%20%20%20%20%20left%3A%200.0%25%3B%0A%20%20%20%20%20%20%20%20%20%20%20%20%20%20%20%20%20%20%20%20top%3A%200.0%25%3B%0A%20%20%20%20%20%20%20%20%20%20%20%20%20%20%20%20%7D%0A%20%20%20%20%20%20%20%20%20%20%20%20%3C/style%3E%0A%20%20%20%20%20%20%20%20%0A%3C/head%3E%0A%3Cbody%3E%20%20%20%20%0A%20%20%20%20%0A%20%20%20%20%20%20%20%20%20%20%20%20%3Cdiv%20class%3D%22folium-map%22%20id%3D%22map_095be837dde24f1891fe633aee7dfea1%22%20%3E%3C/div%3E%0A%20%20%20%20%20%20%20%20%0A%3C/body%3E%0A%3Cscript%3E%20%20%20%20%0A%20%20%20%20%0A%20%20%20%20%20%20%20%20%20%20%20%20var%20map_095be837dde24f1891fe633aee7dfea1%20%3D%20L.map%28%0A%20%20%20%20%20%20%20%20%20%20%20%20%20%20%20%20%22map_095be837dde24f1891fe633aee7dfea1%22%2C%0A%20%20%20%20%20%20%20%20%20%20%20%20%20%20%20%20%7B%0A%20%20%20%20%20%20%20%20%20%20%20%20%20%20%20%20%20%20%20%20center%3A%20%5B7.87687358%2C%20-72.54941311%5D%2C%0A%20%20%20%20%20%20%20%20%20%20%20%20%20%20%20%20%20%20%20%20crs%3A%20L.CRS.EPSG3857%2C%0A%20%20%20%20%20%20%20%20%20%20%20%20%20%20%20%20%20%20%20%20zoom%3A%2015%2C%0A%20%20%20%20%20%20%20%20%20%20%20%20%20%20%20%20%20%20%20%20zoomControl%3A%20true%2C%0A%20%20%20%20%20%20%20%20%20%20%20%20%20%20%20%20%20%20%20%20preferCanvas%3A%20false%2C%0A%20%20%20%20%20%20%20%20%20%20%20%20%20%20%20%20%7D%0A%20%20%20%20%20%20%20%20%20%20%20%20%29%3B%0A%0A%20%20%20%20%20%20%20%20%20%20%20%20%0A%0A%20%20%20%20%20%20%20%20%0A%20%20%20%20%0A%20%20%20%20%20%20%20%20%20%20%20%20var%20tile_layer_6fc030fdc72e4e1ca3bf03444b7cf7ce%20%3D%20L.tileLayer%28%0A%20%20%20%20%20%20%20%20%20%20%20%20%20%20%20%20%22https%3A//cartodb-basemaps-%7Bs%7D.global.ssl.fastly.net/light_all/%7Bz%7D/%7Bx%7D/%7By%7D.png%22%2C%0A%20%20%20%20%20%20%20%20%20%20%20%20%20%20%20%20%7B%22attribution%22%3A%20%22%5Cu0026copy%3B%20%5Cu003ca%20href%3D%5C%22http%3A//www.openstreetmap.org/copyright%5C%22%5Cu003eOpenStreetMap%5Cu003c/a%5Cu003e%20contributors%20%5Cu0026copy%3B%20%5Cu003ca%20href%3D%5C%22http%3A//cartodb.com/attributions%5C%22%5Cu003eCartoDB%5Cu003c/a%5Cu003e%2C%20CartoDB%20%5Cu003ca%20href%20%3D%5C%22http%3A//cartodb.com/attributions%5C%22%5Cu003eattributions%5Cu003c/a%5Cu003e%22%2C%20%22detectRetina%22%3A%20false%2C%20%22maxNativeZoom%22%3A%2018%2C%20%22maxZoom%22%3A%2018%2C%20%22minZoom%22%3A%200%2C%20%22noWrap%22%3A%20false%2C%20%22opacity%22%3A%201%2C%20%22subdomains%22%3A%20%22abc%22%2C%20%22tms%22%3A%20false%7D%0A%20%20%20%20%20%20%20%20%20%20%20%20%29.addTo%28map_095be837dde24f1891fe633aee7dfea1%29%3B%0A%20%20%20%20%20%20%20%20%0A%20%20%20%20%0A%20%20%20%20%20%20%20%20%20%20%20%20var%20marker_a78caaac10c246f1898b1ec1e48eaad2%20%3D%20L.marker%28%0A%20%20%20%20%20%20%20%20%20%20%20%20%20%20%20%20%5B7.87687358%2C%20-72.54941311%5D%2C%0A%20%20%20%20%20%20%20%20%20%20%20%20%20%20%20%20%7B%22autoPan%22%3A%20true%2C%20%22draggable%22%3A%20true%7D%0A%20%20%20%20%20%20%20%20%20%20%20%20%29.addTo%28map_095be837dde24f1891fe633aee7dfea1%29%3B%0A%20%20%20%20%20%20%20%20%0A%20%20%20%20%0A%20%20%20%20%20%20%20%20var%20popup_cae96b7c14d844f6bb9736eb93d8dfe4%20%3D%20L.popup%28%7B%22maxWidth%22%3A%20%22100%25%22%7D%29%3B%0A%0A%20%20%20%20%20%20%20%20%0A%20%20%20%20%20%20%20%20%20%20%20%20var%20html_d2b1e3f398424563bfdeb980b7b17674%20%3D%20%24%28%60%3Cdiv%20id%3D%22html_d2b1e3f398424563bfdeb980b7b17674%22%20style%3D%22width%3A%20100.0%25%3B%20height%3A%20100.0%25%3B%22%3EBeneficiario%20ID%3A%2021001914%3C/div%3E%60%29%5B0%5D%3B%0A%20%20%20%20%20%20%20%20%20%20%20%20popup_cae96b7c14d844f6bb9736eb93d8dfe4.setContent%28html_d2b1e3f398424563bfdeb980b7b17674%29%3B%0A%20%20%20%20%20%20%20%20%0A%0A%20%20%20%20%20%20%20%20marker_a78caaac10c246f1898b1ec1e48eaad2.bindPopup%28popup_cae96b7c14d844f6bb9736eb93d8dfe4%29%0A%20%20%20%20%20%20%20%20%3B%0A%0A%20%20%20%20%20%20%20%20%0A%20%20%20%20%0A%20%20%20%20%0A%20%20%20%20%20%20%20%20%20%20%20%20var%20marker_64fe1edbd88348ef936535a549a7c1a5%20%3D%20L.marker%28%0A%20%20%20%20%20%20%20%20%20%20%20%20%20%20%20%20%5B7.88388888889%2C%20-72.5466666667%5D%2C%0A%20%20%20%20%20%20%20%20%20%20%20%20%20%20%20%20%7B%22autoPan%22%3A%20true%2C%20%22draggable%22%3A%20true%7D%0A%20%20%20%20%20%20%20%20%20%20%20%20%29.addTo%28map_095be837dde24f1891fe633aee7dfea1%29%3B%0A%20%20%20%20%20%20%20%20%0A%20%20%20%20%0A%20%20%20%20%20%20%20%20var%20popup_7913028b7c204c1290269f2db0725d71%20%3D%20L.popup%28%7B%22maxWidth%22%3A%20%22100%25%22%7D%29%3B%0A%0A%20%20%20%20%20%20%20%20%0A%20%20%20%20%20%20%20%20%20%20%20%20var%20html_fc0f4b59db634481ad52ba1f495704af%20%3D%20%24%28%60%3Cdiv%20id%3D%22html_fc0f4b59db634481ad52ba1f495704af%22%20style%3D%22width%3A%20100.0%25%3B%20height%3A%20100.0%25%3B%22%3EC%C3%B3digo%20UDS%3A%205467300113920%20%3Cbr%3E%20UDS%3A%20ESPIRITUALIDAD%3C/div%3E%60%29%5B0%5D%3B%0A%20%20%20%20%20%20%20%20%20%20%20%20popup_7913028b7c204c1290269f2db0725d71.setContent%28html_fc0f4b59db634481ad52ba1f495704af%29%3B%0A%20%20%20%20%20%20%20%20%0A%0A%20%20%20%20%20%20%20%20marker_64fe1edbd88348ef936535a549a7c1a5.bindPopup%28popup_7913028b7c204c1290269f2db0725d71%29%0A%20%20%20%20%20%20%20%20%3B%0A%0A%20%20%20%20%20%20%20%20%0A%20%20%20%20%0A%20%20%20%20%0A%20%20%20%20%20%20%20%20%20%20%20%20var%20poly_line_2d700c7304c84f0a881c265cd5412e21%20%3D%20L.polyline%28%0A%20%20%20%20%20%20%20%20%20%20%20%20%20%20%20%20%5B%5B7.87687358%2C%20-72.54941311%5D%2C%20%5B7.88388888889%2C%20-72.5466666667%5D%5D%2C%0A%20%20%20%20%20%20%20%20%20%20%20%20%20%20%20%20%7B%22bubblingMouseEvents%22%3A%20true%2C%20%22color%22%3A%20%22red%22%2C%20%22dashArray%22%3A%20null%2C%20%22dashOffset%22%3A%20null%2C%20%22fill%22%3A%20false%2C%20%22fillColor%22%3A%20%22red%22%2C%20%22fillOpacity%22%3A%200.2%2C%20%22fillRule%22%3A%20%22evenodd%22%2C%20%22lineCap%22%3A%20%22round%22%2C%20%22lineJoin%22%3A%20%22round%22%2C%20%22noClip%22%3A%20false%2C%20%22opacity%22%3A%201.0%2C%20%22smoothFactor%22%3A%201.0%2C%20%22stroke%22%3A%20true%2C%20%22weight%22%3A%203%7D%0A%20%20%20%20%20%20%20%20%20%20%20%20%29.addTo%28map_095be837dde24f1891fe633aee7dfea1%29%3B%0A%20%20%20%20%20%20%20%20%0A%3C/script%3E onload=\"this.contentDocument.open();this.contentDocument.write(    decodeURIComponent(this.getAttribute('data-html')));this.contentDocument.close();\" allowfullscreen webkitallowfullscreen mozallowfullscreen></iframe></div></div>"
      ],
      "text/plain": [
       "<folium.folium.Map at 0x7fbaa7a4c040>"
      ]
     },
     "metadata": {},
     "execution_count": 43
    }
   ],
   "metadata": {}
  },
  {
   "cell_type": "code",
   "execution_count": 44,
   "source": [
    "casos_medios[['CodigoDepartamentoUDS','CodigoMunicipioUDS','MunicipioUDS', 'CodigoDepartamentoResidenciaBeneficiario','CodigoMunicipioResidenciaBeneficiario','CodigoDepa','CodigoMuni','CODDEP','CODMUN','Coord_x_auto_enc','Coord_y_auto_enc','LATITUD_NNA_2', 'LONGITUD_NNA_2','LATITUD', 'LONGITUD','Distancia','pct_rank','pctile','Coord_NNA_en_Mpio']]\n"
   ],
   "outputs": [
    {
     "output_type": "execute_result",
     "data": {
      "text/html": [
       "<div>\n",
       "<style scoped>\n",
       "    .dataframe tbody tr th:only-of-type {\n",
       "        vertical-align: middle;\n",
       "    }\n",
       "\n",
       "    .dataframe tbody tr th {\n",
       "        vertical-align: top;\n",
       "    }\n",
       "\n",
       "    .dataframe thead th {\n",
       "        text-align: right;\n",
       "    }\n",
       "</style>\n",
       "<table border=\"1\" class=\"dataframe\">\n",
       "  <thead>\n",
       "    <tr style=\"text-align: right;\">\n",
       "      <th></th>\n",
       "      <th>CodigoDepartamentoUDS</th>\n",
       "      <th>CodigoMunicipioUDS</th>\n",
       "      <th>MunicipioUDS</th>\n",
       "      <th>CodigoDepartamentoResidenciaBeneficiario</th>\n",
       "      <th>CodigoMunicipioResidenciaBeneficiario</th>\n",
       "      <th>CodigoDepa</th>\n",
       "      <th>CodigoMuni</th>\n",
       "      <th>CODDEP</th>\n",
       "      <th>CODMUN</th>\n",
       "      <th>Coord_x_auto_enc</th>\n",
       "      <th>Coord_y_auto_enc</th>\n",
       "      <th>LATITUD_NNA_2</th>\n",
       "      <th>LONGITUD_NNA_2</th>\n",
       "      <th>LATITUD</th>\n",
       "      <th>LONGITUD</th>\n",
       "      <th>Distancia</th>\n",
       "      <th>pct_rank</th>\n",
       "      <th>pctile</th>\n",
       "      <th>Coord_NNA_en_Mpio</th>\n",
       "    </tr>\n",
       "  </thead>\n",
       "  <tbody>\n",
       "    <tr>\n",
       "      <th>15</th>\n",
       "      <td>54</td>\n",
       "      <td>54673</td>\n",
       "      <td>San Cayetano</td>\n",
       "      <td>54.0</td>\n",
       "      <td>54261</td>\n",
       "      <td>54.0</td>\n",
       "      <td>54673.0</td>\n",
       "      <td>54.0</td>\n",
       "      <td>54673.0</td>\n",
       "      <td>7,87687358</td>\n",
       "      <td>-72,54941311</td>\n",
       "      <td>7.876874</td>\n",
       "      <td>-72.549413</td>\n",
       "      <td>7.883889</td>\n",
       "      <td>-72.546667</td>\n",
       "      <td>0.836143</td>\n",
       "      <td>0.503212</td>\n",
       "      <td>50.0</td>\n",
       "      <td>No</td>\n",
       "    </tr>\n",
       "  </tbody>\n",
       "</table>\n",
       "</div>"
      ],
      "text/plain": [
       "    CodigoDepartamentoUDS  CodigoMunicipioUDS  MunicipioUDS  \\\n",
       "15                     54               54673  San Cayetano   \n",
       "\n",
       "    CodigoDepartamentoResidenciaBeneficiario  \\\n",
       "15                                      54.0   \n",
       "\n",
       "   CodigoMunicipioResidenciaBeneficiario  CodigoDepa  CodigoMuni  CODDEP  \\\n",
       "15                                 54261        54.0     54673.0    54.0   \n",
       "\n",
       "     CODMUN Coord_x_auto_enc Coord_y_auto_enc  LATITUD_NNA_2  LONGITUD_NNA_2  \\\n",
       "15  54673.0       7,87687358     -72,54941311       7.876874      -72.549413   \n",
       "\n",
       "     LATITUD   LONGITUD  Distancia  pct_rank  pctile Coord_NNA_en_Mpio  \n",
       "15  7.883889 -72.546667   0.836143  0.503212    50.0                No  "
      ]
     },
     "metadata": {},
     "execution_count": 44
    }
   ],
   "metadata": {}
  },
  {
   "cell_type": "code",
   "execution_count": 45,
   "source": [
    "casos_75pctile = df_final.loc[df_final.pctile==75].head(1)\n",
    "# \n",
    "m = folium.Map(location=[casos_75pctile[\"LATITUD_NNA_2\"],casos_75pctile[\"LONGITUD_NNA_2\"]], zoom_start=15, tiles='CartoDB positron')\n",
    "# \n",
    "# \n",
    "for _, r in casos_75pctile.iterrows():\n",
    "    folium.Marker(location=[r[\"LATITUD_NNA_2\"],r[\"LONGITUD_NNA_2\"]], popup='Beneficiario ID: {}'.format(r['idbeneficiario']), draggable=True).add_to(m)\n",
    "    folium.Marker(location=[r[\"LATITUD\"], r[\"LONGITUD\"]], popup='Código UDS: {} <br> UDS: {}'.format(r['CodigoUnidadServicio'], r['UnidadServicio']), draggable=True).add_to(m)\n",
    "    points = [[r[\"LATITUD_NNA_2\"],r[\"LONGITUD_NNA_2\"]],[r[\"LATITUD\"], r[\"LONGITUD\"]]]\n",
    "    folium.PolyLine(points, color='red').add_to(m)\n",
    "# \n",
    "# \n",
    "m"
   ],
   "outputs": [
    {
     "output_type": "execute_result",
     "data": {
      "text/html": [
       "<div style=\"width:100%;\"><div style=\"position:relative;width:100%;height:0;padding-bottom:60%;\"><span style=\"color:#565656\">Make this Notebook Trusted to load map: File -> Trust Notebook</span><iframe src=\"about:blank\" style=\"position:absolute;width:100%;height:100%;left:0;top:0;border:none !important;\" data-html=%3C%21DOCTYPE%20html%3E%0A%3Chead%3E%20%20%20%20%0A%20%20%20%20%3Cmeta%20http-equiv%3D%22content-type%22%20content%3D%22text/html%3B%20charset%3DUTF-8%22%20/%3E%0A%20%20%20%20%0A%20%20%20%20%20%20%20%20%3Cscript%3E%0A%20%20%20%20%20%20%20%20%20%20%20%20L_NO_TOUCH%20%3D%20false%3B%0A%20%20%20%20%20%20%20%20%20%20%20%20L_DISABLE_3D%20%3D%20false%3B%0A%20%20%20%20%20%20%20%20%3C/script%3E%0A%20%20%20%20%0A%20%20%20%20%3Cstyle%3Ehtml%2C%20body%20%7Bwidth%3A%20100%25%3Bheight%3A%20100%25%3Bmargin%3A%200%3Bpadding%3A%200%3B%7D%3C/style%3E%0A%20%20%20%20%3Cstyle%3E%23map%20%7Bposition%3Aabsolute%3Btop%3A0%3Bbottom%3A0%3Bright%3A0%3Bleft%3A0%3B%7D%3C/style%3E%0A%20%20%20%20%3Cscript%20src%3D%22https%3A//cdn.jsdelivr.net/npm/leaflet%401.6.0/dist/leaflet.js%22%3E%3C/script%3E%0A%20%20%20%20%3Cscript%20src%3D%22https%3A//code.jquery.com/jquery-1.12.4.min.js%22%3E%3C/script%3E%0A%20%20%20%20%3Cscript%20src%3D%22https%3A//maxcdn.bootstrapcdn.com/bootstrap/3.2.0/js/bootstrap.min.js%22%3E%3C/script%3E%0A%20%20%20%20%3Cscript%20src%3D%22https%3A//cdnjs.cloudflare.com/ajax/libs/Leaflet.awesome-markers/2.0.2/leaflet.awesome-markers.js%22%3E%3C/script%3E%0A%20%20%20%20%3Clink%20rel%3D%22stylesheet%22%20href%3D%22https%3A//cdn.jsdelivr.net/npm/leaflet%401.6.0/dist/leaflet.css%22/%3E%0A%20%20%20%20%3Clink%20rel%3D%22stylesheet%22%20href%3D%22https%3A//maxcdn.bootstrapcdn.com/bootstrap/3.2.0/css/bootstrap.min.css%22/%3E%0A%20%20%20%20%3Clink%20rel%3D%22stylesheet%22%20href%3D%22https%3A//maxcdn.bootstrapcdn.com/bootstrap/3.2.0/css/bootstrap-theme.min.css%22/%3E%0A%20%20%20%20%3Clink%20rel%3D%22stylesheet%22%20href%3D%22https%3A//maxcdn.bootstrapcdn.com/font-awesome/4.6.3/css/font-awesome.min.css%22/%3E%0A%20%20%20%20%3Clink%20rel%3D%22stylesheet%22%20href%3D%22https%3A//cdnjs.cloudflare.com/ajax/libs/Leaflet.awesome-markers/2.0.2/leaflet.awesome-markers.css%22/%3E%0A%20%20%20%20%3Clink%20rel%3D%22stylesheet%22%20href%3D%22https%3A//cdn.jsdelivr.net/gh/python-visualization/folium/folium/templates/leaflet.awesome.rotate.min.css%22/%3E%0A%20%20%20%20%0A%20%20%20%20%20%20%20%20%20%20%20%20%3Cmeta%20name%3D%22viewport%22%20content%3D%22width%3Ddevice-width%2C%0A%20%20%20%20%20%20%20%20%20%20%20%20%20%20%20%20initial-scale%3D1.0%2C%20maximum-scale%3D1.0%2C%20user-scalable%3Dno%22%20/%3E%0A%20%20%20%20%20%20%20%20%20%20%20%20%3Cstyle%3E%0A%20%20%20%20%20%20%20%20%20%20%20%20%20%20%20%20%23map_1603bbf45dd04e8b9f8042ded831963f%20%7B%0A%20%20%20%20%20%20%20%20%20%20%20%20%20%20%20%20%20%20%20%20position%3A%20relative%3B%0A%20%20%20%20%20%20%20%20%20%20%20%20%20%20%20%20%20%20%20%20width%3A%20100.0%25%3B%0A%20%20%20%20%20%20%20%20%20%20%20%20%20%20%20%20%20%20%20%20height%3A%20100.0%25%3B%0A%20%20%20%20%20%20%20%20%20%20%20%20%20%20%20%20%20%20%20%20left%3A%200.0%25%3B%0A%20%20%20%20%20%20%20%20%20%20%20%20%20%20%20%20%20%20%20%20top%3A%200.0%25%3B%0A%20%20%20%20%20%20%20%20%20%20%20%20%20%20%20%20%7D%0A%20%20%20%20%20%20%20%20%20%20%20%20%3C/style%3E%0A%20%20%20%20%20%20%20%20%0A%3C/head%3E%0A%3Cbody%3E%20%20%20%20%0A%20%20%20%20%0A%20%20%20%20%20%20%20%20%20%20%20%20%3Cdiv%20class%3D%22folium-map%22%20id%3D%22map_1603bbf45dd04e8b9f8042ded831963f%22%20%3E%3C/div%3E%0A%20%20%20%20%20%20%20%20%0A%3C/body%3E%0A%3Cscript%3E%20%20%20%20%0A%20%20%20%20%0A%20%20%20%20%20%20%20%20%20%20%20%20var%20map_1603bbf45dd04e8b9f8042ded831963f%20%3D%20L.map%28%0A%20%20%20%20%20%20%20%20%20%20%20%20%20%20%20%20%22map_1603bbf45dd04e8b9f8042ded831963f%22%2C%0A%20%20%20%20%20%20%20%20%20%20%20%20%20%20%20%20%7B%0A%20%20%20%20%20%20%20%20%20%20%20%20%20%20%20%20%20%20%20%20center%3A%20%5B5.18640276%2C%20-75.05497417%5D%2C%0A%20%20%20%20%20%20%20%20%20%20%20%20%20%20%20%20%20%20%20%20crs%3A%20L.CRS.EPSG3857%2C%0A%20%20%20%20%20%20%20%20%20%20%20%20%20%20%20%20%20%20%20%20zoom%3A%2015%2C%0A%20%20%20%20%20%20%20%20%20%20%20%20%20%20%20%20%20%20%20%20zoomControl%3A%20true%2C%0A%20%20%20%20%20%20%20%20%20%20%20%20%20%20%20%20%20%20%20%20preferCanvas%3A%20false%2C%0A%20%20%20%20%20%20%20%20%20%20%20%20%20%20%20%20%7D%0A%20%20%20%20%20%20%20%20%20%20%20%20%29%3B%0A%0A%20%20%20%20%20%20%20%20%20%20%20%20%0A%0A%20%20%20%20%20%20%20%20%0A%20%20%20%20%0A%20%20%20%20%20%20%20%20%20%20%20%20var%20tile_layer_ad8ee2c7a4274553a15fcc103d7d1d2b%20%3D%20L.tileLayer%28%0A%20%20%20%20%20%20%20%20%20%20%20%20%20%20%20%20%22https%3A//cartodb-basemaps-%7Bs%7D.global.ssl.fastly.net/light_all/%7Bz%7D/%7Bx%7D/%7By%7D.png%22%2C%0A%20%20%20%20%20%20%20%20%20%20%20%20%20%20%20%20%7B%22attribution%22%3A%20%22%5Cu0026copy%3B%20%5Cu003ca%20href%3D%5C%22http%3A//www.openstreetmap.org/copyright%5C%22%5Cu003eOpenStreetMap%5Cu003c/a%5Cu003e%20contributors%20%5Cu0026copy%3B%20%5Cu003ca%20href%3D%5C%22http%3A//cartodb.com/attributions%5C%22%5Cu003eCartoDB%5Cu003c/a%5Cu003e%2C%20CartoDB%20%5Cu003ca%20href%20%3D%5C%22http%3A//cartodb.com/attributions%5C%22%5Cu003eattributions%5Cu003c/a%5Cu003e%22%2C%20%22detectRetina%22%3A%20false%2C%20%22maxNativeZoom%22%3A%2018%2C%20%22maxZoom%22%3A%2018%2C%20%22minZoom%22%3A%200%2C%20%22noWrap%22%3A%20false%2C%20%22opacity%22%3A%201%2C%20%22subdomains%22%3A%20%22abc%22%2C%20%22tms%22%3A%20false%7D%0A%20%20%20%20%20%20%20%20%20%20%20%20%29.addTo%28map_1603bbf45dd04e8b9f8042ded831963f%29%3B%0A%20%20%20%20%20%20%20%20%0A%20%20%20%20%0A%20%20%20%20%20%20%20%20%20%20%20%20var%20marker_dda4494acf8a4a758ccce17b19e87b60%20%3D%20L.marker%28%0A%20%20%20%20%20%20%20%20%20%20%20%20%20%20%20%20%5B5.18640276%2C%20-75.05497417%5D%2C%0A%20%20%20%20%20%20%20%20%20%20%20%20%20%20%20%20%7B%22autoPan%22%3A%20true%2C%20%22draggable%22%3A%20true%7D%0A%20%20%20%20%20%20%20%20%20%20%20%20%29.addTo%28map_1603bbf45dd04e8b9f8042ded831963f%29%3B%0A%20%20%20%20%20%20%20%20%0A%20%20%20%20%0A%20%20%20%20%20%20%20%20var%20popup_bea99b2d537c418db5530faaa2c67f73%20%3D%20L.popup%28%7B%22maxWidth%22%3A%20%22100%25%22%7D%29%3B%0A%0A%20%20%20%20%20%20%20%20%0A%20%20%20%20%20%20%20%20%20%20%20%20var%20html_ac32dbd842e44914bbfb6f9c1ed9ace5%20%3D%20%24%28%60%3Cdiv%20id%3D%22html_ac32dbd842e44914bbfb6f9c1ed9ace5%22%20style%3D%22width%3A%20100.0%25%3B%20height%3A%20100.0%25%3B%22%3EBeneficiario%20ID%3A%2021002137%3C/div%3E%60%29%5B0%5D%3B%0A%20%20%20%20%20%20%20%20%20%20%20%20popup_bea99b2d537c418db5530faaa2c67f73.setContent%28html_ac32dbd842e44914bbfb6f9c1ed9ace5%29%3B%0A%20%20%20%20%20%20%20%20%0A%0A%20%20%20%20%20%20%20%20marker_dda4494acf8a4a758ccce17b19e87b60.bindPopup%28popup_bea99b2d537c418db5530faaa2c67f73%29%0A%20%20%20%20%20%20%20%20%3B%0A%0A%20%20%20%20%20%20%20%20%0A%20%20%20%20%0A%20%20%20%20%0A%20%20%20%20%20%20%20%20%20%20%20%20var%20marker_578b7ea0249f49a893ffbb6ebef5765d%20%3D%20L.marker%28%0A%20%20%20%20%20%20%20%20%20%20%20%20%20%20%20%20%5B5.21182777778%2C%20-75.0459722222%5D%2C%0A%20%20%20%20%20%20%20%20%20%20%20%20%20%20%20%20%7B%22autoPan%22%3A%20true%2C%20%22draggable%22%3A%20true%7D%0A%20%20%20%20%20%20%20%20%20%20%20%20%29.addTo%28map_1603bbf45dd04e8b9f8042ded831963f%29%3B%0A%20%20%20%20%20%20%20%20%0A%20%20%20%20%0A%20%20%20%20%20%20%20%20var%20popup_03c80d2b95544237895b0d6efd959822%20%3D%20L.popup%28%7B%22maxWidth%22%3A%20%22100%25%22%7D%29%3B%0A%0A%20%20%20%20%20%20%20%20%0A%20%20%20%20%20%20%20%20%20%20%20%20var%20html_2d5a0d10ec6745258980a9022b13998d%20%3D%20%24%28%60%3Cdiv%20id%3D%22html_2d5a0d10ec6745258980a9022b13998d%22%20style%3D%22width%3A%20100.0%25%3B%20height%3A%20100.0%25%3B%22%3EC%C3%B3digo%20UDS%3A%20732831131501%20%3Cbr%3E%20UDS%3A%20SONRISITAS2%3C/div%3E%60%29%5B0%5D%3B%0A%20%20%20%20%20%20%20%20%20%20%20%20popup_03c80d2b95544237895b0d6efd959822.setContent%28html_2d5a0d10ec6745258980a9022b13998d%29%3B%0A%20%20%20%20%20%20%20%20%0A%0A%20%20%20%20%20%20%20%20marker_578b7ea0249f49a893ffbb6ebef5765d.bindPopup%28popup_03c80d2b95544237895b0d6efd959822%29%0A%20%20%20%20%20%20%20%20%3B%0A%0A%20%20%20%20%20%20%20%20%0A%20%20%20%20%0A%20%20%20%20%0A%20%20%20%20%20%20%20%20%20%20%20%20var%20poly_line_f00e506410dd405da83bab9e9dbb87f3%20%3D%20L.polyline%28%0A%20%20%20%20%20%20%20%20%20%20%20%20%20%20%20%20%5B%5B5.18640276%2C%20-75.05497417%5D%2C%20%5B5.21182777778%2C%20-75.0459722222%5D%5D%2C%0A%20%20%20%20%20%20%20%20%20%20%20%20%20%20%20%20%7B%22bubblingMouseEvents%22%3A%20true%2C%20%22color%22%3A%20%22red%22%2C%20%22dashArray%22%3A%20null%2C%20%22dashOffset%22%3A%20null%2C%20%22fill%22%3A%20false%2C%20%22fillColor%22%3A%20%22red%22%2C%20%22fillOpacity%22%3A%200.2%2C%20%22fillRule%22%3A%20%22evenodd%22%2C%20%22lineCap%22%3A%20%22round%22%2C%20%22lineJoin%22%3A%20%22round%22%2C%20%22noClip%22%3A%20false%2C%20%22opacity%22%3A%201.0%2C%20%22smoothFactor%22%3A%201.0%2C%20%22stroke%22%3A%20true%2C%20%22weight%22%3A%203%7D%0A%20%20%20%20%20%20%20%20%20%20%20%20%29.addTo%28map_1603bbf45dd04e8b9f8042ded831963f%29%3B%0A%20%20%20%20%20%20%20%20%0A%3C/script%3E onload=\"this.contentDocument.open();this.contentDocument.write(    decodeURIComponent(this.getAttribute('data-html')));this.contentDocument.close();\" allowfullscreen webkitallowfullscreen mozallowfullscreen></iframe></div></div>"
      ],
      "text/plain": [
       "<folium.folium.Map at 0x7fbaef844cd0>"
      ]
     },
     "metadata": {},
     "execution_count": 45
    }
   ],
   "metadata": {}
  },
  {
   "cell_type": "code",
   "execution_count": 46,
   "source": [
    "casos_75pctile[['CodigoDepartamentoUDS','CodigoMunicipioUDS','MunicipioUDS', 'CodigoDepartamentoResidenciaBeneficiario','CodigoMunicipioResidenciaBeneficiario','CodigoDepa','CodigoMuni','CODDEP','CODMUN','Coord_x_auto_enc','Coord_y_auto_enc','LATITUD_NNA_2', 'LONGITUD_NNA_2','LATITUD', 'LONGITUD','Distancia','pct_rank','pctile','Coord_NNA_en_Mpio']]\n"
   ],
   "outputs": [
    {
     "output_type": "execute_result",
     "data": {
      "text/html": [
       "<div>\n",
       "<style scoped>\n",
       "    .dataframe tbody tr th:only-of-type {\n",
       "        vertical-align: middle;\n",
       "    }\n",
       "\n",
       "    .dataframe tbody tr th {\n",
       "        vertical-align: top;\n",
       "    }\n",
       "\n",
       "    .dataframe thead th {\n",
       "        text-align: right;\n",
       "    }\n",
       "</style>\n",
       "<table border=\"1\" class=\"dataframe\">\n",
       "  <thead>\n",
       "    <tr style=\"text-align: right;\">\n",
       "      <th></th>\n",
       "      <th>CodigoDepartamentoUDS</th>\n",
       "      <th>CodigoMunicipioUDS</th>\n",
       "      <th>MunicipioUDS</th>\n",
       "      <th>CodigoDepartamentoResidenciaBeneficiario</th>\n",
       "      <th>CodigoMunicipioResidenciaBeneficiario</th>\n",
       "      <th>CodigoDepa</th>\n",
       "      <th>CodigoMuni</th>\n",
       "      <th>CODDEP</th>\n",
       "      <th>CODMUN</th>\n",
       "      <th>Coord_x_auto_enc</th>\n",
       "      <th>Coord_y_auto_enc</th>\n",
       "      <th>LATITUD_NNA_2</th>\n",
       "      <th>LONGITUD_NNA_2</th>\n",
       "      <th>LATITUD</th>\n",
       "      <th>LONGITUD</th>\n",
       "      <th>Distancia</th>\n",
       "      <th>pct_rank</th>\n",
       "      <th>pctile</th>\n",
       "      <th>Coord_NNA_en_Mpio</th>\n",
       "    </tr>\n",
       "  </thead>\n",
       "  <tbody>\n",
       "    <tr>\n",
       "      <th>66</th>\n",
       "      <td>73</td>\n",
       "      <td>73283</td>\n",
       "      <td>Fresno</td>\n",
       "      <td>73.0</td>\n",
       "      <td>73283</td>\n",
       "      <td>73.0</td>\n",
       "      <td>73283.0</td>\n",
       "      <td>73.0</td>\n",
       "      <td>73283.0</td>\n",
       "      <td>5,18640276</td>\n",
       "      <td>-75,05497417</td>\n",
       "      <td>5.186403</td>\n",
       "      <td>-75.054974</td>\n",
       "      <td>5.211828</td>\n",
       "      <td>-75.045972</td>\n",
       "      <td>2.99585</td>\n",
       "      <td>0.754155</td>\n",
       "      <td>75.0</td>\n",
       "      <td>Si</td>\n",
       "    </tr>\n",
       "  </tbody>\n",
       "</table>\n",
       "</div>"
      ],
      "text/plain": [
       "    CodigoDepartamentoUDS  CodigoMunicipioUDS MunicipioUDS  \\\n",
       "66                     73               73283       Fresno   \n",
       "\n",
       "    CodigoDepartamentoResidenciaBeneficiario  \\\n",
       "66                                      73.0   \n",
       "\n",
       "   CodigoMunicipioResidenciaBeneficiario  CodigoDepa  CodigoMuni  CODDEP  \\\n",
       "66                                 73283        73.0     73283.0    73.0   \n",
       "\n",
       "     CODMUN Coord_x_auto_enc Coord_y_auto_enc  LATITUD_NNA_2  LONGITUD_NNA_2  \\\n",
       "66  73283.0       5,18640276     -75,05497417       5.186403      -75.054974   \n",
       "\n",
       "     LATITUD   LONGITUD  Distancia  pct_rank  pctile Coord_NNA_en_Mpio  \n",
       "66  5.211828 -75.045972    2.99585  0.754155    75.0                Si  "
      ]
     },
     "metadata": {},
     "execution_count": 46
    }
   ],
   "metadata": {}
  },
  {
   "cell_type": "code",
   "execution_count": 48,
   "source": [
    "base_final = df_final.drop(columns=[\"Poligono_Mun_NNA\",\"geometry\"])"
   ],
   "outputs": [],
   "metadata": {}
  },
  {
   "cell_type": "code",
   "execution_count": 49,
   "source": [
    "base_final.to_csv(\"./Data/Ejercicio Distancias NNA vs UDS.csv\", sep=\"|\", index=False)\n"
   ],
   "outputs": [],
   "metadata": {}
  },
  {
   "cell_type": "code",
   "execution_count": 1,
   "source": [
    "import pandas as pd\n",
    "base_final = pd.read_csv(\"./Data/Ejercicio Distancias NNA vs UDS.csv\", sep=\"|\", low_memory=False)"
   ],
   "outputs": [],
   "metadata": {}
  },
  {
   "cell_type": "code",
   "execution_count": 10,
   "source": [
    "base_final.columns"
   ],
   "outputs": [
    {
     "output_type": "execute_result",
     "data": {
      "text/plain": [
       "Index(['idbeneficiario', 'CodigoDepartamentoUDS', 'DepartamentoUDS',\n",
       "       'CodigoMunicipioUDS', 'MunicipioUDS', 'ZonaUbicacionUDS',\n",
       "       'CodigoUnidadServicio', 'UnidadServicio', 'NombreServicio',\n",
       "       'CodigoDepartamentoResidenciaBeneficiario',\n",
       "       'DepartamentoResidenciaBeneficiario',\n",
       "       'CodigoMunicipioResidenciaBeneficiario',\n",
       "       'MunicipioResidenciaBeneficiario', 'ZonaUbicacionBeneficiario',\n",
       "       'Coord_x_auto_enc', 'Coord_y_auto_enc', 'index', 'OBJECTID_12',\n",
       "       'CodigoDepa', 'Departamen', 'CodigoMuni', 'MunicipioU', 'CodigoUnid',\n",
       "       'UnidadServ', 'NombreServ', 'EstadoUDS', 'LatitudUDS', 'Latitgra',\n",
       "       'latmin', 'latseg', 'latposic', 'LongitudUD', 'longgra', 'longmin',\n",
       "       'longseg', 'longposic', 'ConteoBene', 'LATITUD', 'LONGITUD',\n",
       "       'OBJECTID_2', 'DPTO_CCDGO', 'MPIO_CCDGO_x', 'MPIO_CNMBR', 'MPIO_CCNCT',\n",
       "       'MPIO_NANO', 'DPTO_CNMBR', 'codmun_num', 'CODDEP', 'DEP_12', 'CODMUN',\n",
       "       'MUNICIPI_2', 'area_km', 'estadogeo', 'OID_', 'CodigoUn_1',\n",
       "       'Cnt_Codigo', 'Duplicadas', 'LATITUD_NNA', 'LONGITUD_NNA',\n",
       "       'LONGITUD_NNA_2', 'LATITUD_NNA_2', 'Distancia', 'pct_rank', 'pctile',\n",
       "       'MPIO_CCDGO_y', 'Coord_NNA_en_Mpio', 'rango_distancia'],\n",
       "      dtype='object')"
      ]
     },
     "metadata": {},
     "execution_count": 10
    }
   ],
   "metadata": {}
  },
  {
   "cell_type": "code",
   "execution_count": 5,
   "source": [
    "base_final['Distancia_mts']= base_final['Distancia'] * 1000"
   ],
   "outputs": [],
   "metadata": {}
  },
  {
   "cell_type": "code",
   "execution_count": 13,
   "source": [
    "\n",
    "resumen = base_final.groupby(['CodigoDepartamentoResidenciaBeneficiario','DepartamentoResidenciaBeneficiario','ZonaUbicacionBeneficiario','Coord_NNA_en_Mpio'])['Distancia_mts'].describe(percentiles=[.25, .5, .75,.9,.95]).reset_index()\n",
    "resumen1 = base_final.groupby(['CodigoDepartamentoResidenciaBeneficiario','DepartamentoResidenciaBeneficiario','CodigoMunicipioResidenciaBeneficiario','MunicipioResidenciaBeneficiario','ZonaUbicacionBeneficiario','Coord_NNA_en_Mpio'])['Distancia_mts'].describe(percentiles=[.25, .5, .75,.9,.95]).reset_index()"
   ],
   "outputs": [],
   "metadata": {}
  },
  {
   "cell_type": "code",
   "execution_count": 14,
   "source": [
    "resumen = resumen.round(2)\n",
    "resumen1 = resumen1.round(2)"
   ],
   "outputs": [],
   "metadata": {}
  },
  {
   "cell_type": "code",
   "execution_count": 18,
   "source": [
    "import xlsxwriter\n",
    "writer = pd.ExcelWriter('./Data/Resumen Municipios Ejercicio Distancias NNA vs UDS.xlsx', engine='xlsxwriter')\n",
    "\n",
    "# Write each dataframe to a different worksheet.\n",
    "resumen.to_excel(writer, sheet_name='Depto')\n",
    "resumen1.to_excel(writer, sheet_name='Mpio')\n",
    "writer.save()\n",
    "\n"
   ],
   "outputs": [],
   "metadata": {}
  },
  {
   "cell_type": "markdown",
   "source": [
    "# Ejercicio Percentil 95 NNA vs UDS"
   ],
   "metadata": {}
  },
  {
   "cell_type": "code",
   "execution_count": 2,
   "source": [
    "import pandas as pd\n",
    "base_final = pd.read_csv(\"./Data/Ejercicio Distancias NNA vs UDS.csv\", sep=\"|\", low_memory=False)\n",
    "uds =  pd.read_excel(\"./Data/uds_agosto2021estadogeo1.xlsx\", sheet_name=\"uds_agosto2021estadogeo1\")\n",
    "\n",
    "base_final['Distancia_mts']= base_final['Distancia'] * 1000"
   ],
   "outputs": [],
   "metadata": {}
  },
  {
   "cell_type": "code",
   "execution_count": 58,
   "source": [
    "caso_95pctile = base_final.loc[(base_final.pctile==95) & (base_final.Coord_NNA_en_Mpio==\"Si\")].sort_values(by=\"Distancia\")\n",
    "caso_95pctile = caso_95pctile[['idbeneficiario','CodigoDepartamentoResidenciaBeneficiario','DepartamentoResidenciaBeneficiario','CodigoMunicipioResidenciaBeneficiario','MunicipioResidenciaBeneficiario','ZonaUbicacionBeneficiario','CodigoUnidadServicio','UnidadServicio','NombreServicio','LATITUD','LONGITUD','LATITUD_NNA_2','LONGITUD_NNA_2','Distancia_mts','pctile','Coord_NNA_en_Mpio']]\n",
    "caso_95pctile = caso_95pctile.loc[caso_95pctile.MunicipioResidenciaBeneficiario==\"Bogota, D.C.\"].head(1).reset_index()\n",
    "uds['lat_2'] = caso_95pctile['LATITUD_NNA_2'][0]\n",
    "uds['lon_2'] = caso_95pctile['LONGITUD_NNA_2'][0]\n",
    "uds = calculo_distancia(uds,'LATITUD', 'LONGITUD','lat_2','lon_2')\n",
    "\n",
    "uds_caso_95pctile = uds.loc[uds.Distancia < 10].sort_values(by=\"Distancia\",ascending=True).copy()"
   ],
   "outputs": [
    {
     "output_type": "execute_result",
     "data": {
      "text/html": [
       "<div>\n",
       "<style scoped>\n",
       "    .dataframe tbody tr th:only-of-type {\n",
       "        vertical-align: middle;\n",
       "    }\n",
       "\n",
       "    .dataframe tbody tr th {\n",
       "        vertical-align: top;\n",
       "    }\n",
       "\n",
       "    .dataframe thead th {\n",
       "        text-align: right;\n",
       "    }\n",
       "</style>\n",
       "<table border=\"1\" class=\"dataframe\">\n",
       "  <thead>\n",
       "    <tr style=\"text-align: right;\">\n",
       "      <th></th>\n",
       "      <th>index</th>\n",
       "      <th>idbeneficiario</th>\n",
       "      <th>CodigoDepartamentoResidenciaBeneficiario</th>\n",
       "      <th>DepartamentoResidenciaBeneficiario</th>\n",
       "      <th>CodigoMunicipioResidenciaBeneficiario</th>\n",
       "      <th>MunicipioResidenciaBeneficiario</th>\n",
       "      <th>ZonaUbicacionBeneficiario</th>\n",
       "      <th>CodigoUnidadServicio</th>\n",
       "      <th>UnidadServicio</th>\n",
       "      <th>NombreServicio</th>\n",
       "      <th>LATITUD</th>\n",
       "      <th>LONGITUD</th>\n",
       "      <th>LATITUD_NNA_2</th>\n",
       "      <th>LONGITUD_NNA_2</th>\n",
       "      <th>Distancia_mts</th>\n",
       "      <th>pctile</th>\n",
       "      <th>Coord_NNA_en_Mpio</th>\n",
       "    </tr>\n",
       "  </thead>\n",
       "  <tbody>\n",
       "    <tr>\n",
       "      <th>0</th>\n",
       "      <td>908710</td>\n",
       "      <td>20928088</td>\n",
       "      <td>11.0</td>\n",
       "      <td>Bogota D.C.</td>\n",
       "      <td>11001</td>\n",
       "      <td>Bogota, D.C.</td>\n",
       "      <td>CABECERA</td>\n",
       "      <td>110011120955</td>\n",
       "      <td>LOS NIÑOS DEL FUTURO</td>\n",
       "      <td>HCB - COMUNITARIO</td>\n",
       "      <td>4.501944</td>\n",
       "      <td>-74.110278</td>\n",
       "      <td>4.183838</td>\n",
       "      <td>-74.21469</td>\n",
       "      <td>37194.707967</td>\n",
       "      <td>95.0</td>\n",
       "      <td>Si</td>\n",
       "    </tr>\n",
       "  </tbody>\n",
       "</table>\n",
       "</div>"
      ],
      "text/plain": [
       "    index  idbeneficiario  CodigoDepartamentoResidenciaBeneficiario  \\\n",
       "0  908710        20928088                                      11.0   \n",
       "\n",
       "  DepartamentoResidenciaBeneficiario CodigoMunicipioResidenciaBeneficiario  \\\n",
       "0                        Bogota D.C.                                 11001   \n",
       "\n",
       "  MunicipioResidenciaBeneficiario ZonaUbicacionBeneficiario  \\\n",
       "0                    Bogota, D.C.                  CABECERA   \n",
       "\n",
       "   CodigoUnidadServicio         UnidadServicio     NombreServicio   LATITUD  \\\n",
       "0          110011120955  LOS NIÑOS DEL FUTURO   HCB - COMUNITARIO  4.501944   \n",
       "\n",
       "    LONGITUD  LATITUD_NNA_2  LONGITUD_NNA_2  Distancia_mts  pctile  \\\n",
       "0 -74.110278       4.183838       -74.21469   37194.707967    95.0   \n",
       "\n",
       "  Coord_NNA_en_Mpio  \n",
       "0                Si  "
      ]
     },
     "metadata": {},
     "execution_count": 58
    }
   ],
   "metadata": {}
  },
  {
   "cell_type": "code",
   "execution_count": 91,
   "source": [
    "import folium\n",
    "\n",
    "\n",
    "m = folium.Map(location=[caso_95pctile[\"LATITUD_NNA_2\"],caso_95pctile[\"LONGITUD_NNA_2\"]], zoom_start=9, tiles='CartoDB positron') \n",
    "folium.Marker(location=[caso_95pctile[\"LATITUD_NNA_2\"],caso_95pctile[\"LONGITUD_NNA_2\"]], popup='Beneficiario ID: {}'.format(caso_95pctile['idbeneficiario'][0]), draggable=False, icon=folium.Icon(color='red')).add_to(m)\n",
    "folium.Marker(location=[caso_95pctile[\"LATITUD\"],caso_95pctile[\"LONGITUD\"]], popup='Código Unidad Servicio Actual: {}, Unidad Servicio Actual: {}'.format(caso_95pctile['CodigoUnidadServicio'][0], caso_95pctile['UnidadServicio'][0]), draggable=False, icon=folium.Icon(color='green')).add_to(m)\n",
    "points = [[caso_95pctile[\"LATITUD_NNA_2\"][0],caso_95pctile[\"LONGITUD_NNA_2\"][0]],[caso_95pctile[\"LATITUD\"][0], caso_95pctile[\"LONGITUD\"][0]]]\n",
    "folium.PolyLine(points, color='red').add_to(m)\n",
    "\n",
    "for _, r in uds_caso_95pctile.iterrows():\n",
    "    folium.Marker(location=[r[\"LATITUD\"], r[\"LONGITUD\"]], popup='Código UDS: {} <br> UDS: {}'.format(r['CodigoUnid'], r['UnidadServ']), draggable=False).add_to(m)\n",
    "\n",
    "m"
   ],
   "outputs": [
    {
     "output_type": "execute_result",
     "data": {
      "text/html": [
       "<div style=\"width:100%;\"><div style=\"position:relative;width:100%;height:0;padding-bottom:60%;\"><span style=\"color:#565656\">Make this Notebook Trusted to load map: File -> Trust Notebook</span><iframe src=\"about:blank\" style=\"position:absolute;width:100%;height:100%;left:0;top:0;border:none !important;\" data-html=%3C%21DOCTYPE%20html%3E%0A%3Chead%3E%20%20%20%20%0A%20%20%20%20%3Cmeta%20http-equiv%3D%22content-type%22%20content%3D%22text/html%3B%20charset%3DUTF-8%22%20/%3E%0A%20%20%20%20%0A%20%20%20%20%20%20%20%20%3Cscript%3E%0A%20%20%20%20%20%20%20%20%20%20%20%20L_NO_TOUCH%20%3D%20false%3B%0A%20%20%20%20%20%20%20%20%20%20%20%20L_DISABLE_3D%20%3D%20false%3B%0A%20%20%20%20%20%20%20%20%3C/script%3E%0A%20%20%20%20%0A%20%20%20%20%3Cstyle%3Ehtml%2C%20body%20%7Bwidth%3A%20100%25%3Bheight%3A%20100%25%3Bmargin%3A%200%3Bpadding%3A%200%3B%7D%3C/style%3E%0A%20%20%20%20%3Cstyle%3E%23map%20%7Bposition%3Aabsolute%3Btop%3A0%3Bbottom%3A0%3Bright%3A0%3Bleft%3A0%3B%7D%3C/style%3E%0A%20%20%20%20%3Cscript%20src%3D%22https%3A//cdn.jsdelivr.net/npm/leaflet%401.6.0/dist/leaflet.js%22%3E%3C/script%3E%0A%20%20%20%20%3Cscript%20src%3D%22https%3A//code.jquery.com/jquery-1.12.4.min.js%22%3E%3C/script%3E%0A%20%20%20%20%3Cscript%20src%3D%22https%3A//maxcdn.bootstrapcdn.com/bootstrap/3.2.0/js/bootstrap.min.js%22%3E%3C/script%3E%0A%20%20%20%20%3Cscript%20src%3D%22https%3A//cdnjs.cloudflare.com/ajax/libs/Leaflet.awesome-markers/2.0.2/leaflet.awesome-markers.js%22%3E%3C/script%3E%0A%20%20%20%20%3Clink%20rel%3D%22stylesheet%22%20href%3D%22https%3A//cdn.jsdelivr.net/npm/leaflet%401.6.0/dist/leaflet.css%22/%3E%0A%20%20%20%20%3Clink%20rel%3D%22stylesheet%22%20href%3D%22https%3A//maxcdn.bootstrapcdn.com/bootstrap/3.2.0/css/bootstrap.min.css%22/%3E%0A%20%20%20%20%3Clink%20rel%3D%22stylesheet%22%20href%3D%22https%3A//maxcdn.bootstrapcdn.com/bootstrap/3.2.0/css/bootstrap-theme.min.css%22/%3E%0A%20%20%20%20%3Clink%20rel%3D%22stylesheet%22%20href%3D%22https%3A//maxcdn.bootstrapcdn.com/font-awesome/4.6.3/css/font-awesome.min.css%22/%3E%0A%20%20%20%20%3Clink%20rel%3D%22stylesheet%22%20href%3D%22https%3A//cdnjs.cloudflare.com/ajax/libs/Leaflet.awesome-markers/2.0.2/leaflet.awesome-markers.css%22/%3E%0A%20%20%20%20%3Clink%20rel%3D%22stylesheet%22%20href%3D%22https%3A//cdn.jsdelivr.net/gh/python-visualization/folium/folium/templates/leaflet.awesome.rotate.min.css%22/%3E%0A%20%20%20%20%0A%20%20%20%20%20%20%20%20%20%20%20%20%3Cmeta%20name%3D%22viewport%22%20content%3D%22width%3Ddevice-width%2C%0A%20%20%20%20%20%20%20%20%20%20%20%20%20%20%20%20initial-scale%3D1.0%2C%20maximum-scale%3D1.0%2C%20user-scalable%3Dno%22%20/%3E%0A%20%20%20%20%20%20%20%20%20%20%20%20%3Cstyle%3E%0A%20%20%20%20%20%20%20%20%20%20%20%20%20%20%20%20%23map_cc15a9da143f4f8c83ae2a3c39e93004%20%7B%0A%20%20%20%20%20%20%20%20%20%20%20%20%20%20%20%20%20%20%20%20position%3A%20relative%3B%0A%20%20%20%20%20%20%20%20%20%20%20%20%20%20%20%20%20%20%20%20width%3A%20100.0%25%3B%0A%20%20%20%20%20%20%20%20%20%20%20%20%20%20%20%20%20%20%20%20height%3A%20100.0%25%3B%0A%20%20%20%20%20%20%20%20%20%20%20%20%20%20%20%20%20%20%20%20left%3A%200.0%25%3B%0A%20%20%20%20%20%20%20%20%20%20%20%20%20%20%20%20%20%20%20%20top%3A%200.0%25%3B%0A%20%20%20%20%20%20%20%20%20%20%20%20%20%20%20%20%7D%0A%20%20%20%20%20%20%20%20%20%20%20%20%3C/style%3E%0A%20%20%20%20%20%20%20%20%0A%3C/head%3E%0A%3Cbody%3E%20%20%20%20%0A%20%20%20%20%0A%20%20%20%20%20%20%20%20%20%20%20%20%3Cdiv%20class%3D%22folium-map%22%20id%3D%22map_cc15a9da143f4f8c83ae2a3c39e93004%22%20%3E%3C/div%3E%0A%20%20%20%20%20%20%20%20%0A%3C/body%3E%0A%3Cscript%3E%20%20%20%20%0A%20%20%20%20%0A%20%20%20%20%20%20%20%20%20%20%20%20var%20map_cc15a9da143f4f8c83ae2a3c39e93004%20%3D%20L.map%28%0A%20%20%20%20%20%20%20%20%20%20%20%20%20%20%20%20%22map_cc15a9da143f4f8c83ae2a3c39e93004%22%2C%0A%20%20%20%20%20%20%20%20%20%20%20%20%20%20%20%20%7B%0A%20%20%20%20%20%20%20%20%20%20%20%20%20%20%20%20%20%20%20%20center%3A%20%5B4.18383837%2C%20-74.21469033%5D%2C%0A%20%20%20%20%20%20%20%20%20%20%20%20%20%20%20%20%20%20%20%20crs%3A%20L.CRS.EPSG3857%2C%0A%20%20%20%20%20%20%20%20%20%20%20%20%20%20%20%20%20%20%20%20zoom%3A%209%2C%0A%20%20%20%20%20%20%20%20%20%20%20%20%20%20%20%20%20%20%20%20zoomControl%3A%20true%2C%0A%20%20%20%20%20%20%20%20%20%20%20%20%20%20%20%20%20%20%20%20preferCanvas%3A%20false%2C%0A%20%20%20%20%20%20%20%20%20%20%20%20%20%20%20%20%7D%0A%20%20%20%20%20%20%20%20%20%20%20%20%29%3B%0A%0A%20%20%20%20%20%20%20%20%20%20%20%20%0A%0A%20%20%20%20%20%20%20%20%0A%20%20%20%20%0A%20%20%20%20%20%20%20%20%20%20%20%20var%20tile_layer_194b5beb20cd4c85acb53932111225a1%20%3D%20L.tileLayer%28%0A%20%20%20%20%20%20%20%20%20%20%20%20%20%20%20%20%22https%3A//cartodb-basemaps-%7Bs%7D.global.ssl.fastly.net/light_all/%7Bz%7D/%7Bx%7D/%7By%7D.png%22%2C%0A%20%20%20%20%20%20%20%20%20%20%20%20%20%20%20%20%7B%22attribution%22%3A%20%22%5Cu0026copy%3B%20%5Cu003ca%20href%3D%5C%22http%3A//www.openstreetmap.org/copyright%5C%22%5Cu003eOpenStreetMap%5Cu003c/a%5Cu003e%20contributors%20%5Cu0026copy%3B%20%5Cu003ca%20href%3D%5C%22http%3A//cartodb.com/attributions%5C%22%5Cu003eCartoDB%5Cu003c/a%5Cu003e%2C%20CartoDB%20%5Cu003ca%20href%20%3D%5C%22http%3A//cartodb.com/attributions%5C%22%5Cu003eattributions%5Cu003c/a%5Cu003e%22%2C%20%22detectRetina%22%3A%20false%2C%20%22maxNativeZoom%22%3A%2018%2C%20%22maxZoom%22%3A%2018%2C%20%22minZoom%22%3A%200%2C%20%22noWrap%22%3A%20false%2C%20%22opacity%22%3A%201%2C%20%22subdomains%22%3A%20%22abc%22%2C%20%22tms%22%3A%20false%7D%0A%20%20%20%20%20%20%20%20%20%20%20%20%29.addTo%28map_cc15a9da143f4f8c83ae2a3c39e93004%29%3B%0A%20%20%20%20%20%20%20%20%0A%20%20%20%20%0A%20%20%20%20%20%20%20%20%20%20%20%20var%20marker_fef37b656fe945ce8c1447a6885fa834%20%3D%20L.marker%28%0A%20%20%20%20%20%20%20%20%20%20%20%20%20%20%20%20%5B4.18383837%2C%20-74.21469033%5D%2C%0A%20%20%20%20%20%20%20%20%20%20%20%20%20%20%20%20%7B%7D%0A%20%20%20%20%20%20%20%20%20%20%20%20%29.addTo%28map_cc15a9da143f4f8c83ae2a3c39e93004%29%3B%0A%20%20%20%20%20%20%20%20%0A%20%20%20%20%0A%20%20%20%20%20%20%20%20%20%20%20%20var%20icon_86a77191a2c44712b1fed7e1ca81b436%20%3D%20L.AwesomeMarkers.icon%28%0A%20%20%20%20%20%20%20%20%20%20%20%20%20%20%20%20%7B%22extraClasses%22%3A%20%22fa-rotate-0%22%2C%20%22icon%22%3A%20%22info-sign%22%2C%20%22iconColor%22%3A%20%22white%22%2C%20%22markerColor%22%3A%20%22red%22%2C%20%22prefix%22%3A%20%22glyphicon%22%7D%0A%20%20%20%20%20%20%20%20%20%20%20%20%29%3B%0A%20%20%20%20%20%20%20%20%20%20%20%20marker_fef37b656fe945ce8c1447a6885fa834.setIcon%28icon_86a77191a2c44712b1fed7e1ca81b436%29%3B%0A%20%20%20%20%20%20%20%20%0A%20%20%20%20%0A%20%20%20%20%20%20%20%20var%20popup_f3f700b774a74b40b6128236461dd10a%20%3D%20L.popup%28%7B%22maxWidth%22%3A%20%22100%25%22%7D%29%3B%0A%0A%20%20%20%20%20%20%20%20%0A%20%20%20%20%20%20%20%20%20%20%20%20var%20html_c81ac61a757a407c9e7e41024d5f9c7c%20%3D%20%24%28%60%3Cdiv%20id%3D%22html_c81ac61a757a407c9e7e41024d5f9c7c%22%20style%3D%22width%3A%20100.0%25%3B%20height%3A%20100.0%25%3B%22%3EBeneficiario%20ID%3A%2020928088%3C/div%3E%60%29%5B0%5D%3B%0A%20%20%20%20%20%20%20%20%20%20%20%20popup_f3f700b774a74b40b6128236461dd10a.setContent%28html_c81ac61a757a407c9e7e41024d5f9c7c%29%3B%0A%20%20%20%20%20%20%20%20%0A%0A%20%20%20%20%20%20%20%20marker_fef37b656fe945ce8c1447a6885fa834.bindPopup%28popup_f3f700b774a74b40b6128236461dd10a%29%0A%20%20%20%20%20%20%20%20%3B%0A%0A%20%20%20%20%20%20%20%20%0A%20%20%20%20%0A%20%20%20%20%0A%20%20%20%20%20%20%20%20%20%20%20%20var%20marker_a43a7b67e5634513942050f70433aec5%20%3D%20L.marker%28%0A%20%20%20%20%20%20%20%20%20%20%20%20%20%20%20%20%5B4.50194444444%2C%20-74.1102777778%5D%2C%0A%20%20%20%20%20%20%20%20%20%20%20%20%20%20%20%20%7B%7D%0A%20%20%20%20%20%20%20%20%20%20%20%20%29.addTo%28map_cc15a9da143f4f8c83ae2a3c39e93004%29%3B%0A%20%20%20%20%20%20%20%20%0A%20%20%20%20%0A%20%20%20%20%20%20%20%20%20%20%20%20var%20icon_a4e104b946ef464680eb1c3ce0357236%20%3D%20L.AwesomeMarkers.icon%28%0A%20%20%20%20%20%20%20%20%20%20%20%20%20%20%20%20%7B%22extraClasses%22%3A%20%22fa-rotate-0%22%2C%20%22icon%22%3A%20%22info-sign%22%2C%20%22iconColor%22%3A%20%22white%22%2C%20%22markerColor%22%3A%20%22green%22%2C%20%22prefix%22%3A%20%22glyphicon%22%7D%0A%20%20%20%20%20%20%20%20%20%20%20%20%29%3B%0A%20%20%20%20%20%20%20%20%20%20%20%20marker_a43a7b67e5634513942050f70433aec5.setIcon%28icon_a4e104b946ef464680eb1c3ce0357236%29%3B%0A%20%20%20%20%20%20%20%20%0A%20%20%20%20%0A%20%20%20%20%20%20%20%20var%20popup_f98851a41bc843e3a2d1107a582994a2%20%3D%20L.popup%28%7B%22maxWidth%22%3A%20%22100%25%22%7D%29%3B%0A%0A%20%20%20%20%20%20%20%20%0A%20%20%20%20%20%20%20%20%20%20%20%20var%20html_41187eb768f841518fee18ebeecb192f%20%3D%20%24%28%60%3Cdiv%20id%3D%22html_41187eb768f841518fee18ebeecb192f%22%20style%3D%22width%3A%20100.0%25%3B%20height%3A%20100.0%25%3B%22%3EC%C3%B3digo%20Unidad%20Servicio%20Actual%3A%20110011120955%2C%20Unidad%20Servicio%20Actual%3A%20LOS%20NI%C3%91OS%20DEL%20FUTURO%20%3C/div%3E%60%29%5B0%5D%3B%0A%20%20%20%20%20%20%20%20%20%20%20%20popup_f98851a41bc843e3a2d1107a582994a2.setContent%28html_41187eb768f841518fee18ebeecb192f%29%3B%0A%20%20%20%20%20%20%20%20%0A%0A%20%20%20%20%20%20%20%20marker_a43a7b67e5634513942050f70433aec5.bindPopup%28popup_f98851a41bc843e3a2d1107a582994a2%29%0A%20%20%20%20%20%20%20%20%3B%0A%0A%20%20%20%20%20%20%20%20%0A%20%20%20%20%0A%20%20%20%20%0A%20%20%20%20%20%20%20%20%20%20%20%20var%20poly_line_9e2148488f9742f998f86037e9413a18%20%3D%20L.polyline%28%0A%20%20%20%20%20%20%20%20%20%20%20%20%20%20%20%20%5B%5B4.18383837%2C%20-74.21469033%5D%2C%20%5B4.50194444444%2C%20-74.1102777778%5D%5D%2C%0A%20%20%20%20%20%20%20%20%20%20%20%20%20%20%20%20%7B%22bubblingMouseEvents%22%3A%20true%2C%20%22color%22%3A%20%22red%22%2C%20%22dashArray%22%3A%20null%2C%20%22dashOffset%22%3A%20null%2C%20%22fill%22%3A%20false%2C%20%22fillColor%22%3A%20%22red%22%2C%20%22fillOpacity%22%3A%200.2%2C%20%22fillRule%22%3A%20%22evenodd%22%2C%20%22lineCap%22%3A%20%22round%22%2C%20%22lineJoin%22%3A%20%22round%22%2C%20%22noClip%22%3A%20false%2C%20%22opacity%22%3A%201.0%2C%20%22smoothFactor%22%3A%201.0%2C%20%22stroke%22%3A%20true%2C%20%22weight%22%3A%203%7D%0A%20%20%20%20%20%20%20%20%20%20%20%20%29.addTo%28map_cc15a9da143f4f8c83ae2a3c39e93004%29%3B%0A%20%20%20%20%20%20%20%20%0A%20%20%20%20%0A%20%20%20%20%20%20%20%20%20%20%20%20var%20marker_19b8cd8c5ccc4d7ea3074a5f31ef5473%20%3D%20L.marker%28%0A%20%20%20%20%20%20%20%20%20%20%20%20%20%20%20%20%5B4.16777777778%2C%20-74.1677777778%5D%2C%0A%20%20%20%20%20%20%20%20%20%20%20%20%20%20%20%20%7B%7D%0A%20%20%20%20%20%20%20%20%20%20%20%20%29.addTo%28map_cc15a9da143f4f8c83ae2a3c39e93004%29%3B%0A%20%20%20%20%20%20%20%20%0A%20%20%20%20%0A%20%20%20%20%20%20%20%20var%20popup_e66e1384610d449ea98c1f10cc8fcbd3%20%3D%20L.popup%28%7B%22maxWidth%22%3A%20%22100%25%22%7D%29%3B%0A%0A%20%20%20%20%20%20%20%20%0A%20%20%20%20%20%20%20%20%20%20%20%20var%20html_b6e1fa8b82d74db58e3204abff7af27b%20%3D%20%24%28%60%3Cdiv%20id%3D%22html_b6e1fa8b82d74db58e3204abff7af27b%22%20style%3D%22width%3A%20100.0%25%3B%20height%3A%20100.0%25%3B%22%3EC%C3%B3digo%20UDS%3A%201100100015305%20%3Cbr%3E%20UDS%3A%20MUNDO%20CURIOSO%202%3C/div%3E%60%29%5B0%5D%3B%0A%20%20%20%20%20%20%20%20%20%20%20%20popup_e66e1384610d449ea98c1f10cc8fcbd3.setContent%28html_b6e1fa8b82d74db58e3204abff7af27b%29%3B%0A%20%20%20%20%20%20%20%20%0A%0A%20%20%20%20%20%20%20%20marker_19b8cd8c5ccc4d7ea3074a5f31ef5473.bindPopup%28popup_e66e1384610d449ea98c1f10cc8fcbd3%29%0A%20%20%20%20%20%20%20%20%3B%0A%0A%20%20%20%20%20%20%20%20%0A%20%20%20%20%0A%20%20%20%20%0A%20%20%20%20%20%20%20%20%20%20%20%20var%20marker_79a9537937214fe2ab4c99a887e97eda%20%3D%20L.marker%28%0A%20%20%20%20%20%20%20%20%20%20%20%20%20%20%20%20%5B4.12138888889%2C%20-74.2047222222%5D%2C%0A%20%20%20%20%20%20%20%20%20%20%20%20%20%20%20%20%7B%7D%0A%20%20%20%20%20%20%20%20%20%20%20%20%29.addTo%28map_cc15a9da143f4f8c83ae2a3c39e93004%29%3B%0A%20%20%20%20%20%20%20%20%0A%20%20%20%20%0A%20%20%20%20%20%20%20%20var%20popup_5855eab19546488ca12d4d628861370a%20%3D%20L.popup%28%7B%22maxWidth%22%3A%20%22100%25%22%7D%29%3B%0A%0A%20%20%20%20%20%20%20%20%0A%20%20%20%20%20%20%20%20%20%20%20%20var%20html_1179f7893a8c4a5ab0c172296d7cb0c8%20%3D%20%24%28%60%3Cdiv%20id%3D%22html_1179f7893a8c4a5ab0c172296d7cb0c8%22%20style%3D%22width%3A%20100.0%25%3B%20height%3A%20100.0%25%3B%22%3EC%C3%B3digo%20UDS%3A%20110011113962%20%3Cbr%3E%20UDS%3A%20LOS%20POLLUELOS%3C/div%3E%60%29%5B0%5D%3B%0A%20%20%20%20%20%20%20%20%20%20%20%20popup_5855eab19546488ca12d4d628861370a.setContent%28html_1179f7893a8c4a5ab0c172296d7cb0c8%29%3B%0A%20%20%20%20%20%20%20%20%0A%0A%20%20%20%20%20%20%20%20marker_79a9537937214fe2ab4c99a887e97eda.bindPopup%28popup_5855eab19546488ca12d4d628861370a%29%0A%20%20%20%20%20%20%20%20%3B%0A%0A%20%20%20%20%20%20%20%20%0A%20%20%20%20%0A%20%20%20%20%0A%20%20%20%20%20%20%20%20%20%20%20%20var%20marker_4fb49f65a1ec48e585f3ae610a5581e4%20%3D%20L.marker%28%0A%20%20%20%20%20%20%20%20%20%20%20%20%20%20%20%20%5B4.12027777778%2C%20-74.2436111111%5D%2C%0A%20%20%20%20%20%20%20%20%20%20%20%20%20%20%20%20%7B%7D%0A%20%20%20%20%20%20%20%20%20%20%20%20%29.addTo%28map_cc15a9da143f4f8c83ae2a3c39e93004%29%3B%0A%20%20%20%20%20%20%20%20%0A%20%20%20%20%0A%20%20%20%20%20%20%20%20var%20popup_865af4fc5ce947b08901970b4c1c0a08%20%3D%20L.popup%28%7B%22maxWidth%22%3A%20%22100%25%22%7D%29%3B%0A%0A%20%20%20%20%20%20%20%20%0A%20%20%20%20%20%20%20%20%20%20%20%20var%20html_da0a35e93623480590e41d52f4a15701%20%3D%20%24%28%60%3Cdiv%20id%3D%22html_da0a35e93623480590e41d52f4a15701%22%20style%3D%22width%3A%20100.0%25%3B%20height%3A%20100.0%25%3B%22%3EC%C3%B3digo%20UDS%3A%20110011144025%20%3Cbr%3E%20UDS%3A%20EL%20ARTE%20DE%20APRENDER%3C/div%3E%60%29%5B0%5D%3B%0A%20%20%20%20%20%20%20%20%20%20%20%20popup_865af4fc5ce947b08901970b4c1c0a08.setContent%28html_da0a35e93623480590e41d52f4a15701%29%3B%0A%20%20%20%20%20%20%20%20%0A%0A%20%20%20%20%20%20%20%20marker_4fb49f65a1ec48e585f3ae610a5581e4.bindPopup%28popup_865af4fc5ce947b08901970b4c1c0a08%29%0A%20%20%20%20%20%20%20%20%3B%0A%0A%20%20%20%20%20%20%20%20%0A%20%20%20%20%0A%20%20%20%20%0A%20%20%20%20%20%20%20%20%20%20%20%20var%20marker_10f0bdb39538457db04b6e45f5e753d6%20%3D%20L.marker%28%0A%20%20%20%20%20%20%20%20%20%20%20%20%20%20%20%20%5B4.11105555556%2C%20-74.2190166667%5D%2C%0A%20%20%20%20%20%20%20%20%20%20%20%20%20%20%20%20%7B%7D%0A%20%20%20%20%20%20%20%20%20%20%20%20%29.addTo%28map_cc15a9da143f4f8c83ae2a3c39e93004%29%3B%0A%20%20%20%20%20%20%20%20%0A%20%20%20%20%0A%20%20%20%20%20%20%20%20var%20popup_bc4965d2eb2e4f54a5382a0567cb0833%20%3D%20L.popup%28%7B%22maxWidth%22%3A%20%22100%25%22%7D%29%3B%0A%0A%20%20%20%20%20%20%20%20%0A%20%20%20%20%20%20%20%20%20%20%20%20var%20html_eb379869b4a6457385bea9d9d00ab6a3%20%3D%20%24%28%60%3Cdiv%20id%3D%22html_eb379869b4a6457385bea9d9d00ab6a3%22%20style%3D%22width%3A%20100.0%25%3B%20height%3A%20100.0%25%3B%22%3EC%C3%B3digo%20UDS%3A%201100100135276%20%3Cbr%3E%20UDS%3A%20MI%20BELLO%20FUTURO%3C/div%3E%60%29%5B0%5D%3B%0A%20%20%20%20%20%20%20%20%20%20%20%20popup_bc4965d2eb2e4f54a5382a0567cb0833.setContent%28html_eb379869b4a6457385bea9d9d00ab6a3%29%3B%0A%20%20%20%20%20%20%20%20%0A%0A%20%20%20%20%20%20%20%20marker_10f0bdb39538457db04b6e45f5e753d6.bindPopup%28popup_bc4965d2eb2e4f54a5382a0567cb0833%29%0A%20%20%20%20%20%20%20%20%3B%0A%0A%20%20%20%20%20%20%20%20%0A%20%20%20%20%0A%20%20%20%20%0A%20%20%20%20%20%20%20%20%20%20%20%20var%20marker_bbed39217c314b9daf460e6fa30cd628%20%3D%20L.marker%28%0A%20%20%20%20%20%20%20%20%20%20%20%20%20%20%20%20%5B4.25%2C%20-74.1833277778%5D%2C%0A%20%20%20%20%20%20%20%20%20%20%20%20%20%20%20%20%7B%7D%0A%20%20%20%20%20%20%20%20%20%20%20%20%29.addTo%28map_cc15a9da143f4f8c83ae2a3c39e93004%29%3B%0A%20%20%20%20%20%20%20%20%0A%20%20%20%20%0A%20%20%20%20%20%20%20%20var%20popup_984a8728554341a1958f36281971e8a8%20%3D%20L.popup%28%7B%22maxWidth%22%3A%20%22100%25%22%7D%29%3B%0A%0A%20%20%20%20%20%20%20%20%0A%20%20%20%20%20%20%20%20%20%20%20%20var%20html_f3ef092613fb4b06ae2aa9cad75783db%20%3D%20%24%28%60%3Cdiv%20id%3D%22html_f3ef092613fb4b06ae2aa9cad75783db%22%20style%3D%22width%3A%20100.0%25%3B%20height%3A%20100.0%25%3B%22%3EC%C3%B3digo%20UDS%3A%20110011113706%20%3Cbr%3E%20UDS%3A%20OSITO%20YOGUI.%3C/div%3E%60%29%5B0%5D%3B%0A%20%20%20%20%20%20%20%20%20%20%20%20popup_984a8728554341a1958f36281971e8a8.setContent%28html_f3ef092613fb4b06ae2aa9cad75783db%29%3B%0A%20%20%20%20%20%20%20%20%0A%0A%20%20%20%20%20%20%20%20marker_bbed39217c314b9daf460e6fa30cd628.bindPopup%28popup_984a8728554341a1958f36281971e8a8%29%0A%20%20%20%20%20%20%20%20%3B%0A%0A%20%20%20%20%20%20%20%20%0A%20%20%20%20%0A%20%20%20%20%0A%20%20%20%20%20%20%20%20%20%20%20%20var%20marker_e9e79841ae4a46f2a940fde59ff31c96%20%3D%20L.marker%28%0A%20%20%20%20%20%20%20%20%20%20%20%20%20%20%20%20%5B4.1106%2C%20-74.2367416667%5D%2C%0A%20%20%20%20%20%20%20%20%20%20%20%20%20%20%20%20%7B%7D%0A%20%20%20%20%20%20%20%20%20%20%20%20%29.addTo%28map_cc15a9da143f4f8c83ae2a3c39e93004%29%3B%0A%20%20%20%20%20%20%20%20%0A%20%20%20%20%0A%20%20%20%20%20%20%20%20var%20popup_1f3ba8cd57c640528bec98c20c0c5b0a%20%3D%20L.popup%28%7B%22maxWidth%22%3A%20%22100%25%22%7D%29%3B%0A%0A%20%20%20%20%20%20%20%20%0A%20%20%20%20%20%20%20%20%20%20%20%20var%20html_efefcedc59a44de48e72a1d67b014cb5%20%3D%20%24%28%60%3Cdiv%20id%3D%22html_efefcedc59a44de48e72a1d67b014cb5%22%20style%3D%22width%3A%20100.0%25%3B%20height%3A%20100.0%25%3B%22%3EC%C3%B3digo%20UDS%3A%201100100135268%20%3Cbr%3E%20UDS%3A%20MIS%20QUERIDOS%20CHIQUILLOS%3C/div%3E%60%29%5B0%5D%3B%0A%20%20%20%20%20%20%20%20%20%20%20%20popup_1f3ba8cd57c640528bec98c20c0c5b0a.setContent%28html_efefcedc59a44de48e72a1d67b014cb5%29%3B%0A%20%20%20%20%20%20%20%20%0A%0A%20%20%20%20%20%20%20%20marker_e9e79841ae4a46f2a940fde59ff31c96.bindPopup%28popup_1f3ba8cd57c640528bec98c20c0c5b0a%29%0A%20%20%20%20%20%20%20%20%3B%0A%0A%20%20%20%20%20%20%20%20%0A%20%20%20%20%0A%20%20%20%20%0A%20%20%20%20%20%20%20%20%20%20%20%20var%20marker_4a999f2d6b2f4b4eb0130e72cd762743%20%3D%20L.marker%28%0A%20%20%20%20%20%20%20%20%20%20%20%20%20%20%20%20%5B4.1075%2C%20-74.2208333333%5D%2C%0A%20%20%20%20%20%20%20%20%20%20%20%20%20%20%20%20%7B%7D%0A%20%20%20%20%20%20%20%20%20%20%20%20%29.addTo%28map_cc15a9da143f4f8c83ae2a3c39e93004%29%3B%0A%20%20%20%20%20%20%20%20%0A%20%20%20%20%0A%20%20%20%20%20%20%20%20var%20popup_15c3e427418b4c45b66a22b0b199715e%20%3D%20L.popup%28%7B%22maxWidth%22%3A%20%22100%25%22%7D%29%3B%0A%0A%20%20%20%20%20%20%20%20%0A%20%20%20%20%20%20%20%20%20%20%20%20var%20html_3dfa27fcbe79433ba8f8a44162e43df5%20%3D%20%24%28%60%3Cdiv%20id%3D%22html_3dfa27fcbe79433ba8f8a44162e43df5%22%20style%3D%22width%3A%20100.0%25%3B%20height%3A%20100.0%25%3B%22%3EC%C3%B3digo%20UDS%3A%20110011140800%20%3Cbr%3E%20UDS%3A%20HOGAR%20INFANTIL%20GERONA%202017%3C/div%3E%60%29%5B0%5D%3B%0A%20%20%20%20%20%20%20%20%20%20%20%20popup_15c3e427418b4c45b66a22b0b199715e.setContent%28html_3dfa27fcbe79433ba8f8a44162e43df5%29%3B%0A%20%20%20%20%20%20%20%20%0A%0A%20%20%20%20%20%20%20%20marker_4a999f2d6b2f4b4eb0130e72cd762743.bindPopup%28popup_15c3e427418b4c45b66a22b0b199715e%29%0A%20%20%20%20%20%20%20%20%3B%0A%0A%20%20%20%20%20%20%20%20%0A%20%20%20%20%0A%20%20%20%20%0A%20%20%20%20%20%20%20%20%20%20%20%20var%20marker_316c5780d1d749fb8581ac0102f0d7fc%20%3D%20L.marker%28%0A%20%20%20%20%20%20%20%20%20%20%20%20%20%20%20%20%5B4.11707777778%2C%20-74.1759972222%5D%2C%0A%20%20%20%20%20%20%20%20%20%20%20%20%20%20%20%20%7B%7D%0A%20%20%20%20%20%20%20%20%20%20%20%20%29.addTo%28map_cc15a9da143f4f8c83ae2a3c39e93004%29%3B%0A%20%20%20%20%20%20%20%20%0A%20%20%20%20%0A%20%20%20%20%20%20%20%20var%20popup_e7a5316044fe40f7aeb031d299c90943%20%3D%20L.popup%28%7B%22maxWidth%22%3A%20%22100%25%22%7D%29%3B%0A%0A%20%20%20%20%20%20%20%20%0A%20%20%20%20%20%20%20%20%20%20%20%20var%20html_becb8b9c58394031b42f973a02f24b02%20%3D%20%24%28%60%3Cdiv%20id%3D%22html_becb8b9c58394031b42f973a02f24b02%22%20style%3D%22width%3A%20100.0%25%3B%20height%3A%20100.0%25%3B%22%3EC%C3%B3digo%20UDS%3A%201100100124064%20%3Cbr%3E%20UDS%3A%20CDI%20SANTO%20DOMINGO%20SAVIO%20SEDE%20BACHU%C3%89%3C/div%3E%60%29%5B0%5D%3B%0A%20%20%20%20%20%20%20%20%20%20%20%20popup_e7a5316044fe40f7aeb031d299c90943.setContent%28html_becb8b9c58394031b42f973a02f24b02%29%3B%0A%20%20%20%20%20%20%20%20%0A%0A%20%20%20%20%20%20%20%20marker_316c5780d1d749fb8581ac0102f0d7fc.bindPopup%28popup_e7a5316044fe40f7aeb031d299c90943%29%0A%20%20%20%20%20%20%20%20%3B%0A%0A%20%20%20%20%20%20%20%20%0A%20%20%20%20%0A%20%20%20%20%0A%20%20%20%20%20%20%20%20%20%20%20%20var%20marker_15b088ab465b4fb894ecfaf44d86a3ec%20%3D%20L.marker%28%0A%20%20%20%20%20%20%20%20%20%20%20%20%20%20%20%20%5B4.11833333333%2C%20-74.1708333333%5D%2C%0A%20%20%20%20%20%20%20%20%20%20%20%20%20%20%20%20%7B%7D%0A%20%20%20%20%20%20%20%20%20%20%20%20%29.addTo%28map_cc15a9da143f4f8c83ae2a3c39e93004%29%3B%0A%20%20%20%20%20%20%20%20%0A%20%20%20%20%0A%20%20%20%20%20%20%20%20var%20popup_853440e2ef374f288df00ef1e055a1cf%20%3D%20L.popup%28%7B%22maxWidth%22%3A%20%22100%25%22%7D%29%3B%0A%0A%20%20%20%20%20%20%20%20%0A%20%20%20%20%20%20%20%20%20%20%20%20var%20html_42ec974d681a4932b5747d9b50badd41%20%3D%20%24%28%60%3Cdiv%20id%3D%22html_42ec974d681a4932b5747d9b50badd41%22%20style%3D%22width%3A%20100.0%25%3B%20height%3A%20100.0%25%3B%22%3EC%C3%B3digo%20UDS%3A%201100100051188%20%3Cbr%3E%20UDS%3A%20JUGANDO%20APRENDEMOS%3C/div%3E%60%29%5B0%5D%3B%0A%20%20%20%20%20%20%20%20%20%20%20%20popup_853440e2ef374f288df00ef1e055a1cf.setContent%28html_42ec974d681a4932b5747d9b50badd41%29%3B%0A%20%20%20%20%20%20%20%20%0A%0A%20%20%20%20%20%20%20%20marker_15b088ab465b4fb894ecfaf44d86a3ec.bindPopup%28popup_853440e2ef374f288df00ef1e055a1cf%29%0A%20%20%20%20%20%20%20%20%3B%0A%0A%20%20%20%20%20%20%20%20%0A%20%20%20%20%0A%20%20%20%20%0A%20%20%20%20%20%20%20%20%20%20%20%20var%20marker_52d6de444c9a4990a3b2decb946afa12%20%3D%20L.marker%28%0A%20%20%20%20%20%20%20%20%20%20%20%20%20%20%20%20%5B4.11916666667%2C%20-74.1686111111%5D%2C%0A%20%20%20%20%20%20%20%20%20%20%20%20%20%20%20%20%7B%7D%0A%20%20%20%20%20%20%20%20%20%20%20%20%29.addTo%28map_cc15a9da143f4f8c83ae2a3c39e93004%29%3B%0A%20%20%20%20%20%20%20%20%0A%20%20%20%20%0A%20%20%20%20%20%20%20%20var%20popup_1d2646ae369c412abd8a85f7074977fb%20%3D%20L.popup%28%7B%22maxWidth%22%3A%20%22100%25%22%7D%29%3B%0A%0A%20%20%20%20%20%20%20%20%0A%20%20%20%20%20%20%20%20%20%20%20%20var%20html_be9ca1fff1304974941af73538533b61%20%3D%20%24%28%60%3Cdiv%20id%3D%22html_be9ca1fff1304974941af73538533b61%22%20style%3D%22width%3A%20100.0%25%3B%20height%3A%20100.0%25%3B%22%3EC%C3%B3digo%20UDS%3A%201100100055324%20%3Cbr%3E%20UDS%3A%20FORMACI%C3%93N%20PARA%20LA%20VIDA%3C/div%3E%60%29%5B0%5D%3B%0A%20%20%20%20%20%20%20%20%20%20%20%20popup_1d2646ae369c412abd8a85f7074977fb.setContent%28html_be9ca1fff1304974941af73538533b61%29%3B%0A%20%20%20%20%20%20%20%20%0A%0A%20%20%20%20%20%20%20%20marker_52d6de444c9a4990a3b2decb946afa12.bindPopup%28popup_1d2646ae369c412abd8a85f7074977fb%29%0A%20%20%20%20%20%20%20%20%3B%0A%0A%20%20%20%20%20%20%20%20%0A%20%20%20%20%0A%20%20%20%20%0A%20%20%20%20%20%20%20%20%20%20%20%20var%20marker_80d35ef14cd845bcb9efc3b9c14259e3%20%3D%20L.marker%28%0A%20%20%20%20%20%20%20%20%20%20%20%20%20%20%20%20%5B4.118275%2C%20-74.1691194444%5D%2C%0A%20%20%20%20%20%20%20%20%20%20%20%20%20%20%20%20%7B%7D%0A%20%20%20%20%20%20%20%20%20%20%20%20%29.addTo%28map_cc15a9da143f4f8c83ae2a3c39e93004%29%3B%0A%20%20%20%20%20%20%20%20%0A%20%20%20%20%0A%20%20%20%20%20%20%20%20var%20popup_381960e47b8c449f81eada19169543be%20%3D%20L.popup%28%7B%22maxWidth%22%3A%20%22100%25%22%7D%29%3B%0A%0A%20%20%20%20%20%20%20%20%0A%20%20%20%20%20%20%20%20%20%20%20%20var%20html_d3713c4482b040198bdbbdd06c63011f%20%3D%20%24%28%60%3Cdiv%20id%3D%22html_d3713c4482b040198bdbbdd06c63011f%22%20style%3D%22width%3A%20100.0%25%3B%20height%3A%20100.0%25%3B%22%3EC%C3%B3digo%20UDS%3A%20110011121866%20%3Cbr%3E%20UDS%3A%20PINOCHOS%3C/div%3E%60%29%5B0%5D%3B%0A%20%20%20%20%20%20%20%20%20%20%20%20popup_381960e47b8c449f81eada19169543be.setContent%28html_d3713c4482b040198bdbbdd06c63011f%29%3B%0A%20%20%20%20%20%20%20%20%0A%0A%20%20%20%20%20%20%20%20marker_80d35ef14cd845bcb9efc3b9c14259e3.bindPopup%28popup_381960e47b8c449f81eada19169543be%29%0A%20%20%20%20%20%20%20%20%3B%0A%0A%20%20%20%20%20%20%20%20%0A%20%20%20%20%0A%20%20%20%20%0A%20%20%20%20%20%20%20%20%20%20%20%20var%20marker_ab91475c819c44eb9e136dd806011adc%20%3D%20L.marker%28%0A%20%20%20%20%20%20%20%20%20%20%20%20%20%20%20%20%5B4.11861111111%2C%20-74.1686111111%5D%2C%0A%20%20%20%20%20%20%20%20%20%20%20%20%20%20%20%20%7B%7D%0A%20%20%20%20%20%20%20%20%20%20%20%20%29.addTo%28map_cc15a9da143f4f8c83ae2a3c39e93004%29%3B%0A%20%20%20%20%20%20%20%20%0A%20%20%20%20%0A%20%20%20%20%20%20%20%20var%20popup_47a7901621c242b4a3424545e9669860%20%3D%20L.popup%28%7B%22maxWidth%22%3A%20%22100%25%22%7D%29%3B%0A%0A%20%20%20%20%20%20%20%20%0A%20%20%20%20%20%20%20%20%20%20%20%20var%20html_9f3a61cde90246229455f1c82131312e%20%3D%20%24%28%60%3Cdiv%20id%3D%22html_9f3a61cde90246229455f1c82131312e%22%20style%3D%22width%3A%20100.0%25%3B%20height%3A%20100.0%25%3B%22%3EC%C3%B3digo%20UDS%3A%201100100051220%20%3Cbr%3E%20UDS%3A%20SEMILLITAS%20DE%20AMOR%3C/div%3E%60%29%5B0%5D%3B%0A%20%20%20%20%20%20%20%20%20%20%20%20popup_47a7901621c242b4a3424545e9669860.setContent%28html_9f3a61cde90246229455f1c82131312e%29%3B%0A%20%20%20%20%20%20%20%20%0A%0A%20%20%20%20%20%20%20%20marker_ab91475c819c44eb9e136dd806011adc.bindPopup%28popup_47a7901621c242b4a3424545e9669860%29%0A%20%20%20%20%20%20%20%20%3B%0A%0A%20%20%20%20%20%20%20%20%0A%20%20%20%20%0A%20%20%20%20%0A%20%20%20%20%20%20%20%20%20%20%20%20var%20marker_59e258a7908542fe853cca2e795fc6ba%20%3D%20L.marker%28%0A%20%20%20%20%20%20%20%20%20%20%20%20%20%20%20%20%5B4.10358888889%2C%20-74.2193305556%5D%2C%0A%20%20%20%20%20%20%20%20%20%20%20%20%20%20%20%20%7B%7D%0A%20%20%20%20%20%20%20%20%20%20%20%20%29.addTo%28map_cc15a9da143f4f8c83ae2a3c39e93004%29%3B%0A%20%20%20%20%20%20%20%20%0A%20%20%20%20%0A%20%20%20%20%20%20%20%20var%20popup_1caf51adb2934a60884738ae6daea64d%20%3D%20L.popup%28%7B%22maxWidth%22%3A%20%22100%25%22%7D%29%3B%0A%0A%20%20%20%20%20%20%20%20%0A%20%20%20%20%20%20%20%20%20%20%20%20var%20html_6d270dfcbe41409895b185d8b502726d%20%3D%20%24%28%60%3Cdiv%20id%3D%22html_6d270dfcbe41409895b185d8b502726d%22%20style%3D%22width%3A%20100.0%25%3B%20height%3A%20100.0%25%3B%22%3EC%C3%B3digo%20UDS%3A%201100100135299%20%3Cbr%3E%20UDS%3A%20LOS%20BULLCIOSOS%3C/div%3E%60%29%5B0%5D%3B%0A%20%20%20%20%20%20%20%20%20%20%20%20popup_1caf51adb2934a60884738ae6daea64d.setContent%28html_6d270dfcbe41409895b185d8b502726d%29%3B%0A%20%20%20%20%20%20%20%20%0A%0A%20%20%20%20%20%20%20%20marker_59e258a7908542fe853cca2e795fc6ba.bindPopup%28popup_1caf51adb2934a60884738ae6daea64d%29%0A%20%20%20%20%20%20%20%20%3B%0A%0A%20%20%20%20%20%20%20%20%0A%20%20%20%20%0A%20%20%20%20%0A%20%20%20%20%20%20%20%20%20%20%20%20var%20marker_ea854eef09d44130bdb3a7aab4d7bd44%20%3D%20L.marker%28%0A%20%20%20%20%20%20%20%20%20%20%20%20%20%20%20%20%5B4.11916666667%2C%20-74.1652777778%5D%2C%0A%20%20%20%20%20%20%20%20%20%20%20%20%20%20%20%20%7B%7D%0A%20%20%20%20%20%20%20%20%20%20%20%20%29.addTo%28map_cc15a9da143f4f8c83ae2a3c39e93004%29%3B%0A%20%20%20%20%20%20%20%20%0A%20%20%20%20%0A%20%20%20%20%20%20%20%20var%20popup_a292480c37ea4c40ad6401e6e539d0ea%20%3D%20L.popup%28%7B%22maxWidth%22%3A%20%22100%25%22%7D%29%3B%0A%0A%20%20%20%20%20%20%20%20%0A%20%20%20%20%20%20%20%20%20%20%20%20var%20html_799349bbfb194e7d8d0244bb2ba19ede%20%3D%20%24%28%60%3Cdiv%20id%3D%22html_799349bbfb194e7d8d0244bb2ba19ede%22%20style%3D%22width%3A%20100.0%25%3B%20height%3A%20100.0%25%3B%22%3EC%C3%B3digo%20UDS%3A%201100100051172%20%3Cbr%3E%20UDS%3A%20EXPLORANDO%20MI%20MUNDO%3C/div%3E%60%29%5B0%5D%3B%0A%20%20%20%20%20%20%20%20%20%20%20%20popup_a292480c37ea4c40ad6401e6e539d0ea.setContent%28html_799349bbfb194e7d8d0244bb2ba19ede%29%3B%0A%20%20%20%20%20%20%20%20%0A%0A%20%20%20%20%20%20%20%20marker_ea854eef09d44130bdb3a7aab4d7bd44.bindPopup%28popup_a292480c37ea4c40ad6401e6e539d0ea%29%0A%20%20%20%20%20%20%20%20%3B%0A%0A%20%20%20%20%20%20%20%20%0A%20%20%20%20%0A%20%20%20%20%0A%20%20%20%20%20%20%20%20%20%20%20%20var%20marker_c307305fb4354f00a91fca32f6e774b1%20%3D%20L.marker%28%0A%20%20%20%20%20%20%20%20%20%20%20%20%20%20%20%20%5B4.10861111111%2C%20-74.1747222222%5D%2C%0A%20%20%20%20%20%20%20%20%20%20%20%20%20%20%20%20%7B%7D%0A%20%20%20%20%20%20%20%20%20%20%20%20%29.addTo%28map_cc15a9da143f4f8c83ae2a3c39e93004%29%3B%0A%20%20%20%20%20%20%20%20%0A%20%20%20%20%0A%20%20%20%20%20%20%20%20var%20popup_ef38017138234068afda82390c281852%20%3D%20L.popup%28%7B%22maxWidth%22%3A%20%22100%25%22%7D%29%3B%0A%0A%20%20%20%20%20%20%20%20%0A%20%20%20%20%20%20%20%20%20%20%20%20var%20html_7f7933f6fe1247738d06c16d606f0992%20%3D%20%24%28%60%3Cdiv%20id%3D%22html_7f7933f6fe1247738d06c16d606f0992%22%20style%3D%22width%3A%20100.0%25%3B%20height%3A%20100.0%25%3B%22%3EC%C3%B3digo%20UDS%3A%201100100020202%20%3Cbr%3E%20UDS%3A%20NUESTRA%20DULCE%20INFANCIA%3C/div%3E%60%29%5B0%5D%3B%0A%20%20%20%20%20%20%20%20%20%20%20%20popup_ef38017138234068afda82390c281852.setContent%28html_7f7933f6fe1247738d06c16d606f0992%29%3B%0A%20%20%20%20%20%20%20%20%0A%0A%20%20%20%20%20%20%20%20marker_c307305fb4354f00a91fca32f6e774b1.bindPopup%28popup_ef38017138234068afda82390c281852%29%0A%20%20%20%20%20%20%20%20%3B%0A%0A%20%20%20%20%20%20%20%20%0A%20%20%20%20%0A%20%20%20%20%0A%20%20%20%20%20%20%20%20%20%20%20%20var%20marker_b46de65b318b48e0b62dfcce964f6ec2%20%3D%20L.marker%28%0A%20%20%20%20%20%20%20%20%20%20%20%20%20%20%20%20%5B4.10855833333%2C%20-74.1726666667%5D%2C%0A%20%20%20%20%20%20%20%20%20%20%20%20%20%20%20%20%7B%7D%0A%20%20%20%20%20%20%20%20%20%20%20%20%29.addTo%28map_cc15a9da143f4f8c83ae2a3c39e93004%29%3B%0A%20%20%20%20%20%20%20%20%0A%20%20%20%20%0A%20%20%20%20%20%20%20%20var%20popup_fb13a2d24001465cb82af9cc2aed484e%20%3D%20L.popup%28%7B%22maxWidth%22%3A%20%22100%25%22%7D%29%3B%0A%0A%20%20%20%20%20%20%20%20%0A%20%20%20%20%20%20%20%20%20%20%20%20var%20html_f2dc2b8d10a849238d1a4cae8f082c2b%20%3D%20%24%28%60%3Cdiv%20id%3D%22html_f2dc2b8d10a849238d1a4cae8f082c2b%22%20style%3D%22width%3A%20100.0%25%3B%20height%3A%20100.0%25%3B%22%3EC%C3%B3digo%20UDS%3A%201100100012298%20%3Cbr%3E%20UDS%3A%20HOGAR%20INFANTIL%20CARITAS%20FELICES%3C/div%3E%60%29%5B0%5D%3B%0A%20%20%20%20%20%20%20%20%20%20%20%20popup_fb13a2d24001465cb82af9cc2aed484e.setContent%28html_f2dc2b8d10a849238d1a4cae8f082c2b%29%3B%0A%20%20%20%20%20%20%20%20%0A%0A%20%20%20%20%20%20%20%20marker_b46de65b318b48e0b62dfcce964f6ec2.bindPopup%28popup_fb13a2d24001465cb82af9cc2aed484e%29%0A%20%20%20%20%20%20%20%20%3B%0A%0A%20%20%20%20%20%20%20%20%0A%20%20%20%20%0A%20%20%20%20%0A%20%20%20%20%20%20%20%20%20%20%20%20var%20marker_db8db87d8a3841d48aa5de623497b169%20%3D%20L.marker%28%0A%20%20%20%20%20%20%20%20%20%20%20%20%20%20%20%20%5B4.11972222222%2C%20-74.1522222222%5D%2C%0A%20%20%20%20%20%20%20%20%20%20%20%20%20%20%20%20%7B%7D%0A%20%20%20%20%20%20%20%20%20%20%20%20%29.addTo%28map_cc15a9da143f4f8c83ae2a3c39e93004%29%3B%0A%20%20%20%20%20%20%20%20%0A%20%20%20%20%0A%20%20%20%20%20%20%20%20var%20popup_71c869c9395c4d65bf89201d93e5f696%20%3D%20L.popup%28%7B%22maxWidth%22%3A%20%22100%25%22%7D%29%3B%0A%0A%20%20%20%20%20%20%20%20%0A%20%20%20%20%20%20%20%20%20%20%20%20var%20html_f130f1678ff4404ea6302d1d671a9e5f%20%3D%20%24%28%60%3Cdiv%20id%3D%22html_f130f1678ff4404ea6302d1d671a9e5f%22%20style%3D%22width%3A%20100.0%25%3B%20height%3A%20100.0%25%3B%22%3EC%C3%B3digo%20UDS%3A%201100100051047%20%3Cbr%3E%20UDS%3A%20TERNURAS%20INQUIETANTES%3C/div%3E%60%29%5B0%5D%3B%0A%20%20%20%20%20%20%20%20%20%20%20%20popup_71c869c9395c4d65bf89201d93e5f696.setContent%28html_f130f1678ff4404ea6302d1d671a9e5f%29%3B%0A%20%20%20%20%20%20%20%20%0A%0A%20%20%20%20%20%20%20%20marker_db8db87d8a3841d48aa5de623497b169.bindPopup%28popup_71c869c9395c4d65bf89201d93e5f696%29%0A%20%20%20%20%20%20%20%20%3B%0A%0A%20%20%20%20%20%20%20%20%0A%20%20%20%20%0A%3C/script%3E onload=\"this.contentDocument.open();this.contentDocument.write(    decodeURIComponent(this.getAttribute('data-html')));this.contentDocument.close();\" allowfullscreen webkitallowfullscreen mozallowfullscreen></iframe></div></div>"
      ],
      "text/plain": [
       "<folium.folium.Map at 0x7fcf1eb90c10>"
      ]
     },
     "metadata": {},
     "execution_count": 91
    }
   ],
   "metadata": {}
  },
  {
   "cell_type": "code",
   "execution_count": null,
   "source": [],
   "outputs": [],
   "metadata": {}
  }
 ],
 "metadata": {
  "kernelspec": {
   "name": "python3",
   "display_name": "Python 3.9.7 64-bit ('icbf': conda)"
  },
  "language_info": {
   "name": "python",
   "version": "3.9.7",
   "mimetype": "text/x-python",
   "codemirror_mode": {
    "name": "ipython",
    "version": 3
   },
   "pygments_lexer": "ipython3",
   "nbconvert_exporter": "python",
   "file_extension": ".py"
  },
  "interpreter": {
   "hash": "ce1b12123610eca4c5c8ed6346c6d5ed329cc47471d9701292b65e6d4434a256"
  }
 },
 "nbformat": 4,
 "nbformat_minor": 2
}