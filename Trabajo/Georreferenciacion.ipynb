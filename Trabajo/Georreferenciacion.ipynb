{
 "cells": [
  {
   "cell_type": "code",
   "execution_count": null,
   "metadata": {},
   "outputs": [],
   "source": [
    "import pandas as pd\n",
    "import numpy as np\n",
    "import googlemaps"
   ]
  },
  {
   "cell_type": "code",
   "execution_count": null,
   "metadata": {},
   "outputs": [],
   "source": [
    "def get_geocode_info(direccion,gmaps_client):\n",
    "    # Consultamos dirección a googlemaps\n",
    "    vector = gmaps_client.geocode(direccion, components={'country' : 'CO'}) \n",
    "    # Obtenemos latitud y longitud\n",
    "    if len(vector)>0:\n",
    "        coordinates = vector[0]['geometry']['location']\n",
    "    else:\n",
    "        coordinates={'lat' : None, 'lng' : None}\n",
    "\n",
    "    return coordinates"
   ]
  },
  {
   "cell_type": "code",
   "execution_count": null,
   "metadata": {},
   "outputs": [],
   "source": [
    "def save_geocode(direccion,ciudad, dic,gmaps_client):\n",
    "    coordinates = get_geocode_info(direccion,gmaps_client)\n",
    "    if coordinates!={'lat' : None, 'lng' : None}:\n",
    "        #Si google encuentra la direccion concatenamos toda la información\n",
    "        dic[direccion] = coordinates \n",
    "    else:\n",
    "        #Si no, se consultan y se guardan las coordenadas de la ciudad para la direccion \n",
    "        coordinates = get_geocode_info(ciudad,gmaps_client)\n",
    "        dic[direccion] = coordinates \n",
    "\n",
    "    return dic"
   ]
  },
  {
   "cell_type": "code",
   "execution_count": null,
   "metadata": {},
   "outputs": [],
   "source": [
    "def compute_coordinates(locations,gmaps_client):\n",
    "    locations=locations.assign(complete_address= lambda x: x.Address.astype(\"str\") +\",\"+ x.City.astype(\"str\"))\n",
    "    dic = {} \n",
    "    locations=locations.set_index(\"id\")\n",
    "    for idx in locations.index: \n",
    "            direccion=locations.loc[idx,\"complete_address\"]\n",
    "            ciudad=locations.loc[idx,\"City\"]\n",
    "            save_geocode(direccion,ciudad, dic,gmaps_client) \n",
    "\n",
    "    locations_geoloc= pd.DataFrame.from_dict(dic).transpose().reset_index().rename(columns={'index':'complete_address'})\n",
    "    locations=locations.reset_index().merge(locations_geoloc,how=\"left\")\n",
    "    \n",
    "    return locations"
   ]
  },
  {
   "cell_type": "code",
   "execution_count": null,
   "metadata": {},
   "outputs": [],
   "source": [
    "compute_coordinates(locations,gmaps_client)"
   ]
  }
 ],
 "metadata": {
  "kernelspec": {
   "display_name": "Python 3",
   "language": "python",
   "name": "python3"
  },
  "language_info": {
   "codemirror_mode": {
    "name": "ipython",
    "version": 3
   },
   "file_extension": ".py",
   "mimetype": "text/x-python",
   "name": "python",
   "nbconvert_exporter": "python",
   "pygments_lexer": "ipython3",
   "version": "3.8.5"
  }
 },
 "nbformat": 4,
 "nbformat_minor": 4
}