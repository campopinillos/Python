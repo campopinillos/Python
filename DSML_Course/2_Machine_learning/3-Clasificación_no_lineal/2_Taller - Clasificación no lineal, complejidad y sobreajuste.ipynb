{
 "cells": [
  {
   "cell_type": "markdown",
   "metadata": {
    "colab_type": "text",
    "id": "yTRoytbIps_y"
   },
   "source": [
    "#### Programa de Formación en ML & DS\n",
    "## Introducción al Aprendizaje Automático\n",
    "# Sesión 3: Clasificación no lineal, complejidad y sobreajuste (Taller)\n",
    "\n",
    "Definimos primero unas librerías y funciones que vamos a usar a durante la sesión:"
   ]
  },
  {
   "cell_type": "code",
   "execution_count": 1,
   "metadata": {
    "colab": {
     "base_uri": "https://localhost:8080/",
     "height": 63
    },
    "colab_type": "code",
    "executionInfo": {
     "elapsed": 7052,
     "status": "ok",
     "timestamp": 1559067922960,
     "user": {
      "displayName": "Campo Elias Pinillos Galindo",
      "photoUrl": "",
      "userId": "08953649556123474687"
     },
     "user_tz": 300
    },
    "id": "1CeV8FiSGlkJ",
    "outputId": "b047c01d-c83a-4580-c3e1-205d1c925774"
   },
   "outputs": [
    {
     "name": "stdout",
     "output_type": "stream",
     "text": [
      "Requirement already satisfied: graphviz in /Users/campopinillos/anaconda3/lib/python3.7/site-packages (0.10.1)\r\n"
     ]
    }
   ],
   "source": [
    "# https://pypi.python.org/pypi/pydot-\n",
    "!pip install graphviz"
   ]
  },
  {
   "cell_type": "code",
   "execution_count": 0,
   "metadata": {
    "colab": {},
    "colab_type": "code",
    "id": "MFDXpdM-ps_1"
   },
   "outputs": [],
   "source": [
    "%matplotlib inline\n",
    "import matplotlib.pyplot as plt\n",
    "import numpy as np\n",
    "import pylab as pl\n",
    "import pandas as pd\n",
    "from sklearn import preprocessing\n",
    "from sklearn import datasets\n",
    "import graphviz\n",
    "from sklearn.tree import export_graphviz\n",
    "from sklearn.model_selection import train_test_split\n",
    "import pydot\n",
    "\n",
    "# Función para visualizar un conjunto de datos en 2D\n",
    "def plot_data(X, y):\n",
    "    y_unique = np.unique(y)\n",
    "    colors = pl.cm.rainbow(np.linspace(0.0, 1.0, y_unique.size))\n",
    "    for this_y, color in zip(y_unique, colors):\n",
    "        this_X = X[y == this_y]\n",
    "        pl.scatter(this_X[:, 0], this_X[:, 1],  c=color,\n",
    "                    alpha=0.5, edgecolor='k',\n",
    "                    label=\"Class %s\" % this_y)\n",
    "    pl.legend(loc=\"best\")\n",
    "    pl.title(\"Data\")\n",
    "    \n",
    "# Función para visualizar de la superficie de decisión de un clasificador\n",
    "def plot_decision_region(X, pred_fun):\n",
    "    print(X.shape)\n",
    "    min_x = np.min(X[:, 0])\n",
    "    max_x = np.max(X[:, 0])\n",
    "    min_y = np.min(X[:, 1])\n",
    "    max_y = np.max(X[:, 1])\n",
    "    min_x = min_x - (max_x - min_x) * 0.05\n",
    "    max_x = max_x + (max_x - min_x) * 0.05\n",
    "    min_y = min_y - (max_y - min_y) * 0.05\n",
    "    max_y = max_y + (max_y - min_y) * 0.05\n",
    "    x_vals = np.linspace(min_x, max_x, 100)\n",
    "    y_vals = np.linspace(min_y, max_y, 100)\n",
    "    XX, YY = np.meshgrid(x_vals, y_vals)\n",
    "    grid_r, grid_c = XX.shape\n",
    "    ZZ = np.zeros((grid_r, grid_c))\n",
    "    for i in range(grid_r):\n",
    "        for j in range(grid_c):\n",
    "            ZZ[i, j] = pred_fun(XX[i, j], YY[i, j])\n",
    "    pl.contourf(XX, YY, ZZ, 100, cmap = pl.cm.coolwarm, vmin= -1, vmax=2)\n",
    "    pl.colorbar()\n",
    "    pl.xlabel(\"x\")\n",
    "    pl.ylabel(\"y\")\n",
    "    \n",
    "def gen_pred_fun(clf):\n",
    "    def pred_fun(x1, x2):\n",
    "        x = np.array([[x1, x2]])\n",
    "        return clf.predict(x)[0]\n",
    "    return pred_fun"
   ]
  },
  {
   "cell_type": "markdown",
   "metadata": {
    "colab_type": "text",
    "id": "kbIuOqTJptFq"
   },
   "source": [
    "# Taller"
   ]
  },
  {
   "cell_type": "markdown",
   "metadata": {
    "colab_type": "text",
    "id": "dsd0ThXwptFr"
   },
   "source": [
    "Siguiendo con el uso del conjunto de datos **Wine** visto durante la clase de hoy se procede a realizar lo siguiente:\n",
    "\n",
    "1. Cargue el conjunto de datos **Wine**.\n",
    "2. Genere una partición estratificada 70-30 sobre el conjunto de datos.\n",
    "3. Genere una gráfica de barras en Pandas que verifique que las particiones de entrenamiento y prueba tengan la misma distribución de clases.\n",
    "\n",
    "## Explorando la complejidad usando `KNearestNeighbor`\n",
    "4. Entrene un modelo `KNearestNeighbor`. Use los siguientes valores para evaluar la complejidad:\n",
    "    * $[1, 2, 3, \\dots, 20]$\n",
    "    * Grafique los errores de entrenamiento y generalización conforme a la complejidad el modelo aumenta.\n",
    "5. Construya un conjunto de datos usando las características `Proline` contra `Flavonoids`. \n",
    "    * Use la partición 70-30 definida al inicio\n",
    "    * Usando `KNearestNeighbor`, determine el número subóptimo de k-vecinos usando evaluación de la complejidad. Use los mismos valores de $k$: $[1, 2, 3, \\dots, 20]$\n",
    "    * Grafique la superficie de decisión contra los ejemplos de test.\n",
    "    * Reporte accuracy, el error de clasificación, la precisión macro, el recall macro y el F1 score macro sobre el **conjunto de prueba**.\n",
    "\n",
    "## Explorando la complejidad usando `DecisionTree`\n",
    "6. Entrene un modelo de árbol de decisión usando los siguientes valores de profundidad:\n",
    "    * $[1, 2, 3, 4, 5, 7, 8, 9, 10]$\n",
    "    * Grafique los errores de entrenamiento y generalización conforme a la complejidad el modelo aumenta.\n",
    "7. Construya un conjunto de datos usando las características `Alcalinity` contra `Malic Acid`.\n",
    "    * Use la partición 70-30 definida al inicio\n",
    "    * Usando `DecisionTree`, determine el número subóptimo de profundidad máxima usando evaluación de la complejidad. Use los mismos valores de $\\textit{max_depth}$: $[1, 2, 3, 4, 5, 7, 8, 9, 10]$\n",
    "    * Grafique la superficie de decisión contra los ejemplos de test.\n",
    "    * Reporte accuracy, el error de clasificación, la precisión macro, el recall macro y el F1 score macro sobre el **conjunto de prueba**.\n",
    "\n",
    "## Visualización usando `DecisionTree`\n",
    "8. Escoja el mejor modelo entrenado sobre las 13 características. Visualice el árbol de decisión.\n",
    "9. ¿Cuales son las características más importantes del modelo?\n",
    "10. Exprese 5 reglas de decisión con base al árbol entrenado."
   ]
  },
  {
   "cell_type": "markdown",
   "metadata": {
    "colab_type": "text",
    "id": "An1HxRMrzNas"
   },
   "source": [
    "\n",
    "###1. Cargamos el conjunto de datos **Wine** como un DataFrame de pandas."
   ]
  },
  {
   "cell_type": "code",
   "execution_count": 5,
   "metadata": {
    "colab": {
     "base_uri": "https://localhost:8080/",
     "height": 344
    },
    "colab_type": "code",
    "executionInfo": {
     "elapsed": 976,
     "status": "ok",
     "timestamp": 1559068016889,
     "user": {
      "displayName": "Campo Elias Pinillos Galindo",
      "photoUrl": "",
      "userId": "08953649556123474687"
     },
     "user_tz": 300
    },
    "id": "TyaHYrgqY7yD",
    "outputId": "3635fcd5-baeb-4f28-a1f7-60c305ecd297"
   },
   "outputs": [
    {
     "data": {
      "text/html": [
       "<div>\n",
       "<style scoped>\n",
       "    .dataframe tbody tr th:only-of-type {\n",
       "        vertical-align: middle;\n",
       "    }\n",
       "\n",
       "    .dataframe tbody tr th {\n",
       "        vertical-align: top;\n",
       "    }\n",
       "\n",
       "    .dataframe thead th {\n",
       "        text-align: right;\n",
       "    }\n",
       "</style>\n",
       "<table border=\"1\" class=\"dataframe\">\n",
       "  <thead>\n",
       "    <tr style=\"text-align: right;\">\n",
       "      <th></th>\n",
       "      <th>Class</th>\n",
       "      <th>Alcohol</th>\n",
       "      <th>Malic_acid</th>\n",
       "      <th>Ash</th>\n",
       "      <th>Alcalinity</th>\n",
       "      <th>Magnesium</th>\n",
       "      <th>Phenols</th>\n",
       "      <th>Flavanoids</th>\n",
       "      <th>Nonflavanoid</th>\n",
       "      <th>Proanthocyanins</th>\n",
       "      <th>Color</th>\n",
       "      <th>Hue</th>\n",
       "      <th>OD280/OD315</th>\n",
       "      <th>Proline</th>\n",
       "    </tr>\n",
       "  </thead>\n",
       "  <tbody>\n",
       "    <tr>\n",
       "      <th>0</th>\n",
       "      <td>1</td>\n",
       "      <td>14.23</td>\n",
       "      <td>1.71</td>\n",
       "      <td>2.43</td>\n",
       "      <td>15.6</td>\n",
       "      <td>127</td>\n",
       "      <td>2.80</td>\n",
       "      <td>3.06</td>\n",
       "      <td>0.28</td>\n",
       "      <td>2.29</td>\n",
       "      <td>5.64</td>\n",
       "      <td>1.04</td>\n",
       "      <td>3.92</td>\n",
       "      <td>1065</td>\n",
       "    </tr>\n",
       "    <tr>\n",
       "      <th>1</th>\n",
       "      <td>1</td>\n",
       "      <td>13.20</td>\n",
       "      <td>1.78</td>\n",
       "      <td>2.14</td>\n",
       "      <td>11.2</td>\n",
       "      <td>100</td>\n",
       "      <td>2.65</td>\n",
       "      <td>2.76</td>\n",
       "      <td>0.26</td>\n",
       "      <td>1.28</td>\n",
       "      <td>4.38</td>\n",
       "      <td>1.05</td>\n",
       "      <td>3.40</td>\n",
       "      <td>1050</td>\n",
       "    </tr>\n",
       "    <tr>\n",
       "      <th>2</th>\n",
       "      <td>1</td>\n",
       "      <td>13.16</td>\n",
       "      <td>2.36</td>\n",
       "      <td>2.67</td>\n",
       "      <td>18.6</td>\n",
       "      <td>101</td>\n",
       "      <td>2.80</td>\n",
       "      <td>3.24</td>\n",
       "      <td>0.30</td>\n",
       "      <td>2.81</td>\n",
       "      <td>5.68</td>\n",
       "      <td>1.03</td>\n",
       "      <td>3.17</td>\n",
       "      <td>1185</td>\n",
       "    </tr>\n",
       "    <tr>\n",
       "      <th>3</th>\n",
       "      <td>1</td>\n",
       "      <td>14.37</td>\n",
       "      <td>1.95</td>\n",
       "      <td>2.50</td>\n",
       "      <td>16.8</td>\n",
       "      <td>113</td>\n",
       "      <td>3.85</td>\n",
       "      <td>3.49</td>\n",
       "      <td>0.24</td>\n",
       "      <td>2.18</td>\n",
       "      <td>7.80</td>\n",
       "      <td>0.86</td>\n",
       "      <td>3.45</td>\n",
       "      <td>1480</td>\n",
       "    </tr>\n",
       "    <tr>\n",
       "      <th>4</th>\n",
       "      <td>1</td>\n",
       "      <td>13.24</td>\n",
       "      <td>2.59</td>\n",
       "      <td>2.87</td>\n",
       "      <td>21.0</td>\n",
       "      <td>118</td>\n",
       "      <td>2.80</td>\n",
       "      <td>2.69</td>\n",
       "      <td>0.39</td>\n",
       "      <td>1.82</td>\n",
       "      <td>4.32</td>\n",
       "      <td>1.04</td>\n",
       "      <td>2.93</td>\n",
       "      <td>735</td>\n",
       "    </tr>\n",
       "  </tbody>\n",
       "</table>\n",
       "</div>"
      ],
      "text/plain": [
       "   Class  Alcohol   Malic_acid   Ash  ...  Color   Hue   OD280/OD315   Proline    \n",
       "0      1    14.23         1.71  2.43  ...   5.64  1.04          3.92          1065\n",
       "1      1    13.20         1.78  2.14  ...   4.38  1.05          3.40          1050\n",
       "2      1    13.16         2.36  2.67  ...   5.68  1.03          3.17          1185\n",
       "3      1    14.37         1.95  2.50  ...   7.80  0.86          3.45          1480\n",
       "4      1    13.24         2.59  2.87  ...   4.32  1.04          2.93           735\n",
       "\n",
       "[5 rows x 14 columns]"
      ]
     },
     "execution_count": 5,
     "metadata": {
      "tags": []
     },
     "output_type": "execute_result"
    }
   ],
   "source": [
    "wine = pd.read_csv(\"wine.data.txt\")\n",
    "wine.head(5)"
   ]
  },
  {
   "cell_type": "code",
   "execution_count": 8,
   "metadata": {
    "colab": {
     "base_uri": "https://localhost:8080/",
     "height": 344
    },
    "colab_type": "code",
    "executionInfo": {
     "elapsed": 756,
     "status": "ok",
     "timestamp": 1559068054369,
     "user": {
      "displayName": "Campo Elias Pinillos Galindo",
      "photoUrl": "",
      "userId": "08953649556123474687"
     },
     "user_tz": 300
    },
    "id": "5cXk6z10Y7_4",
    "outputId": "7b9dff3e-a896-48a0-de79-ae41ea242984"
   },
   "outputs": [
    {
     "data": {
      "text/html": [
       "<div>\n",
       "<style scoped>\n",
       "    .dataframe tbody tr th:only-of-type {\n",
       "        vertical-align: middle;\n",
       "    }\n",
       "\n",
       "    .dataframe tbody tr th {\n",
       "        vertical-align: top;\n",
       "    }\n",
       "\n",
       "    .dataframe thead th {\n",
       "        text-align: right;\n",
       "    }\n",
       "</style>\n",
       "<table border=\"1\" class=\"dataframe\">\n",
       "  <thead>\n",
       "    <tr style=\"text-align: right;\">\n",
       "      <th></th>\n",
       "      <th>Alcohol</th>\n",
       "      <th>Malic_acid</th>\n",
       "      <th>Ash</th>\n",
       "      <th>Alcalinity</th>\n",
       "      <th>Magnesium</th>\n",
       "      <th>Phenols</th>\n",
       "      <th>Flavanoids</th>\n",
       "      <th>Nonflavanoid</th>\n",
       "      <th>Proanthocyanins</th>\n",
       "      <th>Color</th>\n",
       "      <th>Hue</th>\n",
       "      <th>OD280/OD315</th>\n",
       "      <th>Proline</th>\n",
       "    </tr>\n",
       "  </thead>\n",
       "  <tbody>\n",
       "    <tr>\n",
       "      <th>0</th>\n",
       "      <td>14.23</td>\n",
       "      <td>1.71</td>\n",
       "      <td>2.43</td>\n",
       "      <td>15.6</td>\n",
       "      <td>127</td>\n",
       "      <td>2.80</td>\n",
       "      <td>3.06</td>\n",
       "      <td>0.28</td>\n",
       "      <td>2.29</td>\n",
       "      <td>5.64</td>\n",
       "      <td>1.04</td>\n",
       "      <td>3.92</td>\n",
       "      <td>1065</td>\n",
       "    </tr>\n",
       "    <tr>\n",
       "      <th>1</th>\n",
       "      <td>13.20</td>\n",
       "      <td>1.78</td>\n",
       "      <td>2.14</td>\n",
       "      <td>11.2</td>\n",
       "      <td>100</td>\n",
       "      <td>2.65</td>\n",
       "      <td>2.76</td>\n",
       "      <td>0.26</td>\n",
       "      <td>1.28</td>\n",
       "      <td>4.38</td>\n",
       "      <td>1.05</td>\n",
       "      <td>3.40</td>\n",
       "      <td>1050</td>\n",
       "    </tr>\n",
       "    <tr>\n",
       "      <th>2</th>\n",
       "      <td>13.16</td>\n",
       "      <td>2.36</td>\n",
       "      <td>2.67</td>\n",
       "      <td>18.6</td>\n",
       "      <td>101</td>\n",
       "      <td>2.80</td>\n",
       "      <td>3.24</td>\n",
       "      <td>0.30</td>\n",
       "      <td>2.81</td>\n",
       "      <td>5.68</td>\n",
       "      <td>1.03</td>\n",
       "      <td>3.17</td>\n",
       "      <td>1185</td>\n",
       "    </tr>\n",
       "    <tr>\n",
       "      <th>3</th>\n",
       "      <td>14.37</td>\n",
       "      <td>1.95</td>\n",
       "      <td>2.50</td>\n",
       "      <td>16.8</td>\n",
       "      <td>113</td>\n",
       "      <td>3.85</td>\n",
       "      <td>3.49</td>\n",
       "      <td>0.24</td>\n",
       "      <td>2.18</td>\n",
       "      <td>7.80</td>\n",
       "      <td>0.86</td>\n",
       "      <td>3.45</td>\n",
       "      <td>1480</td>\n",
       "    </tr>\n",
       "    <tr>\n",
       "      <th>4</th>\n",
       "      <td>13.24</td>\n",
       "      <td>2.59</td>\n",
       "      <td>2.87</td>\n",
       "      <td>21.0</td>\n",
       "      <td>118</td>\n",
       "      <td>2.80</td>\n",
       "      <td>2.69</td>\n",
       "      <td>0.39</td>\n",
       "      <td>1.82</td>\n",
       "      <td>4.32</td>\n",
       "      <td>1.04</td>\n",
       "      <td>2.93</td>\n",
       "      <td>735</td>\n",
       "    </tr>\n",
       "  </tbody>\n",
       "</table>\n",
       "</div>"
      ],
      "text/plain": [
       "   Alcohol   Malic_acid   Ash  ...   Hue   OD280/OD315   Proline    \n",
       "0    14.23         1.71  2.43  ...  1.04          3.92          1065\n",
       "1    13.20         1.78  2.14  ...  1.05          3.40          1050\n",
       "2    13.16         2.36  2.67  ...  1.03          3.17          1185\n",
       "3    14.37         1.95  2.50  ...  0.86          3.45          1480\n",
       "4    13.24         2.59  2.87  ...  1.04          2.93           735\n",
       "\n",
       "[5 rows x 13 columns]"
      ]
     },
     "execution_count": 8,
     "metadata": {
      "tags": []
     },
     "output_type": "execute_result"
    }
   ],
   "source": [
    "wine_no_class = wine.drop(columns=\"Class\")\n",
    "wine_no_class.head(5)"
   ]
  },
  {
   "cell_type": "code",
   "execution_count": 16,
   "metadata": {
    "colab": {
     "base_uri": "https://localhost:8080/",
     "height": 225
    },
    "colab_type": "code",
    "executionInfo": {
     "elapsed": 714,
     "status": "ok",
     "timestamp": 1559068145799,
     "user": {
      "displayName": "Campo Elias Pinillos Galindo",
      "photoUrl": "",
      "userId": "08953649556123474687"
     },
     "user_tz": 300
    },
    "id": "nIljezPRY8U4",
    "outputId": "8b853aa6-c477-4977-950f-e7d3f5242322"
   },
   "outputs": [
    {
     "name": "stderr",
     "output_type": "stream",
     "text": [
      "/usr/local/lib/python3.6/dist-packages/ipykernel_launcher.py:1: FutureWarning: Method .as_matrix will be removed in a future version. Use .values instead.\n",
      "  \"\"\"Entry point for launching an IPython kernel.\n",
      "/usr/local/lib/python3.6/dist-packages/ipykernel_launcher.py:2: FutureWarning: Method .as_matrix will be removed in a future version. Use .values instead.\n",
      "  \n"
     ]
    }
   ],
   "source": [
    "X = wine_no_class.as_matrix()\n",
    "y = wine[\"Class\"].as_matrix()"
   ]
  },
  {
   "cell_type": "markdown",
   "metadata": {
    "colab_type": "text",
    "id": "FnkmAZTqzdSz"
   },
   "source": [
    "###2. Generamos una partición estratificada 70-30 sobre el conjunto de datos cargados."
   ]
  },
  {
   "cell_type": "code",
   "execution_count": 0,
   "metadata": {
    "colab": {},
    "colab_type": "code",
    "id": "fbhykV4eZCKd"
   },
   "outputs": [],
   "source": [
    "X_train, X_test, y_train, y_test = train_test_split(X, y, test_size=0.3, stratify=y, random_state=1)"
   ]
  },
  {
   "cell_type": "markdown",
   "metadata": {
    "colab_type": "text",
    "id": "46nn0X7_zoET"
   },
   "source": [
    "###3. Generamos una gráfica de barras en Pandas que verifique que las particiones de entrenamiento y probamos tengan la misma distribución de clases."
   ]
  },
  {
   "cell_type": "code",
   "execution_count": 18,
   "metadata": {
    "colab": {
     "base_uri": "https://localhost:8080/",
     "height": 312
    },
    "colab_type": "code",
    "executionInfo": {
     "elapsed": 1459,
     "status": "ok",
     "timestamp": 1559068149920,
     "user": {
      "displayName": "Campo Elias Pinillos Galindo",
      "photoUrl": "",
      "userId": "08953649556123474687"
     },
     "user_tz": 300
    },
    "id": "92Bec1bxZFlU",
    "outputId": "dee6b1ff-f324-434e-8da6-5997e238ce37"
   },
   "outputs": [
    {
     "data": {
      "text/plain": [
       "Text(0, 0.5, 'Freq')"
      ]
     },
     "execution_count": 18,
     "metadata": {
      "tags": []
     },
     "output_type": "execute_result"
    },
    {
     "data": {
      "image/png": "[encoded data removed]",
      "text/plain": [
       "<Figure size 432x288 with 1 Axes>"
      ]
     },
     "metadata": {
      "tags": []
     },
     "output_type": "display_data"
    }
   ],
   "source": [
    "plt.hist(y_train)\n",
    "plt.title(\"Train hist\")\n",
    "plt.xlabel(\"Class\")\n",
    "plt.ylabel(\"Freq\")"
   ]
  },
  {
   "cell_type": "code",
   "execution_count": 19,
   "metadata": {
    "colab": {
     "base_uri": "https://localhost:8080/",
     "height": 312
    },
    "colab_type": "code",
    "executionInfo": {
     "elapsed": 940,
     "status": "ok",
     "timestamp": 1559068152537,
     "user": {
      "displayName": "Campo Elias Pinillos Galindo",
      "photoUrl": "",
      "userId": "08953649556123474687"
     },
     "user_tz": 300
    },
    "id": "s6VScTn7ZFoe",
    "outputId": "9094c82b-9b6d-45cc-b96b-f65d194143eb"
   },
   "outputs": [
    {
     "data": {
      "text/plain": [
       "Text(0, 0.5, 'Freq')"
      ]
     },
     "execution_count": 19,
     "metadata": {
      "tags": []
     },
     "output_type": "execute_result"
    },
    {
     "data": {
      "image/png": "[encoded data removed]",
      "text/plain": [
       "<Figure size 432x288 with 1 Axes>"
      ]
     },
     "metadata": {
      "tags": []
     },
     "output_type": "display_data"
    }
   ],
   "source": [
    "plt.hist(y_test)\n",
    "plt.title(\"Test hist\")\n",
    "plt.xlabel(\"Class\")\n",
    "plt.ylabel(\"Freq\")"
   ]
  },
  {
   "cell_type": "markdown",
   "metadata": {
    "colab_type": "text",
    "id": "JB0z6jd30AP3"
   },
   "source": [
    "## Explorando la complejidad usando `KNearestNeighbor`"
   ]
  },
  {
   "cell_type": "markdown",
   "metadata": {
    "colab_type": "text",
    "id": "M3rpx6l40DuX"
   },
   "source": [
    "###4. Entrenamos un modelo `KNearestNeighbor`. Usamos los siguientes valores para evaluar la complejidad:###\n",
    "   * $[1, 2, 3, \\dots, 20]$\n",
    "   * Graficamos los errores de entrenamiento y generalización conforme a la complejidad el modelo aumenta."
   ]
  },
  {
   "cell_type": "code",
   "execution_count": 0,
   "metadata": {
    "colab": {},
    "colab_type": "code",
    "id": "ot8FXv2TeDJT"
   },
   "outputs": [],
   "source": [
    "from sklearn.neighbors import KNeighborsClassifier"
   ]
  },
  {
   "cell_type": "code",
   "execution_count": 0,
   "metadata": {
    "colab": {},
    "colab_type": "code",
    "id": "c7bxZvExZI0f"
   },
   "outputs": [],
   "source": [
    "error_train = []\n",
    "error_test = []\n",
    "for i in range(1,21):\n",
    "  knn =  KNeighborsClassifier(n_neighbors=i)\n",
    "  knn.fit(X_train, y_train)\n",
    "  error_train.append(1-knn.score(X_train, y_train))\n",
    "  error_test.append(1-knn.score(X_test, y_test))"
   ]
  },
  {
   "cell_type": "code",
   "execution_count": 0,
   "metadata": {
    "colab": {},
    "colab_type": "code",
    "id": "CziHSi66fsdp"
   },
   "outputs": [],
   "source": [
    "error_tr_np = np.array(error_train)\n",
    "error_te_np = np.array(error_test)\n",
    "parameter = np.arange(1, 21)"
   ]
  },
  {
   "cell_type": "code",
   "execution_count": 23,
   "metadata": {
    "colab": {
     "base_uri": "https://localhost:8080/",
     "height": 312
    },
    "colab_type": "code",
    "executionInfo": {
     "elapsed": 973,
     "status": "ok",
     "timestamp": 1559068165683,
     "user": {
      "displayName": "Campo Elias Pinillos Galindo",
      "photoUrl": "",
      "userId": "08953649556123474687"
     },
     "user_tz": 300
    },
    "id": "51ueCFMJZI35",
    "outputId": "266a01da-491e-4267-8923-8fa7af97a1d5"
   },
   "outputs": [
    {
     "data": {
      "text/plain": [
       "Text(0, 0.5, 'Error')"
      ]
     },
     "execution_count": 23,
     "metadata": {
      "tags": []
     },
     "output_type": "execute_result"
    },
    {
     "data": {
      "image/png": "[encoded data removed]",
      "text/plain": [
       "<Figure size 432x288 with 1 Axes>"
      ]
     },
     "metadata": {
      "tags": []
     },
     "output_type": "display_data"
    }
   ],
   "source": [
    "plt.plot(parameter, error_tr_np, \"b-\", label=\"Train error\")\n",
    "plt.plot(parameter, error_te_np, \"g-\", label=\"Test Error\")\n",
    "plt.legend()\n",
    "plt.title(\"Complejidad KNN\")\n",
    "plt.xlabel(\"K values\")\n",
    "plt.ylabel(\"Error\")"
   ]
  },
  {
   "cell_type": "markdown",
   "metadata": {
    "colab_type": "text",
    "id": "aeQsAkLG1GXp"
   },
   "source": [
    "###5. Construimos un conjunto de datos usando las características `Proline` contra `Flavonoids`. \n",
    "   * Usamos la partición 70-30 definida al inicio\n",
    "   * Usando `KNearestNeighbor`, determinamos el número subóptimo de k-vecinos usando evaluación de la complejidad. Use los mismos valores de $k$: $[1, 2, 3, \\dots, 20]$\n",
    "   * Graficamos la superficie de decisión contra los ejemplos de test.\n",
    "   * Reportamos accuracy, el error de clasificación, la precisión macro, el recall macro y el F1 score macro sobre el **conjunto de prueba**."
   ]
  },
  {
   "cell_type": "code",
   "execution_count": 24,
   "metadata": {
    "colab": {
     "base_uri": "https://localhost:8080/",
     "height": 85
    },
    "colab_type": "code",
    "executionInfo": {
     "elapsed": 859,
     "status": "ok",
     "timestamp": 1559068175100,
     "user": {
      "displayName": "Campo Elias Pinillos Galindo",
      "photoUrl": "",
      "userId": "08953649556123474687"
     },
     "user_tz": 300
    },
    "id": "ua8o5EGQidgT",
    "outputId": "74655493-552a-4c15-ab67-ffb8bd24ea07"
   },
   "outputs": [
    {
     "data": {
      "text/plain": [
       "Index(['Class', 'Alcohol', ' Malic_acid', ' Ash', ' Alcalinity', ' Magnesium',\n",
       "       ' Phenols', ' Flavanoids', ' Nonflavanoid', ' Proanthocyanins', 'Color',\n",
       "       ' Hue', ' OD280/OD315', ' Proline    '],\n",
       "      dtype='object')"
      ]
     },
     "execution_count": 24,
     "metadata": {
      "tags": []
     },
     "output_type": "execute_result"
    }
   ],
   "source": [
    "wine.columns"
   ]
  },
  {
   "cell_type": "code",
   "execution_count": 25,
   "metadata": {
    "colab": {
     "base_uri": "https://localhost:8080/",
     "height": 208
    },
    "colab_type": "code",
    "executionInfo": {
     "elapsed": 976,
     "status": "ok",
     "timestamp": 1559068176639,
     "user": {
      "displayName": "Campo Elias Pinillos Galindo",
      "photoUrl": "",
      "userId": "08953649556123474687"
     },
     "user_tz": 300
    },
    "id": "Jn9wE57dZMnT",
    "outputId": "b4c4e76b-27ed-4603-d892-c6dd3f4a39a8"
   },
   "outputs": [
    {
     "name": "stdout",
     "output_type": "stream",
     "text": [
      "(178, 2)\n"
     ]
    },
    {
     "name": "stderr",
     "output_type": "stream",
     "text": [
      "/usr/local/lib/python3.6/dist-packages/ipykernel_launcher.py:1: FutureWarning: Method .as_matrix will be removed in a future version. Use .values instead.\n",
      "  \"\"\"Entry point for launching an IPython kernel.\n"
     ]
    }
   ],
   "source": [
    "X_2 = wine[[\" Proline    \", \" Flavanoids\"]].as_matrix()\n",
    "print(X_2.shape)"
   ]
  },
  {
   "cell_type": "code",
   "execution_count": 0,
   "metadata": {
    "colab": {},
    "colab_type": "code",
    "id": "p_nFd2tLZMu5"
   },
   "outputs": [],
   "source": [
    "X_train, X_test, y_train, y_test = train_test_split(X_2, y, test_size=0.30, stratify=y, \n",
    "                                                    random_state=132)"
   ]
  },
  {
   "cell_type": "code",
   "execution_count": 0,
   "metadata": {
    "colab": {},
    "colab_type": "code",
    "id": "xTvvmhjnZM1M"
   },
   "outputs": [],
   "source": [
    "error_train = []\n",
    "error_test = []\n",
    "for i in range(1,21):\n",
    "  knn =  KNeighborsClassifier(n_neighbors=i)\n",
    "  knn.fit(X_train, y_train)\n",
    "  error_train.append(1-knn.score(X_train, y_train))\n",
    "  error_test.append(1-knn.score(X_test, y_test))"
   ]
  },
  {
   "cell_type": "code",
   "execution_count": 28,
   "metadata": {
    "colab": {
     "base_uri": "https://localhost:8080/",
     "height": 51
    },
    "colab_type": "code",
    "executionInfo": {
     "elapsed": 748,
     "status": "ok",
     "timestamp": 1559068190262,
     "user": {
      "displayName": "Campo Elias Pinillos Galindo",
      "photoUrl": "",
      "userId": "08953649556123474687"
     },
     "user_tz": 300
    },
    "id": "q71bQUbPjq1I",
    "outputId": "11752e86-8eea-4a93-a6de-2287f46739ef"
   },
   "outputs": [
    {
     "name": "stdout",
     "output_type": "stream",
     "text": [
      "0.2407407407407407\n",
      "index: 0\n"
     ]
    }
   ],
   "source": [
    "err_test = np.array(error_test)\n",
    "min_err = err_test.min()\n",
    "print(min_err)\n",
    "print(\"index: {}\".format(min_err.argmin()))"
   ]
  },
  {
   "cell_type": "code",
   "execution_count": 29,
   "metadata": {
    "colab": {
     "base_uri": "https://localhost:8080/",
     "height": 85
    },
    "colab_type": "code",
    "executionInfo": {
     "elapsed": 1165,
     "status": "ok",
     "timestamp": 1559068193527,
     "user": {
      "displayName": "Campo Elias Pinillos Galindo",
      "photoUrl": "",
      "userId": "08953649556123474687"
     },
     "user_tz": 300
    },
    "id": "cSyVf_BPLfNo",
    "outputId": "a5ace200-e9dd-4218-ba8b-26772a14119c"
   },
   "outputs": [
    {
     "data": {
      "text/plain": [
       "array([0.24074074, 0.31481481, 0.35185185, 0.35185185, 0.31481481,\n",
       "       0.33333333, 0.35185185, 0.38888889, 0.35185185, 0.31481481,\n",
       "       0.31481481, 0.37037037, 0.31481481, 0.33333333, 0.27777778,\n",
       "       0.2962963 , 0.31481481, 0.2962963 , 0.31481481, 0.31481481])"
      ]
     },
     "execution_count": 29,
     "metadata": {
      "tags": []
     },
     "output_type": "execute_result"
    }
   ],
   "source": [
    "err_test"
   ]
  },
  {
   "cell_type": "code",
   "execution_count": 30,
   "metadata": {
    "colab": {
     "base_uri": "https://localhost:8080/",
     "height": 68
    },
    "colab_type": "code",
    "executionInfo": {
     "elapsed": 835,
     "status": "ok",
     "timestamp": 1559068205953,
     "user": {
      "displayName": "Campo Elias Pinillos Galindo",
      "photoUrl": "",
      "userId": "08953649556123474687"
     },
     "user_tz": 300
    },
    "id": "_uuOJbq4kecS",
    "outputId": "32a4dabb-4c85-4379-ffa1-99d940ad6a90"
   },
   "outputs": [
    {
     "data": {
      "text/plain": [
       "KNeighborsClassifier(algorithm='auto', leaf_size=30, metric='minkowski',\n",
       "                     metric_params=None, n_jobs=None, n_neighbors=5, p=2,\n",
       "                     weights='uniform')"
      ]
     },
     "execution_count": 30,
     "metadata": {
      "tags": []
     },
     "output_type": "execute_result"
    }
   ],
   "source": [
    "knn_optimo = KNeighborsClassifier(n_neighbors=5) \n",
    "knn_optimo.fit(X_train, y_train)"
   ]
  },
  {
   "cell_type": "code",
   "execution_count": 31,
   "metadata": {
    "colab": {
     "base_uri": "https://localhost:8080/",
     "height": 383
    },
    "colab_type": "code",
    "executionInfo": {
     "elapsed": 6969,
     "status": "ok",
     "timestamp": 1559068213951,
     "user": {
      "displayName": "Campo Elias Pinillos Galindo",
      "photoUrl": "",
      "userId": "08953649556123474687"
     },
     "user_tz": 300
    },
    "id": "Bgqc_XaUZM9O",
    "outputId": "4d1be192-b201-49ac-db65-c6ac21f0ab75"
   },
   "outputs": [
    {
     "name": "stdout",
     "output_type": "stream",
     "text": [
      "(54, 2)\n"
     ]
    },
    {
     "name": "stderr",
     "output_type": "stream",
     "text": [
      "'c' argument looks like a single numeric RGB or RGBA sequence, which should be avoided as value-mapping will have precedence in case its length matches with 'x' & 'y'.  Please use a 2-D array with a single row if you really want to specify the same RGB or RGBA value for all points.\n",
      "'c' argument looks like a single numeric RGB or RGBA sequence, which should be avoided as value-mapping will have precedence in case its length matches with 'x' & 'y'.  Please use a 2-D array with a single row if you really want to specify the same RGB or RGBA value for all points.\n",
      "'c' argument looks like a single numeric RGB or RGBA sequence, which should be avoided as value-mapping will have precedence in case its length matches with 'x' & 'y'.  Please use a 2-D array with a single row if you really want to specify the same RGB or RGBA value for all points.\n"
     ]
    },
    {
     "data": {
      "image/png": "[encoded data removed]",
      "text/plain": [
       "<Figure size 432x288 with 2 Axes>"
      ]
     },
     "metadata": {
      "tags": []
     },
     "output_type": "display_data"
    }
   ],
   "source": [
    "plot_decision_region(X_test, gen_pred_fun(knn_optimo))\n",
    "plot_data(X_test, y_test)"
   ]
  },
  {
   "cell_type": "code",
   "execution_count": 32,
   "metadata": {
    "colab": {
     "base_uri": "https://localhost:8080/",
     "height": 34
    },
    "colab_type": "code",
    "executionInfo": {
     "elapsed": 811,
     "status": "ok",
     "timestamp": 1559068225176,
     "user": {
      "displayName": "Campo Elias Pinillos Galindo",
      "photoUrl": "",
      "userId": "08953649556123474687"
     },
     "user_tz": 300
    },
    "id": "kgD9T3r-Oeer",
    "outputId": "ea050565-b454-45d2-c9bc-a2d438f9c338"
   },
   "outputs": [
    {
     "name": "stdout",
     "output_type": "stream",
     "text": [
      "Accuracy: 0.6851851851851852\n"
     ]
    }
   ],
   "source": [
    "from sklearn import metrics\n",
    "y_pred = knn.predict(X_test)\n",
    "print(\"Accuracy:\", metrics.accuracy_score(y_test,y_pred))"
   ]
  },
  {
   "cell_type": "code",
   "execution_count": 33,
   "metadata": {
    "colab": {
     "base_uri": "https://localhost:8080/",
     "height": 170
    },
    "colab_type": "code",
    "executionInfo": {
     "elapsed": 1003,
     "status": "ok",
     "timestamp": 1559068228244,
     "user": {
      "displayName": "Campo Elias Pinillos Galindo",
      "photoUrl": "",
      "userId": "08953649556123474687"
     },
     "user_tz": 300
    },
    "id": "jmGlnvk_Rr3X",
    "outputId": "ea78fe9a-5b7b-40a9-e367-fba19368e277"
   },
   "outputs": [
    {
     "name": "stdout",
     "output_type": "stream",
     "text": [
      "Precisión macro: 0.7289102564102564\n",
      "Precisión micro: 0.6851851851851852\n",
      "Precisión pesada: 0.7449786324786324\n",
      "Recall macro: 0.7031746031746032\n",
      "Recall micro: 0.6851851851851852\n",
      "Recall pesada: 0.6851851851851852\n",
      "F1 macro: 0.6901960784313724\n",
      "F1 micro: 0.6851851851851852\n",
      "F1 pesada: 0.6895424836601307\n"
     ]
    }
   ],
   "source": [
    "from sklearn.metrics import precision_score, recall_score, f1_score\n",
    "\n",
    "print('Precisión macro: {}'.format(precision_score(y_test, y_pred, average='macro')))\n",
    "print('Precisión micro: {}'.format(precision_score(y_test, y_pred, average='micro')))\n",
    "print('Precisión pesada: {}'.format(precision_score(y_test, y_pred, average='weighted')))\n",
    "\n",
    "\n",
    "print('Recall macro: {}'.format(recall_score(y_test, y_pred, average='macro')))\n",
    "print('Recall micro: {}'.format(recall_score(y_test, y_pred, average='micro')))\n",
    "print('Recall pesada: {}'.format(recall_score(y_test, y_pred, average='weighted')))\n",
    "\n",
    "print('F1 macro: {}'.format(f1_score(y_test, y_pred, average='macro')))\n",
    "print('F1 micro: {}'.format(f1_score(y_test, y_pred, average='micro')))\n",
    "print('F1 pesada: {}'.format(f1_score(y_test, y_pred, average='weighted')))"
   ]
  },
  {
   "cell_type": "markdown",
   "metadata": {
    "colab_type": "text",
    "id": "-CZoBjCY1qGo"
   },
   "source": [
    "## Explorando la complejidad usando `DecisionTree`"
   ]
  },
  {
   "cell_type": "markdown",
   "metadata": {
    "colab_type": "text",
    "id": "Oa873iac1scj"
   },
   "source": [
    "6. Entrenamos un modelo de árbol de decisión usando los siguientes valores de profundidad:\n",
    "    * $[1, 2, 3, 4, 5, 7, 8, 9, 10]$\n",
    "    * Graficamos los errores de entrenamiento y generalización conforme a la complejidad el modelo aumenta."
   ]
  },
  {
   "cell_type": "code",
   "execution_count": 0,
   "metadata": {
    "colab": {},
    "colab_type": "code",
    "id": "h6VNrSl6ZRc3"
   },
   "outputs": [],
   "source": [
    "from sklearn.tree import DecisionTreeClassifier\n",
    "X_train, X_test, y_train, y_test = train_test_split(X, y, test_size=0.3, stratify=y, random_state=1)\n",
    "classifier = DecisionTreeClassifier()\n",
    "\n",
    "\n",
    "train_error = []\n",
    "generalization_error = []\n",
    "max_depth_values = list(range(1, 11, 1))\n",
    "\n",
    "for depth in max_depth_values:\n",
    "    decision_tree = DecisionTreeClassifier(max_depth=depth)\n",
    "    decision_tree.fit(X_train, y_train)\n",
    "    train_error.append(1 - decision_tree.score(X_train, y_train))\n",
    "    generalization_error.append(1 - decision_tree.score(X_test, y_test))"
   ]
  },
  {
   "cell_type": "code",
   "execution_count": 35,
   "metadata": {
    "colab": {
     "base_uri": "https://localhost:8080/",
     "height": 392
    },
    "colab_type": "code",
    "executionInfo": {
     "elapsed": 812,
     "status": "ok",
     "timestamp": 1559068236925,
     "user": {
      "displayName": "Campo Elias Pinillos Galindo",
      "photoUrl": "",
      "userId": "08953649556123474687"
     },
     "user_tz": 300
    },
    "id": "t2xJK6lITVF7",
    "outputId": "982fd316-967c-4cc8-b816-a1e8dec36489"
   },
   "outputs": [
    {
     "data": {
      "image/png": "[encoded data removed]",
      "text/plain": [
       "<Figure size 720x432 with 1 Axes>"
      ]
     },
     "metadata": {
      "tags": []
     },
     "output_type": "display_data"
    }
   ],
   "source": [
    "pl.figure(figsize = (10, 6))\n",
    "\n",
    "pl.plot(max_depth_values, train_error, label=\"Entrenamiento\")\n",
    "pl.plot(max_depth_values, generalization_error, label=\"Generalización\")\n",
    "pl.xticks(max_depth_values)\n",
    "pl.xlabel(\"Profundidad máxima\")\n",
    "pl.ylabel(\"Error\")\n",
    "pl.arrow(2.2, 0.07, 0, -0.01, head_width=0.2, head_length=0.01, fc='k', ec='k')\n",
    "pl.text(2, 0.08, 'Punto de balance')\n",
    "pl.legend();"
   ]
  },
  {
   "cell_type": "markdown",
   "metadata": {
    "colab_type": "text",
    "id": "gIgp72MM2Jxy"
   },
   "source": [
    "7. Construyamos un conjunto de datos usando las características `Alcalinity` contra `Malic Acid`.\n",
    "    * Usamos la partición 70-30 definida al inicio\n",
    "    * Usando `DecisionTree`, determine el número subóptimo de profundidad máxima usando evaluación de la complejidad. Use los mismos valores de $\\textit{max_depth}$: $[1, 2, 3, 4, 5, 7, 8, 9, 10]$\n",
    "    * Grafique la superficie de decisión contra los ejemplos de test.\n",
    "    * Reporte accuracy, el error de clasificación, la precisión macro, el recall macro y el F1 score macro sobre el **conjunto de prueba**."
   ]
  },
  {
   "cell_type": "code",
   "execution_count": 36,
   "metadata": {
    "colab": {
     "base_uri": "https://localhost:8080/",
     "height": 108
    },
    "colab_type": "code",
    "executionInfo": {
     "elapsed": 1201,
     "status": "ok",
     "timestamp": 1559068242066,
     "user": {
      "displayName": "Campo Elias Pinillos Galindo",
      "photoUrl": "",
      "userId": "08953649556123474687"
     },
     "user_tz": 300
    },
    "id": "Y0jJwtxfZVGx",
    "outputId": "14f1804d-9b64-4fd8-9f76-bbb060dc97b0"
   },
   "outputs": [
    {
     "name": "stdout",
     "output_type": "stream",
     "text": [
      "(178, 2)\n"
     ]
    },
    {
     "name": "stderr",
     "output_type": "stream",
     "text": [
      "/usr/local/lib/python3.6/dist-packages/ipykernel_launcher.py:1: FutureWarning: Method .as_matrix will be removed in a future version. Use .values instead.\n",
      "  \"\"\"Entry point for launching an IPython kernel.\n"
     ]
    }
   ],
   "source": [
    "X_2 = wine[[\" Alcalinity\", ' Malic_acid']].as_matrix()\n",
    "print(X_2.shape)"
   ]
  },
  {
   "cell_type": "code",
   "execution_count": 0,
   "metadata": {
    "colab": {},
    "colab_type": "code",
    "id": "Bn64Yj85ZVMo"
   },
   "outputs": [],
   "source": [
    "X_trainR, X_testR, y_trainR, y_testR = train_test_split(X_2, y, test_size=0.30, stratify=y, random_state=132)"
   ]
  },
  {
   "cell_type": "code",
   "execution_count": 0,
   "metadata": {
    "colab": {},
    "colab_type": "code",
    "id": "K5USBkHbZVSI"
   },
   "outputs": [],
   "source": [
    "train_error = []\n",
    "generalization_error = []\n",
    "max_depth_values = list(range(1, 11, 1))\n",
    "\n",
    "for depth in max_depth_values:\n",
    "    decision_tree = DecisionTreeClassifier(max_depth=depth)\n",
    "    decision_tree.fit(X_trainR, y_trainR)\n",
    "    train_error.append(1 - decision_tree.score(X_trainR, y_trainR))\n",
    "    generalization_error.append(1 - decision_tree.score(X_testR, y_testR))"
   ]
  },
  {
   "cell_type": "code",
   "execution_count": 40,
   "metadata": {
    "colab": {
     "base_uri": "https://localhost:8080/",
     "height": 392
    },
    "colab_type": "code",
    "executionInfo": {
     "elapsed": 1171,
     "status": "ok",
     "timestamp": 1559068265424,
     "user": {
      "displayName": "Campo Elias Pinillos Galindo",
      "photoUrl": "",
      "userId": "08953649556123474687"
     },
     "user_tz": 300
    },
    "id": "ttN1k0ZeU6NI",
    "outputId": "fb24de77-e987-41af-cfb8-179360633d54"
   },
   "outputs": [
    {
     "data": {
      "image/png": "[encoded data removed]",
      "text/plain": [
       "<Figure size 720x432 with 1 Axes>"
      ]
     },
     "metadata": {
      "tags": []
     },
     "output_type": "display_data"
    }
   ],
   "source": [
    "pl.figure(figsize = (10, 6))\n",
    "\n",
    "pl.plot(max_depth_values, train_error, label=\"Entrenamiento\")\n",
    "pl.plot(max_depth_values, generalization_error, label=\"Generalización\")\n",
    "pl.xticks(max_depth_values)\n",
    "pl.xlabel(\"Profundidad máxima\")\n",
    "pl.ylabel(\"Error\")\n",
    "pl.arrow(2.2, 0.07, 0, -0.01, head_width=0.2, head_length=0.01, fc='k', ec='k')\n",
    "pl.text(2, 0.08, 'Punto de balance')\n",
    "pl.legend();"
   ]
  },
  {
   "cell_type": "code",
   "execution_count": 41,
   "metadata": {
    "colab": {
     "base_uri": "https://localhost:8080/",
     "height": 492
    },
    "colab_type": "code",
    "executionInfo": {
     "elapsed": 1785,
     "status": "ok",
     "timestamp": 1559068269877,
     "user": {
      "displayName": "Campo Elias Pinillos Galindo",
      "photoUrl": "",
      "userId": "08953649556123474687"
     },
     "user_tz": 300
    },
    "id": "5dLpCNhrVHGh",
    "outputId": "c800f416-29b0-4554-bebc-f57f48808c3b"
   },
   "outputs": [
    {
     "name": "stdout",
     "output_type": "stream",
     "text": [
      "(124, 2)\n"
     ]
    },
    {
     "name": "stderr",
     "output_type": "stream",
     "text": [
      "'c' argument looks like a single numeric RGB or RGBA sequence, which should be avoided as value-mapping will have precedence in case its length matches with 'x' & 'y'.  Please use a 2-D array with a single row if you really want to specify the same RGB or RGBA value for all points.\n",
      "'c' argument looks like a single numeric RGB or RGBA sequence, which should be avoided as value-mapping will have precedence in case its length matches with 'x' & 'y'.  Please use a 2-D array with a single row if you really want to specify the same RGB or RGBA value for all points.\n",
      "'c' argument looks like a single numeric RGB or RGBA sequence, which should be avoided as value-mapping will have precedence in case its length matches with 'x' & 'y'.  Please use a 2-D array with a single row if you really want to specify the same RGB or RGBA value for all points.\n"
     ]
    },
    {
     "data": {
      "image/png": "[encoded data removed]",
      "text/plain": [
       "<Figure size 720x432 with 2 Axes>"
      ]
     },
     "metadata": {
      "tags": []
     },
     "output_type": "display_data"
    }
   ],
   "source": [
    "classifier = classifier.fit(X_trainR, y_trainR)\n",
    "pl.figure(figsize = (10, 6))    \n",
    "plot_decision_region(X_trainR, gen_pred_fun(classifier))\n",
    "plot_data(X_trainR, y_trainR)"
   ]
  },
  {
   "cell_type": "markdown",
   "metadata": {
    "colab_type": "text",
    "id": "1e11HeXOCpFR"
   },
   "source": [
    "## Visualización usando `DecisionTree`"
   ]
  },
  {
   "cell_type": "markdown",
   "metadata": {
    "colab_type": "text",
    "id": "P0HQVRhnCtOy"
   },
   "source": [
    "8. Escoja el mejor modelo entrenado sobre las 13 características. Visualice el árbol de decisión."
   ]
  },
  {
   "cell_type": "code",
   "execution_count": 0,
   "metadata": {
    "colab": {},
    "colab_type": "code",
    "id": "fLlp_2z7ZZX9"
   },
   "outputs": [],
   "source": [
    "#El mejor modelo según la gráfica mostrada es cuando se utiliza una profundidad de 6.\n",
    "decision_tree = DecisionTreeClassifier(max_depth=6)\n",
    "decision_tree.fit(X_train, y_train)\n",
    "train_error.append(1 - decision_tree.score(X_train, y_train))\n",
    "generalization_error.append(1 - decision_tree.score(X_test, y_test))\n",
    "classifier = classifier.fit(X_test, y_test)\n"
   ]
  },
  {
   "cell_type": "code",
   "execution_count": 43,
   "metadata": {
    "colab": {
     "base_uri": "https://localhost:8080/",
     "height": 769
    },
    "colab_type": "code",
    "executionInfo": {
     "elapsed": 1005,
     "status": "ok",
     "timestamp": 1559068279232,
     "user": {
      "displayName": "Campo Elias Pinillos Galindo",
      "photoUrl": "",
      "userId": "08953649556123474687"
     },
     "user_tz": 300
    },
    "id": "aWMUgRGEZZar",
    "outputId": "b0ec27ad-52cf-45d9-b942-f6c4b3b72d1b"
   },
   "outputs": [
    {
     "data": {
      "image/svg+xml": [
       "<svg height=\"561pt\" viewBox=\"0.00 0.00 672.00 561.00\" width=\"672pt\" xmlns=\"http://www.w3.org/2000/svg\" xmlns:xlink=\"http://www.w3.org/1999/xlink\">\n",
       "<g class=\"graph\" id=\"graph0\" transform=\"scale(1 1) rotate(0) translate(4 557)\">\n",
       "<title>Tree</title>\n",
       "<polygon fill=\"#ffffff\" points=\"-4,4 -4,-557 668,-557 668,4 -4,4\" stroke=\"transparent\"/>\n",
       "<!-- 0 -->\n",
       "<g class=\"node\" id=\"node1\">\n",
       "<title>0</title>\n",
       "<path d=\"M397.5,-553C397.5,-553 281.5,-553 281.5,-553 275.5,-553 269.5,-547 269.5,-541 269.5,-541 269.5,-501 269.5,-501 269.5,-495 275.5,-489 281.5,-489 281.5,-489 397.5,-489 397.5,-489 403.5,-489 409.5,-495 409.5,-501 409.5,-501 409.5,-541 409.5,-541 409.5,-547 403.5,-553 397.5,-553\" fill=\"#eefdf4\" stroke=\"#000000\"/>\n",
       "<text fill=\"#000000\" font-family=\"Helvetica,sans-Serif\" font-size=\"14.00\" text-anchor=\"start\" x=\"301.5\" y=\"-538.8\">X</text>\n",
       "<text baseline-shift=\"sub\" fill=\"#000000\" font-family=\"Helvetica,sans-Serif\" font-size=\"14.00\" text-anchor=\"start\" x=\"311.5\" y=\"-538.8\">12</text>\n",
       "<text fill=\"#000000\" font-family=\"Helvetica,sans-Serif\" font-size=\"14.00\" text-anchor=\"start\" x=\"325.5\" y=\"-538.8\"> ≤ 953.5</text>\n",
       "<text fill=\"#000000\" font-family=\"Helvetica,sans-Serif\" font-size=\"14.00\" text-anchor=\"start\" x=\"306\" y=\"-524.8\">gini = 0.66</text>\n",
       "<text fill=\"#000000\" font-family=\"Helvetica,sans-Serif\" font-size=\"14.00\" text-anchor=\"start\" x=\"295.5\" y=\"-510.8\">samples = 54</text>\n",
       "<text fill=\"#000000\" font-family=\"Helvetica,sans-Serif\" font-size=\"14.00\" text-anchor=\"start\" x=\"277.5\" y=\"-496.8\">value = [18, 21, 15]</text>\n",
       "</g>\n",
       "<!-- 1 -->\n",
       "<g class=\"node\" id=\"node2\">\n",
       "<title>1</title>\n",
       "<path d=\"M321,-453C321,-453 214,-453 214,-453 208,-453 202,-447 202,-441 202,-441 202,-401 202,-401 202,-395 208,-389 214,-389 214,-389 321,-389 321,-389 327,-389 333,-395 333,-401 333,-401 333,-441 333,-441 333,-447 327,-453 321,-453\" fill=\"#cef8e0\" stroke=\"#000000\"/>\n",
       "<text fill=\"#000000\" font-family=\"Helvetica,sans-Serif\" font-size=\"14.00\" text-anchor=\"start\" x=\"229.5\" y=\"-438.8\">X</text>\n",
       "<text baseline-shift=\"sub\" fill=\"#000000\" font-family=\"Helvetica,sans-Serif\" font-size=\"14.00\" text-anchor=\"start\" x=\"239.5\" y=\"-438.8\">11</text>\n",
       "<text fill=\"#000000\" font-family=\"Helvetica,sans-Serif\" font-size=\"14.00\" text-anchor=\"start\" x=\"253.5\" y=\"-438.8\"> ≤ 2.185</text>\n",
       "<text fill=\"#000000\" font-family=\"Helvetica,sans-Serif\" font-size=\"14.00\" text-anchor=\"start\" x=\"229.5\" y=\"-424.8\">gini = 0.556</text>\n",
       "<text fill=\"#000000\" font-family=\"Helvetica,sans-Serif\" font-size=\"14.00\" text-anchor=\"start\" x=\"223.5\" y=\"-410.8\">samples = 39</text>\n",
       "<text fill=\"#000000\" font-family=\"Helvetica,sans-Serif\" font-size=\"14.00\" text-anchor=\"start\" x=\"210\" y=\"-396.8\">value = [3, 21, 15]</text>\n",
       "</g>\n",
       "<!-- 0&#45;&gt;1 -->\n",
       "<g class=\"edge\" id=\"edge1\">\n",
       "<title>0-&gt;1</title>\n",
       "<path d=\"M316.3224,-488.8089C310.0276,-480.0661 303.1311,-470.4876 296.5558,-461.3553\" fill=\"none\" stroke=\"#000000\"/>\n",
       "<polygon fill=\"#000000\" points=\"299.3176,-459.201 290.6341,-453.1308 293.6369,-463.2912 299.3176,-459.201\" stroke=\"#000000\"/>\n",
       "<text fill=\"#000000\" font-family=\"Helvetica,sans-Serif\" font-size=\"14.00\" text-anchor=\"middle\" x=\"286.6173\" y=\"-474.1059\">True</text>\n",
       "</g>\n",
       "<!-- 12 -->\n",
       "<g class=\"node\" id=\"node13\">\n",
       "<title>12</title>\n",
       "<path d=\"M462,-447.5C462,-447.5 363,-447.5 363,-447.5 357,-447.5 351,-441.5 351,-435.5 351,-435.5 351,-406.5 351,-406.5 351,-400.5 357,-394.5 363,-394.5 363,-394.5 462,-394.5 462,-394.5 468,-394.5 474,-400.5 474,-406.5 474,-406.5 474,-435.5 474,-435.5 474,-441.5 468,-447.5 462,-447.5\" fill=\"#e58139\" stroke=\"#000000\"/>\n",
       "<text fill=\"#000000\" font-family=\"Helvetica,sans-Serif\" font-size=\"14.00\" text-anchor=\"start\" x=\"383\" y=\"-432.3\">gini = 0.0</text>\n",
       "<text fill=\"#000000\" font-family=\"Helvetica,sans-Serif\" font-size=\"14.00\" text-anchor=\"start\" x=\"368.5\" y=\"-417.3\">samples = 15</text>\n",
       "<text fill=\"#000000\" font-family=\"Helvetica,sans-Serif\" font-size=\"14.00\" text-anchor=\"start\" x=\"359\" y=\"-402.3\">value = [15, 0, 0]</text>\n",
       "</g>\n",
       "<!-- 0&#45;&gt;12 -->\n",
       "<g class=\"edge\" id=\"edge12\">\n",
       "<title>0-&gt;12</title>\n",
       "<path d=\"M362.9995,-488.8089C370.6296,-478.3568 379.1315,-466.7103 386.9064,-456.0597\" fill=\"none\" stroke=\"#000000\"/>\n",
       "<polygon fill=\"#000000\" points=\"389.8861,-457.9141 392.9553,-447.7735 384.2323,-453.7868 389.8861,-457.9141\" stroke=\"#000000\"/>\n",
       "<text fill=\"#000000\" font-family=\"Helvetica,sans-Serif\" font-size=\"14.00\" text-anchor=\"middle\" x=\"396.8104\" y=\"-468.7745\">False</text>\n",
       "</g>\n",
       "<!-- 2 -->\n",
       "<g class=\"node\" id=\"node3\">\n",
       "<title>2</title>\n",
       "<path d=\"M247,-353C247,-353 148,-353 148,-353 142,-353 136,-347 136,-341 136,-341 136,-301 136,-301 136,-295 142,-289 148,-289 148,-289 247,-289 247,-289 253,-289 259,-295 259,-301 259,-301 259,-341 259,-341 259,-347 253,-353 247,-353\" fill=\"#8a47e7\" stroke=\"#000000\"/>\n",
       "<text fill=\"#000000\" font-family=\"Helvetica,sans-Serif\" font-size=\"14.00\" text-anchor=\"start\" x=\"159.5\" y=\"-338.8\">X</text>\n",
       "<text baseline-shift=\"sub\" fill=\"#000000\" font-family=\"Helvetica,sans-Serif\" font-size=\"14.00\" text-anchor=\"start\" x=\"169.5\" y=\"-338.8\">10</text>\n",
       "<text fill=\"#000000\" font-family=\"Helvetica,sans-Serif\" font-size=\"14.00\" text-anchor=\"start\" x=\"183.5\" y=\"-338.8\"> ≤ 0.955</text>\n",
       "<text fill=\"#000000\" font-family=\"Helvetica,sans-Serif\" font-size=\"14.00\" text-anchor=\"start\" x=\"159.5\" y=\"-324.8\">gini = 0.124</text>\n",
       "<text fill=\"#000000\" font-family=\"Helvetica,sans-Serif\" font-size=\"14.00\" text-anchor=\"start\" x=\"153.5\" y=\"-310.8\">samples = 15</text>\n",
       "<text fill=\"#000000\" font-family=\"Helvetica,sans-Serif\" font-size=\"14.00\" text-anchor=\"start\" x=\"144\" y=\"-296.8\">value = [0, 1, 14]</text>\n",
       "</g>\n",
       "<!-- 1&#45;&gt;2 -->\n",
       "<g class=\"edge\" id=\"edge2\">\n",
       "<title>1-&gt;2</title>\n",
       "<path d=\"M244.9662,-388.8089C238.8463,-380.0661 232.1413,-370.4876 225.7487,-361.3553\" fill=\"none\" stroke=\"#000000\"/>\n",
       "<polygon fill=\"#000000\" points=\"228.5935,-359.316 219.9915,-353.1308 222.8589,-363.3302 228.5935,-359.316\" stroke=\"#000000\"/>\n",
       "</g>\n",
       "<!-- 5 -->\n",
       "<g class=\"node\" id=\"node6\">\n",
       "<title>5</title>\n",
       "<path d=\"M388,-353C388,-353 289,-353 289,-353 283,-353 277,-347 277,-341 277,-341 277,-301 277,-301 277,-295 283,-289 289,-289 289,-289 388,-289 388,-289 394,-289 400,-295 400,-301 400,-301 400,-341 400,-341 400,-347 394,-353 388,-353\" fill=\"#5fea99\" stroke=\"#000000\"/>\n",
       "<text fill=\"#000000\" font-family=\"Helvetica,sans-Serif\" font-size=\"14.00\" text-anchor=\"start\" x=\"299.5\" y=\"-338.8\">X</text>\n",
       "<text baseline-shift=\"sub\" fill=\"#000000\" font-family=\"Helvetica,sans-Serif\" font-size=\"14.00\" text-anchor=\"start\" x=\"309.5\" y=\"-338.8\">0</text>\n",
       "<text fill=\"#000000\" font-family=\"Helvetica,sans-Serif\" font-size=\"14.00\" text-anchor=\"start\" x=\"316.5\" y=\"-338.8\"> ≤ 12.825</text>\n",
       "<text fill=\"#000000\" font-family=\"Helvetica,sans-Serif\" font-size=\"14.00\" text-anchor=\"start\" x=\"300.5\" y=\"-324.8\">gini = 0.288</text>\n",
       "<text fill=\"#000000\" font-family=\"Helvetica,sans-Serif\" font-size=\"14.00\" text-anchor=\"start\" x=\"294.5\" y=\"-310.8\">samples = 24</text>\n",
       "<text fill=\"#000000\" font-family=\"Helvetica,sans-Serif\" font-size=\"14.00\" text-anchor=\"start\" x=\"285\" y=\"-296.8\">value = [3, 20, 1]</text>\n",
       "</g>\n",
       "<!-- 1&#45;&gt;5 -->\n",
       "<g class=\"edge\" id=\"edge5\">\n",
       "<title>1-&gt;5</title>\n",
       "<path d=\"M290.3557,-388.8089C296.5631,-380.0661 303.3638,-370.4876 309.8477,-361.3553\" fill=\"none\" stroke=\"#000000\"/>\n",
       "<polygon fill=\"#000000\" points=\"312.7517,-363.3108 315.6872,-353.1308 307.0441,-359.2584 312.7517,-363.3108\" stroke=\"#000000\"/>\n",
       "</g>\n",
       "<!-- 3 -->\n",
       "<g class=\"node\" id=\"node4\">\n",
       "<title>3</title>\n",
       "<path d=\"M111,-247.5C111,-247.5 12,-247.5 12,-247.5 6,-247.5 0,-241.5 0,-235.5 0,-235.5 0,-206.5 0,-206.5 0,-200.5 6,-194.5 12,-194.5 12,-194.5 111,-194.5 111,-194.5 117,-194.5 123,-200.5 123,-206.5 123,-206.5 123,-235.5 123,-235.5 123,-241.5 117,-247.5 111,-247.5\" fill=\"#8139e5\" stroke=\"#000000\"/>\n",
       "<text fill=\"#000000\" font-family=\"Helvetica,sans-Serif\" font-size=\"14.00\" text-anchor=\"start\" x=\"32\" y=\"-232.3\">gini = 0.0</text>\n",
       "<text fill=\"#000000\" font-family=\"Helvetica,sans-Serif\" font-size=\"14.00\" text-anchor=\"start\" x=\"17.5\" y=\"-217.3\">samples = 14</text>\n",
       "<text fill=\"#000000\" font-family=\"Helvetica,sans-Serif\" font-size=\"14.00\" text-anchor=\"start\" x=\"8\" y=\"-202.3\">value = [0, 0, 14]</text>\n",
       "</g>\n",
       "<!-- 2&#45;&gt;3 -->\n",
       "<g class=\"edge\" id=\"edge3\">\n",
       "<title>2-&gt;3</title>\n",
       "<path d=\"M153.7201,-288.8089C138.52,-277.6324 121.4627,-265.0902 106.19,-253.8603\" fill=\"none\" stroke=\"#000000\"/>\n",
       "<polygon fill=\"#000000\" points=\"108.0419,-250.8777 97.912,-247.7735 103.8951,-256.5172 108.0419,-250.8777\" stroke=\"#000000\"/>\n",
       "</g>\n",
       "<!-- 4 -->\n",
       "<g class=\"node\" id=\"node5\">\n",
       "<title>4</title>\n",
       "<path d=\"M244,-247.5C244,-247.5 153,-247.5 153,-247.5 147,-247.5 141,-241.5 141,-235.5 141,-235.5 141,-206.5 141,-206.5 141,-200.5 147,-194.5 153,-194.5 153,-194.5 244,-194.5 244,-194.5 250,-194.5 256,-200.5 256,-206.5 256,-206.5 256,-235.5 256,-235.5 256,-241.5 250,-247.5 244,-247.5\" fill=\"#39e581\" stroke=\"#000000\"/>\n",
       "<text fill=\"#000000\" font-family=\"Helvetica,sans-Serif\" font-size=\"14.00\" text-anchor=\"start\" x=\"169\" y=\"-232.3\">gini = 0.0</text>\n",
       "<text fill=\"#000000\" font-family=\"Helvetica,sans-Serif\" font-size=\"14.00\" text-anchor=\"start\" x=\"159\" y=\"-217.3\">samples = 1</text>\n",
       "<text fill=\"#000000\" font-family=\"Helvetica,sans-Serif\" font-size=\"14.00\" text-anchor=\"start\" x=\"149\" y=\"-202.3\">value = [0, 1, 0]</text>\n",
       "</g>\n",
       "<!-- 2&#45;&gt;4 -->\n",
       "<g class=\"edge\" id=\"edge4\">\n",
       "<title>2-&gt;4</title>\n",
       "<path d=\"M197.8219,-288.8089C197.9202,-278.9777 198.0291,-268.0898 198.1303,-257.9679\" fill=\"none\" stroke=\"#000000\"/>\n",
       "<polygon fill=\"#000000\" points=\"201.632,-257.8081 198.2323,-247.7735 194.6323,-257.738 201.632,-257.8081\" stroke=\"#000000\"/>\n",
       "</g>\n",
       "<!-- 6 -->\n",
       "<g class=\"node\" id=\"node7\">\n",
       "<title>6</title>\n",
       "<path d=\"M387,-247.5C387,-247.5 288,-247.5 288,-247.5 282,-247.5 276,-241.5 276,-235.5 276,-235.5 276,-206.5 276,-206.5 276,-200.5 282,-194.5 288,-194.5 288,-194.5 387,-194.5 387,-194.5 393,-194.5 399,-200.5 399,-206.5 399,-206.5 399,-235.5 399,-235.5 399,-241.5 393,-247.5 387,-247.5\" fill=\"#39e581\" stroke=\"#000000\"/>\n",
       "<text fill=\"#000000\" font-family=\"Helvetica,sans-Serif\" font-size=\"14.00\" text-anchor=\"start\" x=\"308\" y=\"-232.3\">gini = 0.0</text>\n",
       "<text fill=\"#000000\" font-family=\"Helvetica,sans-Serif\" font-size=\"14.00\" text-anchor=\"start\" x=\"293.5\" y=\"-217.3\">samples = 17</text>\n",
       "<text fill=\"#000000\" font-family=\"Helvetica,sans-Serif\" font-size=\"14.00\" text-anchor=\"start\" x=\"284\" y=\"-202.3\">value = [0, 17, 0]</text>\n",
       "</g>\n",
       "<!-- 5&#45;&gt;6 -->\n",
       "<g class=\"edge\" id=\"edge6\">\n",
       "<title>5-&gt;6</title>\n",
       "<path d=\"M338.1781,-288.8089C338.0798,-278.9777 337.9709,-268.0898 337.8697,-257.9679\" fill=\"none\" stroke=\"#000000\"/>\n",
       "<polygon fill=\"#000000\" points=\"341.3677,-257.738 337.7677,-247.7735 334.368,-257.8081 341.3677,-257.738\" stroke=\"#000000\"/>\n",
       "</g>\n",
       "<!-- 7 -->\n",
       "<g class=\"node\" id=\"node8\">\n",
       "<title>7</title>\n",
       "<path d=\"M520,-253C520,-253 429,-253 429,-253 423,-253 417,-247 417,-241 417,-241 417,-201 417,-201 417,-195 423,-189 429,-189 429,-189 520,-189 520,-189 526,-189 532,-195 532,-201 532,-201 532,-241 532,-241 532,-247 526,-253 520,-253\" fill=\"#ffffff\" stroke=\"#000000\"/>\n",
       "<text fill=\"#000000\" font-family=\"Helvetica,sans-Serif\" font-size=\"14.00\" text-anchor=\"start\" x=\"444\" y=\"-238.8\">X</text>\n",
       "<text baseline-shift=\"sub\" fill=\"#000000\" font-family=\"Helvetica,sans-Serif\" font-size=\"14.00\" text-anchor=\"start\" x=\"454\" y=\"-238.8\">4</text>\n",
       "<text fill=\"#000000\" font-family=\"Helvetica,sans-Serif\" font-size=\"14.00\" text-anchor=\"start\" x=\"461\" y=\"-238.8\"> ≤ 95.0</text>\n",
       "<text fill=\"#000000\" font-family=\"Helvetica,sans-Serif\" font-size=\"14.00\" text-anchor=\"start\" x=\"436.5\" y=\"-224.8\">gini = 0.612</text>\n",
       "<text fill=\"#000000\" font-family=\"Helvetica,sans-Serif\" font-size=\"14.00\" text-anchor=\"start\" x=\"435\" y=\"-210.8\">samples = 7</text>\n",
       "<text fill=\"#000000\" font-family=\"Helvetica,sans-Serif\" font-size=\"14.00\" text-anchor=\"start\" x=\"425\" y=\"-196.8\">value = [3, 3, 1]</text>\n",
       "</g>\n",
       "<!-- 5&#45;&gt;7 -->\n",
       "<g class=\"edge\" id=\"edge7\">\n",
       "<title>5-&gt;7</title>\n",
       "<path d=\"M382.2799,-288.8089C395.1407,-279.3524 409.3312,-268.9182 422.6453,-259.1285\" fill=\"none\" stroke=\"#000000\"/>\n",
       "<polygon fill=\"#000000\" points=\"424.819,-261.8745 430.8022,-253.1308 420.6723,-256.2349 424.819,-261.8745\" stroke=\"#000000\"/>\n",
       "</g>\n",
       "<!-- 8 -->\n",
       "<g class=\"node\" id=\"node9\">\n",
       "<title>8</title>\n",
       "<path d=\"M453,-147.5C453,-147.5 362,-147.5 362,-147.5 356,-147.5 350,-141.5 350,-135.5 350,-135.5 350,-106.5 350,-106.5 350,-100.5 356,-94.5 362,-94.5 362,-94.5 453,-94.5 453,-94.5 459,-94.5 465,-100.5 465,-106.5 465,-106.5 465,-135.5 465,-135.5 465,-141.5 459,-147.5 453,-147.5\" fill=\"#39e581\" stroke=\"#000000\"/>\n",
       "<text fill=\"#000000\" font-family=\"Helvetica,sans-Serif\" font-size=\"14.00\" text-anchor=\"start\" x=\"378\" y=\"-132.3\">gini = 0.0</text>\n",
       "<text fill=\"#000000\" font-family=\"Helvetica,sans-Serif\" font-size=\"14.00\" text-anchor=\"start\" x=\"368\" y=\"-117.3\">samples = 3</text>\n",
       "<text fill=\"#000000\" font-family=\"Helvetica,sans-Serif\" font-size=\"14.00\" text-anchor=\"start\" x=\"358\" y=\"-102.3\">value = [0, 3, 0]</text>\n",
       "</g>\n",
       "<!-- 7&#45;&gt;8 -->\n",
       "<g class=\"edge\" id=\"edge8\">\n",
       "<title>7-&gt;8</title>\n",
       "<path d=\"M452.932,-188.8089C445.9984,-178.4603 438.2803,-166.9408 431.2022,-156.3764\" fill=\"none\" stroke=\"#000000\"/>\n",
       "<polygon fill=\"#000000\" points=\"433.9122,-154.1331 425.4383,-147.7735 428.0968,-158.0294 433.9122,-154.1331\" stroke=\"#000000\"/>\n",
       "</g>\n",
       "<!-- 9 -->\n",
       "<g class=\"node\" id=\"node10\">\n",
       "<title>9</title>\n",
       "<path d=\"M586,-153C586,-153 495,-153 495,-153 489,-153 483,-147 483,-141 483,-141 483,-101 483,-101 483,-95 489,-89 495,-89 495,-89 586,-89 586,-89 592,-89 598,-95 598,-101 598,-101 598,-141 598,-141 598,-147 592,-153 586,-153\" fill=\"#eeab7b\" stroke=\"#000000\"/>\n",
       "<text fill=\"#000000\" font-family=\"Helvetica,sans-Serif\" font-size=\"14.00\" text-anchor=\"start\" x=\"514\" y=\"-138.8\">X</text>\n",
       "<text baseline-shift=\"sub\" fill=\"#000000\" font-family=\"Helvetica,sans-Serif\" font-size=\"14.00\" text-anchor=\"start\" x=\"524\" y=\"-138.8\">7</text>\n",
       "<text fill=\"#000000\" font-family=\"Helvetica,sans-Serif\" font-size=\"14.00\" text-anchor=\"start\" x=\"531\" y=\"-138.8\"> ≤ 0.5</text>\n",
       "<text fill=\"#000000\" font-family=\"Helvetica,sans-Serif\" font-size=\"14.00\" text-anchor=\"start\" x=\"502.5\" y=\"-124.8\">gini = 0.375</text>\n",
       "<text fill=\"#000000\" font-family=\"Helvetica,sans-Serif\" font-size=\"14.00\" text-anchor=\"start\" x=\"501\" y=\"-110.8\">samples = 4</text>\n",
       "<text fill=\"#000000\" font-family=\"Helvetica,sans-Serif\" font-size=\"14.00\" text-anchor=\"start\" x=\"491\" y=\"-96.8\">value = [3, 0, 1]</text>\n",
       "</g>\n",
       "<!-- 7&#45;&gt;9 -->\n",
       "<g class=\"edge\" id=\"edge9\">\n",
       "<title>7-&gt;9</title>\n",
       "<path d=\"M495.7461,-188.8089C501.4575,-180.1553 507.7092,-170.683 513.6809,-161.635\" fill=\"none\" stroke=\"#000000\"/>\n",
       "<polygon fill=\"#000000\" points=\"516.7064,-163.4048 519.2937,-153.1308 510.8641,-159.5489 516.7064,-163.4048\" stroke=\"#000000\"/>\n",
       "</g>\n",
       "<!-- 10 -->\n",
       "<g class=\"node\" id=\"node11\">\n",
       "<title>10</title>\n",
       "<path d=\"M519,-53C519,-53 428,-53 428,-53 422,-53 416,-47 416,-41 416,-41 416,-12 416,-12 416,-6 422,0 428,0 428,0 519,0 519,0 525,0 531,-6 531,-12 531,-12 531,-41 531,-41 531,-47 525,-53 519,-53\" fill=\"#e58139\" stroke=\"#000000\"/>\n",
       "<text fill=\"#000000\" font-family=\"Helvetica,sans-Serif\" font-size=\"14.00\" text-anchor=\"start\" x=\"444\" y=\"-37.8\">gini = 0.0</text>\n",
       "<text fill=\"#000000\" font-family=\"Helvetica,sans-Serif\" font-size=\"14.00\" text-anchor=\"start\" x=\"434\" y=\"-22.8\">samples = 3</text>\n",
       "<text fill=\"#000000\" font-family=\"Helvetica,sans-Serif\" font-size=\"14.00\" text-anchor=\"start\" x=\"424\" y=\"-7.8\">value = [3, 0, 0]</text>\n",
       "</g>\n",
       "<!-- 9&#45;&gt;10 -->\n",
       "<g class=\"edge\" id=\"edge10\">\n",
       "<title>9-&gt;10</title>\n",
       "<path d=\"M517.6298,-88.7428C511.4246,-79.9906 504.6765,-70.4728 498.3669,-61.5735\" fill=\"none\" stroke=\"#000000\"/>\n",
       "<polygon fill=\"#000000\" points=\"501.123,-59.4093 492.4839,-53.2759 495.4126,-63.4579 501.123,-59.4093\" stroke=\"#000000\"/>\n",
       "</g>\n",
       "<!-- 11 -->\n",
       "<g class=\"node\" id=\"node12\">\n",
       "<title>11</title>\n",
       "<path d=\"M652,-53C652,-53 561,-53 561,-53 555,-53 549,-47 549,-41 549,-41 549,-12 549,-12 549,-6 555,0 561,0 561,0 652,0 652,0 658,0 664,-6 664,-12 664,-12 664,-41 664,-41 664,-47 658,-53 652,-53\" fill=\"#8139e5\" stroke=\"#000000\"/>\n",
       "<text fill=\"#000000\" font-family=\"Helvetica,sans-Serif\" font-size=\"14.00\" text-anchor=\"start\" x=\"577\" y=\"-37.8\">gini = 0.0</text>\n",
       "<text fill=\"#000000\" font-family=\"Helvetica,sans-Serif\" font-size=\"14.00\" text-anchor=\"start\" x=\"567\" y=\"-22.8\">samples = 1</text>\n",
       "<text fill=\"#000000\" font-family=\"Helvetica,sans-Serif\" font-size=\"14.00\" text-anchor=\"start\" x=\"557\" y=\"-7.8\">value = [0, 0, 1]</text>\n",
       "</g>\n",
       "<!-- 9&#45;&gt;11 -->\n",
       "<g class=\"edge\" id=\"edge11\">\n",
       "<title>9-&gt;11</title>\n",
       "<path d=\"M563.0289,-88.7428C569.1415,-79.9906 575.7888,-70.4728 582.0042,-61.5735\" fill=\"none\" stroke=\"#000000\"/>\n",
       "<polygon fill=\"#000000\" points=\"584.9429,-63.4784 587.7994,-53.2759 579.204,-59.4702 584.9429,-63.4784\" stroke=\"#000000\"/>\n",
       "</g>\n",
       "</g>\n",
       "</svg>"
      ],
      "text/plain": [
       "<IPython.core.display.SVG object>"
      ]
     },
     "execution_count": 43,
     "metadata": {
      "tags": []
     },
     "output_type": "execute_result"
    }
   ],
   "source": [
    "from IPython.display import SVG\n",
    "dot_data = export_graphviz(classifier, out_file=None,          \n",
    "                           filled=True, rounded=True,  \n",
    "                           special_characters=True)  \n",
    "graph = graphviz.Source(dot_data)\n",
    "SVG(graph.pipe(format='svg'))"
   ]
  },
  {
   "cell_type": "markdown",
   "metadata": {
    "colab_type": "text",
    "id": "ZLxrlq70XcQG"
   },
   "source": [
    "9. ¿Cuales son las características más importantes del modelo?"
   ]
  },
  {
   "cell_type": "code",
   "execution_count": 44,
   "metadata": {
    "colab": {
     "base_uri": "https://localhost:8080/",
     "height": 68
    },
    "colab_type": "code",
    "executionInfo": {
     "elapsed": 1269,
     "status": "ok",
     "timestamp": 1559068290904,
     "user": {
      "displayName": "Campo Elias Pinillos Galindo",
      "photoUrl": "",
      "userId": "08953649556123474687"
     },
     "user_tz": 300
    },
    "id": "Kj8bisOBY7sY",
    "outputId": "430eeafc-d265-4df8-dc93-87a8ebfd11a5"
   },
   "outputs": [
    {
     "data": {
      "text/plain": [
       "array([0.07376502, 0.        , 0.        , 0.        , 0.07810414,\n",
       "       0.        , 0.        , 0.04205607, 0.        , 0.        ,\n",
       "       0.05233645, 0.36193386, 0.39180446])"
      ]
     },
     "execution_count": 44,
     "metadata": {
      "tags": []
     },
     "output_type": "execute_result"
    }
   ],
   "source": [
    "classifier.feature_importances_"
   ]
  },
  {
   "cell_type": "markdown",
   "metadata": {
    "colab_type": "text",
    "id": "f154UZFoZJ6-"
   },
   "source": [
    "**Respuesta: Las caracteristicas más importantes son las indexadas con los indices 0, 8,11 y 12. Es decir, 'Alcohol',  ' Proanthocyanins', ' OD280/OD315', ' Proline    '**"
   ]
  },
  {
   "cell_type": "markdown",
   "metadata": {
    "colab_type": "text",
    "id": "Sdv-LOofXcWQ"
   },
   "source": [
    "10. Exprese 5 reglas de decisión con base al árbol entrenado.\n"
   ]
  },
  {
   "cell_type": "markdown",
   "metadata": {
    "colab_type": "text",
    "id": "zRV8yZKyZ67P"
   },
   "source": [
    "1. Si proline es menor a 953.5 revise ' OD280/OD315.\n",
    "2. Si proline no es menor a 953.5 entonces clasificación \"Clase 1\".\n",
    "3. Si ' OD280/OD315 es  menor  2.1285 revise Proanthocyanins' de lo contrario revise 'Alcohol\n",
    "4. Si Proanthocyanins' es menor o igual a 0.485 clasifique en \"Clase 2\".\n",
    "5. Si Alconhol es menor a 12.825 clasifique en \"Clase 2\"."
   ]
  }
 ],
 "metadata": {
  "colab": {
   "collapsed_sections": [],
   "name": "Campo_Pinillos.ipynb",
   "provenance": [],
   "toc_visible": true,
   "version": "0.3.2"
  },
  "kernelspec": {
   "display_name": "Python 3",
   "language": "python",
   "name": "python3"
  },
  "language_info": {
   "codemirror_mode": {
    "name": "ipython",
    "version": 3
   },
   "file_extension": ".py",
   "mimetype": "text/x-python",
   "name": "python",
   "nbconvert_exporter": "python",
   "pygments_lexer": "ipython3",
   "version": "3.7.1"
  }
 },
 "nbformat": 4,
 "nbformat_minor": 1
}
